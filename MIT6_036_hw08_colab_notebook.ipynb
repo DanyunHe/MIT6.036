{
  "nbformat": 4,
  "nbformat_minor": 0,
  "metadata": {
    "colab": {
      "name": "MIT6.036 hw08 colab notebook",
      "version": "0.3.2",
      "provenance": [],
      "collapsed_sections": [
        "v-sSs7N4mMiX",
        "Zh4u39OCjLza"
      ],
      "include_colab_link": true
    },
    "kernelspec": {
      "name": "python3",
      "display_name": "Python 3"
    },
    "accelerator": "GPU"
  },
  "cells": [
    {
      "cell_type": "markdown",
      "metadata": {
        "id": "view-in-github",
        "colab_type": "text"
      },
      "source": [
        "<a href=\"https://colab.research.google.com/github/DanyunHe/MIT6.036/blob/master/MIT6_036_hw08_colab_notebook.ipynb\" target=\"_parent\"><img src=\"https://colab.research.google.com/assets/colab-badge.svg\" alt=\"Open In Colab\"/></a>"
      ]
    },
    {
      "metadata": {
        "id": "_xIaEwCD406A",
        "colab_type": "text"
      },
      "cell_type": "markdown",
      "source": [
        "#MIT 6.036 Spring 2019: Homework 8#\n",
        "\n",
        "This colab notebook provides code and a framework for [homework 8](https://lms.mitx.mit.edu/courses/course-v1:MITx+6.036+2019_Spring/courseware/Week8/week8_homework/).  You can work out your solutions here, then submit your results back on the homework page when ready.\n",
        "\n",
        "## <section>**Setup**</section>\n",
        "\n",
        "First, download the code distribution for this homework that contains test cases and helper functions.\n",
        "\n",
        "Run the next code block to download and import the code for this lab.\n"
      ]
    },
    {
      "metadata": {
        "id": "2YM-_zLf9Bp-",
        "colab_type": "code",
        "outputId": "8c80ae12-7b14-46d4-f822-9a5eb9b9a95d",
        "colab": {
          "base_uri": "https://localhost:8080/",
          "height": 437
        }
      },
      "cell_type": "code",
      "source": [
        "!rm -rf code_for_hw8* __MACOSX data .DS_Store\n",
        "!wget --quiet https://introml.odl.mit.edu/cat-soop/_static/6.036/homework/hw08/code_for_hw8.zip\n",
        "!unzip code_for_hw8.zip\n",
        "!mv code_for_hw8/* .\n",
        "\n",
        "from code_for_hw8_oop import *\n",
        "import numpy as np\n",
        "import math as m"
      ],
      "execution_count": 3,
      "outputs": [
        {
          "output_type": "stream",
          "text": [
            "Archive:  code_for_hw8.zip\n",
            "   creating: code_for_hw8/\n",
            "  inflating: code_for_hw8/.DS_Store  \n",
            "   creating: __MACOSX/\n",
            "   creating: __MACOSX/code_for_hw8/\n",
            "  inflating: __MACOSX/code_for_hw8/._.DS_Store  \n",
            "  inflating: code_for_hw8/code_for_hw8_oop.py  \n",
            "  inflating: __MACOSX/code_for_hw8/._code_for_hw8_oop.py  \n",
            "   creating: code_for_hw8/data/\n",
            "  inflating: code_for_hw8/data/data3_train.csv  \n",
            "   creating: __MACOSX/code_for_hw8/data/\n",
            "  inflating: __MACOSX/code_for_hw8/data/._data3_train.csv  \n",
            "  inflating: code_for_hw8/data/data4_train.csv  \n",
            "  inflating: code_for_hw8/data/data4_validate.csv  \n",
            "  inflating: code_for_hw8/data/data3_validate.csv  \n",
            "  inflating: code_for_hw8/data/dataXor_train.csv  \n",
            "  inflating: code_for_hw8/data/data2_train.csv  \n",
            "  inflating: code_for_hw8/data/data2_validate.csv  \n",
            "  inflating: code_for_hw8/data/data3class_train.csv  \n",
            "  inflating: code_for_hw8/data/data1_validate.csv  \n",
            "  inflating: code_for_hw8/data/data1_train.csv  \n",
            "  inflating: code_for_hw8/code_for_hw8_keras.py  \n",
            "  inflating: __MACOSX/code_for_hw8/._code_for_hw8_keras.py  \n"
          ],
          "name": "stdout"
        }
      ]
    },
    {
      "metadata": {
        "id": "q9yVU74AuUU-",
        "colab_type": "text"
      },
      "cell_type": "markdown",
      "source": [
        "# 1) Batch Normalization\n",
        "No code involved,  <a href=\"https://lms.mitx.mit.edu/courses/course-v1:MITx+6.036+2019_Spring/courseware/Week8/week8_homework/\">Refer to Catsoop.</a>"
      ]
    },
    {
      "metadata": {
        "id": "v-sSs7N4mMiX",
        "colab_type": "text"
      },
      "cell_type": "markdown",
      "source": [
        "# 2) Implementing Mini-batch Gradient Descent and Batch Normalization (OPTIONAL)\n",
        "\n",
        "** Note: You can click the arrow on the left of this text block to collapse/expand this optional section and all its code blocks **\n",
        "\n",
        "Last week we implemented a framework for building neural networks from scratch. We trained our models using *stochastic* gradient descent. In this problem, we explore how we can implement batch normalization as a module `BatchNorm` in our framework. It is the same module which you analyzed in problem 1. "
      ]
    },
    {
      "metadata": {
        "id": "HgxmIfXVmVwd",
        "colab_type": "text"
      },
      "cell_type": "markdown",
      "source": [
        "Key to the concept of batch normalization is the doing gradient descent on batches of data. So we instead of using last week's stochastic gradient descent, we will first implement the *mini-batch* gradient descent method `mini_gd`, which is a hybrid between *stochastic* gradient descent and *batch* gradient descent. The lecture notes on <a href=\"https://lms.mitx.mit.edu/courses/course-v1:MITx+6.036+2019_Spring/courseware/Week7/neural_networks_2/1?activate_block_id=block-v1%3AMITx%2B6.036%2B2019_Spring%2Btype%40vertical%2Bblock%40neural_networks_2_optimizing_neural_network_parameters_vert\"> optimizing neural network parameters</a> are helpful for this part.\n",
        "\n",
        "In *mini-batch* gradient descent, for a mini-batch of size $K$, we select $K$ distinct data points uniformly at random from the data set and update the network weights based only on their contributions to the gradient:\n",
        "$$W := W - \\eta\\sum_{i=1}^K \\nabla_W \\mathcal{L}(h(x^{(i)}; W), y^{(i)})\\;\\;.$$\n",
        "\n",
        "Our *mini-batch* method `mini_gd` will be implemented within the `Sequential` python class (see homework 7 problem 2) and will take the following as inputs:\n",
        "\n",
        "* `X`: a standard data array (d by n)\n",
        "* `y`: a standard labels row vector (1 by n)\n",
        "* `iters`: the number of updates to perform on weights $W$\n",
        "* `lrate`: the learning rate used\n",
        "* `K`: the mini-batch size to be used\n",
        "\n",
        "One call of `mini_gd` should call `Sequential.backward` for back-propagation and `Sequential.step` for updating the weights, for a total of `iters` times, using `lrate` as the learning rate. As in our implementation of `sgd` from homework 7, we compute the predicted output for a mini-batch of data with the `Sequential.forward` method. We compute the loss between our predictions and the true labels using the assigned `Sequential.loss` method. (Note that in homework 7, `Sequential.step` was called `Sequential.sgd_step`. While the functionality of the step function is the same, it has been renamed for convenience. The same is true for the `module.step` function of each module we implemented, where applicable.)\n",
        "\n",
        "For picking $K$ unique data points at random from our large data-set for each mini-batch, we will implement the following strategy: we will first shuffle our data points `X` (and associated labels `y`). Then, we get <math>\\frac{n}{k}</math> (rounded down to the nearest integer) different mini-batches by grouping each $K$ consecutive points from this shuffled array. If we end up iterating over all the points but need more mini-batches, we will repeat the shuffling and the batching process."
      ]
    },
    {
      "metadata": {
        "id": "Dr1kWI08mdo4",
        "colab_type": "text"
      },
      "cell_type": "markdown",
      "source": [
        "<b>2A)</b>You need to fill in the missing code below. We have implemented the shuffling of indices and have provided you with the outer and inner loops."
      ]
    },
    {
      "metadata": {
        "id": "h_lvmO9Z22bH",
        "colab_type": "text"
      },
      "cell_type": "markdown",
      "source": [
        "** This OPTIONAL problem has you extend your homework 7 implementation for building neural networks. **\n",
        "### PLEASE COPY IN YOUR CODE FROM HOMEWORK 7 TO COMPLEMENT THE CLASSES GIVEN HERE\n",
        "\n",
        "Recall that your implementation from homework 7 included the following classes:\n",
        "    \n",
        "  * Module\n",
        "  * Linear \n",
        "  * Tanh \n",
        "  * ReLU \n",
        "  * SoftMax\n",
        "  * NLL\n",
        "  * Sequential"
      ]
    },
    {
      "metadata": {
        "id": "ovtbqrrSmezE",
        "colab_type": "code",
        "colab": {}
      },
      "cell_type": "code",
      "source": [
        "import math as m \n",
        "\n",
        "class Sequential:\n",
        "    def __init__(self, modules, loss):            \n",
        "        self.modules = modules\n",
        "        self.loss = loss\n",
        "\n",
        "    def mini_gd(self, X, Y, iters, lrate, notif_each=None, K=10):\n",
        "        D, N = X.shape\n",
        "\n",
        "        np.random.seed(0)\n",
        "        num_updates = 0\n",
        "        indices = np.arange(N)\n",
        "        while num_updates < iters:\n",
        "\n",
        "            np.random.shuffle(indices)\n",
        "            X = None  # Your code\n",
        "            Y = None  # Your code\n",
        "\n",
        "            for j in range(m.floor(N/K)):\n",
        "                if num_updates >= iters: break\n",
        "\n",
        "                # Implement the main part of mini_gd here\n",
        "                # Your code\n",
        "                \n",
        "                num_updates += 1\n",
        "\n",
        "    def forward(self, Xt):                        \n",
        "        for m in self.modules: Xt = m.forward(Xt)\n",
        "        return Xt\n",
        "\n",
        "    def backward(self, delta):                   \n",
        "        for m in self.modules[::-1]: delta = m.backward(delta)\n",
        "\n",
        "    def step(self, lrate):    \n",
        "        for m in self.modules: m.step(lrate)"
      ],
      "execution_count": 0,
      "outputs": []
    },
    {
      "metadata": {
        "id": "1JZeeKXkm6YI",
        "colab_type": "text"
      },
      "cell_type": "markdown",
      "source": [
        "<b>2B)</b> We are now ready to implement batch normalization into our neural network framework! Our module `BatchNorm` will sit between consecutive layers of neurons, such as the $l^{th}$ and $(l+1)^{th}$ layers, acting as a \"corrector\" which allows $W^l$ to change freely, producing outputs $z^l$, but then the module corrects the covariate shift induced in the signals before they reach the $(l+1)^{th}$ layer, converting $z^l$ to $\\widehat{Z}^l$. \n",
        "\n",
        "The following is a summmary what is described in the <a href=\"https://lms.mitx.mit.edu/courses/course-v1:MITx+6.036+2019_Spring/courseware/Week7/neural_networks_2/2\">lecture notes</a>, and it should guide your implementation of the module. \n",
        "\n",
        "Any normalization between the $l^{th}$ and $(l+1)^{th}$ layers is done *separately* for each of the $n^l$ input connections leading to the $(l+1)^{th}$ layer. We handle a mini-batch of data of size $K$, and $Z^l$ is $n^l \\times K$, and the output $\\widehat{Z}^l$is of the same shape. \n",
        "\n",
        "We first compute $n^l$ *batchwise* means and\n",
        "standard deviations.  Let $\\mu^l$ be the $n^l \\times 1$ vector (`self.mus`) where\n",
        "$$\\mu^l_i = \\frac{1}{K} \\sum_{j = 1}^K Z^l_{ij}\\;\\;,$$\n",
        "and let $\\sigma^l$ be the $n^l \\times 1$ vector (`self.vars`) where \n",
        "$$\\sigma^l_i = \\sqrt{\\frac{1}{K} \\sum_{j = 1}^K (Z^l_{ij} - \\mu_i)^2}\\;\\;.$$\n",
        "\n",
        "The normalized data `self.norm` is the matrix $\\overline{Z}$, where\n",
        "$$\\overline{Z}^l_{ij} = \\frac{Z^l_{ij} - \\mu^l_i}{\\sigma^l_i + \\epsilon}\\;\\;,$$\n",
        "and where $\\epsilon$ is a very small constant to guard against division by\n",
        "zero. \n",
        "\n",
        "We define weights $G^l$ (`self.G`) and $B^l$ (`self.B`), each being an $n^l \\times 1$ vector, which we use to to shift and scale the outputs:\n",
        "$$\\widehat{Z}^l_{ij} = G^l_i \\overline{Z}^l_{ij} + B^l_i\\;\\;.$$\n",
        "\n",
        "The outputs are finally ready to be passed to the $(l+1)^{th}$ layer.\n",
        "\n",
        "A slight warning (that we will not worry about here) about `BatchNorm` is that during the *test* phase, if the test mini-batch size is too small (imagine we are deploying a neural network that deals with live video frames), then the lack of samples would cause the freshly-calculated $\\mu^l$ and $\\sigma^l$ to be far off from their true values that the module's parameters $G^l$ and $B^l$ were trained to be compatible with. To fix that, people usually compute a running average of $\\mu^l$ and $\\sigma^l$ during training, to be used at test time. We will assume our test mini-batches are large enough.\n",
        "\n",
        "In this problem we only implement the `BatchNorm.forward` and `BatchNorm.step` methods. We provide you with the implementation for `BatchNorm.backward` and the lecture notes contain the details of the derivations. You will need to fill in the missing code below."
      ]
    },
    {
      "metadata": {
        "id": "UlXP26plm8R7",
        "colab_type": "code",
        "colab": {}
      },
      "cell_type": "code",
      "source": [
        "class BatchNorm(Module):    \n",
        "    def __init__(self, m):\n",
        "        np.random.seed(0)\n",
        "        self.eps = 1e-20\n",
        "        self.m = m  # number of input channels\n",
        "        \n",
        "        # Init learned shifts and scaling factors\n",
        "        self.B = np.zeros([self.m, 1])\n",
        "        self.G = np.random.normal(0, 1.0 * self.m ** (-.5), [self.m, 1])\n",
        "        \n",
        "    # Works on m x b matrices of m input channels and b different inputs\n",
        "    def forward(self, A):# A is m x K: m input channels and mini-batch size K\n",
        "        # Store last inputs and K for next backward() call\n",
        "        self.A = A\n",
        "        self.K = A.shape[1]\n",
        "        \n",
        "        self.mus = None  # Your Code\n",
        "        self.vars = None  # Your Code\n",
        "\n",
        "        # Normalize inputs using their mean and standard deviation\n",
        "        self.norm = None  # Your Code\n",
        "            \n",
        "        # Return scaled and shifted versions of self.norm\n",
        "        return None  # Your Code\n",
        "\n",
        "    def backward(self, dLdZ):\n",
        "        # Re-usable constants\n",
        "        std_inv = 1/np.sqrt(self.vars+self.eps)\n",
        "        A_min_mu = self.A-self.mus\n",
        "        \n",
        "        dLdnorm = dLdZ * self.G\n",
        "        dLdVar = np.sum(dLdnorm * A_min_mu * -0.5 * std_inv**3, axis=1, keepdims=True)\n",
        "        dLdMu = np.sum(dLdnorm*(-std_inv), axis=1, keepdims=True) + dLdVar * (-2/self.K) * np.sum(A_min_mu, axis=1, keepdims=True)\n",
        "        dLdX = (dLdnorm * std_inv) + (dLdVar * (2/self.K) * A_min_mu) + (dLdMu/self.K)\n",
        "        \n",
        "        self.dLdB = np.sum(dLdZ, axis=1, keepdims=True)\n",
        "        self.dLdG = np.sum(dLdZ * self.norm, axis=1, keepdims=True)\n",
        "        return dLdX\n",
        "\n",
        "    def step(self, lrate):\n",
        "        self.B = None  # Your Code\n",
        "        self.G = None  # Your Code\n",
        "        return"
      ],
      "execution_count": 0,
      "outputs": []
    },
    {
      "metadata": {
        "id": "65LKUAHD_77Y",
        "colab_type": "text"
      },
      "cell_type": "markdown",
      "source": [
        "# 3) 2D Datasets\n",
        "\n",
        "For the 2D datasets, we have provided the following function:\n",
        "\n",
        "\n",
        "```\n",
        "run_keras_2d(data_name, layers, epochs, split=0.25, display=True, trials=5)\n",
        "```\n",
        "\n",
        "\n",
        "where:\n",
        "\n",
        "data_name is a string, such as '1', '2', etc.\n",
        "layers is a list of Keras layer definitions for a Sequential model, e.g. \n",
        "```\n",
        "[Dense(input_dim=2, units=10, activation='relu'), Dense(units=2, activation='softmax')]\n",
        "```\n",
        "\n",
        "epochs is an integer indicating how many times to go through the data in training\n",
        "split is a fraction of the training data to use for validation if a validation set is not defined\n",
        "display whether to display result plots\n",
        "verbose whether to print loss and accuracy (percent correctly labeled) each epoch\n",
        "trials is an integer indicating how many times to perform the training and testing\n",
        "2D Data\n",
        "The two-class datasets have data_names: '1','2','3','4'. Target accuracies (percent correct) on the validation set are (99%, 90.5%, 96%, 94%).\n",
        "\n",
        "In this problem, try the following 5 architectures, specified by the number of units in the hidden layers:\n",
        "\n",
        "1: (0), 2: (10), 3: (100), 4: (10, 10), 5: (100, 100))\n",
        "You may find the archs function in the code file to be helpful here.\n",
        "Some of these questions ask for the \"simplest\" architecture; the list above is ordered starting with the simplest."
      ]
    },
    {
      "metadata": {
        "id": "Vp-RWPD7FUeo",
        "colab_type": "code",
        "colab": {
          "base_uri": "https://localhost:8080/",
          "height": 34
        },
        "outputId": "506f6c74-510d-4556-a351-b23858e104c0"
      },
      "cell_type": "code",
      "source": [
        "from code_for_hw8_keras import *\n",
        "import keras\n",
        "from keras.models import Sequential\n",
        "from keras.optimizers import SGD, Adam\n",
        "from keras.layers import Conv1D, Conv2D, Dense, Dropout, Flatten, MaxPooling2D\n",
        "from keras.utils import np_utils\n",
        "from keras.callbacks import Callback\n",
        "from keras.datasets import mnist\n",
        "from keras import backend as K\n",
        "from keras.initializers import VarianceScaling\n",
        "from matplotlib import pyplot as plt"
      ],
      "execution_count": 4,
      "outputs": [
        {
          "output_type": "stream",
          "text": [
            "Using TensorFlow backend.\n"
          ],
          "name": "stderr"
        }
      ]
    },
    {
      "metadata": {
        "id": "_YWbWX47_9Tr",
        "colab_type": "code",
        "colab": {
          "base_uri": "https://localhost:8080/",
          "height": 7531
        },
        "outputId": "44f766a4-ab03-4ca0-b579-1cba5d9305e8"
      },
      "cell_type": "code",
      "source": [
        "#example of run_keras_2d\n",
        "run_keras_2d(\"2\", archs(2)[3], 10, split=0.25, display=False, verbose=False, trials=5)\n",
        "\n",
        "\n"
      ],
      "execution_count": 9,
      "outputs": [
        {
          "output_type": "stream",
          "text": [
            "Keras FC: dataset= 2\n",
            "Convert from -1,1 to 0,1\n",
            "Loading X (400, 2) y (400,) classes {0.0, 1.0}\n",
            "Convert from -1,1 to 0,1\n",
            "Loading X (200, 2) y (200,) classes {0.0, 1.0}\n",
            "\n",
            "Loss on validation set:0.2637147865210329 Accuracy on validation set: 0.895\n",
            "\n",
            "Loss on validation set:0.2847880501925997 Accuracy on validation set: 0.885\n",
            "\n",
            "Loss on validation set:0.26968979200359655 Accuracy on validation set: 0.885\n",
            "\n",
            "Loss on validation set:0.3039260469599271 Accuracy on validation set: 0.885\n",
            "\n",
            "Loss on validation set:0.27983292571080975 Accuracy on validation set: 0.89\n",
            "\n",
            "Avg. validation accuracy:0.8879999999999999\n"
          ],
          "name": "stdout"
        },
        {
          "output_type": "execute_result",
          "data": {
            "text/plain": [
              "(array([[-2.01380386e-01,  3.89440035e-02],\n",
              "        [ 1.29983966e+00,  6.79588882e-01],\n",
              "        [ 6.71250029e-01,  1.28652238e+00],\n",
              "        [ 2.10673747e+00, -9.08443385e-01],\n",
              "        [-4.42767576e-01, -7.70831748e-01],\n",
              "        [-6.49323337e-01, -9.85603310e-01],\n",
              "        [-5.05832862e-02,  1.57840839e+00],\n",
              "        [ 5.26712401e-01, -1.23759149e+00],\n",
              "        [ 1.08681935e+00,  9.30857621e-01],\n",
              "        [ 1.56463949e+00, -9.08035870e-01],\n",
              "        [ 3.02060944e+00, -1.20300597e+00],\n",
              "        [ 1.29690447e+00,  6.12584986e-01],\n",
              "        [-2.41708091e+00, -2.15882089e+00],\n",
              "        [ 1.06082281e+00, -1.11885549e+00],\n",
              "        [-1.11318095e+00,  1.27803332e-01],\n",
              "        [ 2.19311623e+00,  1.04578246e-01],\n",
              "        [-9.41722312e-01, -6.40421937e-02],\n",
              "        [-6.48179440e-01,  1.47403690e+00],\n",
              "        [ 1.18346748e+00,  8.40906891e-01],\n",
              "        [ 6.90088182e-01,  3.46665370e+00],\n",
              "        [ 1.02227645e+00, -9.88603122e-01],\n",
              "        [-2.88914171e+00, -2.85959001e+00],\n",
              "        [-1.26191468e+00,  2.51863932e+00],\n",
              "        [-1.59501645e+00,  2.87988451e-01],\n",
              "        [-1.05326962e+00,  1.15185857e+00],\n",
              "        [ 1.13835016e+00, -1.15406322e+00],\n",
              "        [-1.52803357e+00,  1.06207542e-01],\n",
              "        [-5.92740329e-01, -6.62168505e-01],\n",
              "        [ 8.62984094e-01, -9.72644603e-01],\n",
              "        [-9.95548619e-01, -8.46667114e-01],\n",
              "        [ 1.78788530e+00, -8.24769511e-01],\n",
              "        [-6.29472025e-01, -8.38701239e-01],\n",
              "        [-4.10163532e-01,  6.46080198e-01],\n",
              "        [-7.04391246e-01, -6.03308713e-01],\n",
              "        [ 1.00612700e+00, -9.40350985e-01],\n",
              "        [-8.61137678e-01,  7.81567059e-01],\n",
              "        [ 1.85827112e+00,  3.82066484e-01],\n",
              "        [ 2.94528449e-01,  2.27694472e-01],\n",
              "        [ 3.57445020e-01, -1.39391903e+00],\n",
              "        [-3.49421923e+00, -3.46012699e+00],\n",
              "        [-5.49375511e-01,  2.17692846e+00],\n",
              "        [-1.35201342e+00,  5.86232664e-01],\n",
              "        [-1.19181144e+00,  2.59930958e+00],\n",
              "        [ 1.17777437e+00,  1.01847217e+00],\n",
              "        [-1.36901720e+00, -1.46302366e+00],\n",
              "        [ 2.89856474e+00, -4.27914418e-01],\n",
              "        [ 5.23058521e-01,  2.14536426e+00],\n",
              "        [-1.89990186e+00, -1.99978217e+00],\n",
              "        [-3.53837461e-01,  2.12256043e+00],\n",
              "        [-9.00968364e-01,  9.42808569e-01],\n",
              "        [ 1.09082642e+00, -1.34696817e+00],\n",
              "        [-2.57583372e+00, -7.90985772e-01],\n",
              "        [ 1.17890861e+00, -1.20233299e+00],\n",
              "        [-1.12861044e+00,  7.56588440e-01],\n",
              "        [ 1.98640750e+00, -1.01913834e+00],\n",
              "        [-1.10703946e+00, -1.06669431e+00],\n",
              "        [ 2.32126285e-01,  3.42873063e+00],\n",
              "        [ 1.20175672e+00, -9.30735169e-01],\n",
              "        [-2.60168743e+00, -2.56066661e+00],\n",
              "        [ 2.93319964e-01,  1.62823666e+00],\n",
              "        [-1.18512673e+00,  7.00500961e-01],\n",
              "        [-2.35833682e+00, -3.01459268e-01],\n",
              "        [-7.29678795e-01,  1.23888643e+00],\n",
              "        [-4.93366855e-01,  1.34172764e+00],\n",
              "        [-1.46460089e+00, -1.50083364e+00],\n",
              "        [-4.06029615e-01, -5.24708973e-01],\n",
              "        [-5.17793384e-01, -5.98408386e-01],\n",
              "        [-6.36141556e-01,  1.78870373e-01],\n",
              "        [-2.38213776e+00, -4.27446912e-01],\n",
              "        [ 1.28383683e+00,  9.42786437e-01],\n",
              "        [ 4.31793087e-01, -1.18985592e+00],\n",
              "        [ 8.19290972e-01,  1.15573589e+00],\n",
              "        [ 3.89868104e-02,  1.74244888e+00],\n",
              "        [-5.72601871e-01,  2.11756498e+00],\n",
              "        [ 6.84756854e-01,  1.21344045e+00],\n",
              "        [-7.94594405e-01,  1.86386232e+00],\n",
              "        [ 5.18914019e-01,  1.24502639e+00],\n",
              "        [-1.65677387e+00,  2.93458563e+00],\n",
              "        [-2.13973685e-01, -1.20527645e-01],\n",
              "        [ 3.79872711e-01,  5.58439066e-01],\n",
              "        [ 1.03370608e+00, -1.17180061e+00],\n",
              "        [ 1.18625907e+00, -9.52392458e-01],\n",
              "        [-1.32852528e+00,  8.72765446e-01],\n",
              "        [-4.82403452e-02, -1.36956309e+00],\n",
              "        [ 6.19896012e-01,  1.35393107e+00],\n",
              "        [-1.26950299e+00, -8.17906295e-01],\n",
              "        [-1.46867783e+00,  2.11090221e-01],\n",
              "        [ 1.01633165e+00,  1.37710735e+00],\n",
              "        [-7.39356638e-01,  1.44056221e+00],\n",
              "        [-2.58470717e-01, -1.10330149e+00],\n",
              "        [-7.28370853e-01, -1.18234340e+00],\n",
              "        [-1.18198912e+00, -1.20678058e+00],\n",
              "        [-8.78887779e-01,  2.32969272e-01],\n",
              "        [ 2.79719766e-01,  1.34451459e+00],\n",
              "        [-1.37762951e-01,  2.09710759e+00],\n",
              "        [ 3.19120517e+00, -4.97730362e-01],\n",
              "        [-3.05976739e+00, -2.77813530e+00],\n",
              "        [ 1.98855244e+00,  5.71003530e-01],\n",
              "        [ 2.76443697e+00, -3.35805408e-01],\n",
              "        [-8.24096888e-02,  1.83851715e+00],\n",
              "        [ 1.94384782e-01, -9.86623532e-01],\n",
              "        [ 2.89792941e+00, -1.35873607e+00],\n",
              "        [-7.00003279e-01,  1.34423323e+00],\n",
              "        [ 5.89576749e-01,  1.23463526e+00],\n",
              "        [-6.02091141e-01, -6.87159722e-01],\n",
              "        [-1.15121409e+00, -3.41179981e-02],\n",
              "        [-3.15691448e-01,  1.90027984e+00],\n",
              "        [-6.71602824e-01, -7.68705151e-01],\n",
              "        [ 1.96807656e+00, -9.11262146e-01],\n",
              "        [ 1.35476195e-01,  1.64980982e+00],\n",
              "        [ 3.08360544e-01, -1.16684146e+00],\n",
              "        [-6.65578011e-01, -1.03588191e+00],\n",
              "        [ 3.34484900e+00, -1.33652016e+00],\n",
              "        [ 8.23612562e-02,  2.41533234e-01],\n",
              "        [-6.46735016e-01,  6.06647047e-01],\n",
              "        [ 6.42435955e-01,  5.52341175e-01],\n",
              "        [ 1.18151883e+00, -1.10309630e+00],\n",
              "        [-8.21742059e-01,  1.22294898e+00],\n",
              "        [ 2.97355021e+00, -5.76570301e-01],\n",
              "        [-1.46654240e+00, -9.51878526e-01],\n",
              "        [-9.82064734e-01, -2.67181538e-02],\n",
              "        [-1.41195475e+00,  1.28715574e+00],\n",
              "        [-9.47126381e-01,  1.85008281e+00],\n",
              "        [-1.90665505e+00, -1.15958454e+00],\n",
              "        [-1.60516718e+00, -1.30209115e-01],\n",
              "        [-1.67749204e+00,  2.77485781e-02],\n",
              "        [-9.37735593e-01, -8.55627235e-01],\n",
              "        [-9.36416355e-02,  1.99327266e+00],\n",
              "        [ 3.05865114e+00, -8.82678285e-01],\n",
              "        [ 1.81755983e+00,  4.29775512e-01],\n",
              "        [ 1.27621763e+00, -1.04805327e+00],\n",
              "        [-3.75347204e-01,  2.02717929e+00],\n",
              "        [ 4.19436090e-01,  2.73193792e-01],\n",
              "        [-5.89423801e-01,  2.26165633e+00],\n",
              "        [-9.18193374e-01,  4.93238213e-01],\n",
              "        [ 2.13573174e+00, -1.17763617e+00],\n",
              "        [ 1.94482126e+00, -1.09518442e+00],\n",
              "        [-2.43317123e+00, -2.51628576e+00],\n",
              "        [ 1.57697244e+00,  5.74478871e-01],\n",
              "        [ 2.43020283e+00, -8.97288931e-01],\n",
              "        [-1.35954469e+00,  4.12253503e-01],\n",
              "        [-4.25911024e-01, -5.83676425e-01],\n",
              "        [ 1.27035750e+00, -7.89908472e-01],\n",
              "        [ 3.21315400e-02, -6.04895313e-01],\n",
              "        [ 1.03561105e+00,  1.05972780e+00],\n",
              "        [-1.95841437e-01, -2.67822051e-01],\n",
              "        [ 2.69344042e+00, -2.50460842e-01],\n",
              "        [-1.56802547e+00,  5.53409373e-01],\n",
              "        [ 2.22929994e+00,  6.92925451e-03],\n",
              "        [-1.87850595e+00,  5.31465958e-01],\n",
              "        [-3.45539171e-01,  2.83099351e-01],\n",
              "        [ 3.18447848e+00, -1.37575144e+00],\n",
              "        [ 1.57779603e+00,  5.93931515e-01],\n",
              "        [ 7.43743410e-01, -1.11485766e+00],\n",
              "        [-1.18649873e+00, -1.18973055e+00],\n",
              "        [-1.00426430e+00, -8.12181745e-01],\n",
              "        [ 1.07810322e+00, -7.35877513e-01],\n",
              "        [ 3.23567685e+00, -6.76676337e-01],\n",
              "        [-9.21277900e-01,  2.30607084e+00],\n",
              "        [-2.26550369e+00, -1.41720255e+00],\n",
              "        [-6.51919047e-01, -7.54819636e-01],\n",
              "        [-2.52164834e+00, -2.47998040e+00],\n",
              "        [-5.03929692e-01,  2.19314649e+00],\n",
              "        [-2.24065463e-01,  2.17059256e+00],\n",
              "        [ 2.61965174e-01,  1.64526150e+00],\n",
              "        [-6.09349593e-01,  2.77101678e+00],\n",
              "        [-2.60372971e+00, -1.33239916e+00],\n",
              "        [-3.07197403e+00, -3.09217414e+00],\n",
              "        [-5.80205564e-01,  1.90971032e+00],\n",
              "        [-7.07188277e-01,  1.90105335e+00],\n",
              "        [-4.19772033e-01, -1.61455877e-01],\n",
              "        [ 2.07866520e-01, -2.75360165e-01],\n",
              "        [-1.65987525e+00, -1.73574922e+00],\n",
              "        [-1.81229220e+00, -4.08248228e-01],\n",
              "        [-2.33903406e-01, -9.22549325e-01],\n",
              "        [-2.50101622e+00, -2.37689187e+00],\n",
              "        [-5.14962371e-01, -7.77415165e-01],\n",
              "        [ 8.74059390e-01, -1.19176435e+00],\n",
              "        [-1.00429615e+00,  9.53989013e-01],\n",
              "        [-1.03428819e+00,  4.34307627e-01],\n",
              "        [ 1.42432842e+00,  6.12940999e-01],\n",
              "        [ 1.07430328e+00, -1.10622246e+00],\n",
              "        [ 1.76262011e+00,  4.87321452e-01],\n",
              "        [ 2.30127946e+00, -1.10082751e+00],\n",
              "        [ 3.10719492e-01,  1.30610237e+00],\n",
              "        [-9.01038899e-01, -1.58127225e-01],\n",
              "        [ 1.28582961e+00, -1.09647456e+00],\n",
              "        [ 8.19755298e-01,  4.60879228e-01],\n",
              "        [-1.48968586e+00, -1.34403643e+00],\n",
              "        [-3.22573916e-03, -1.20271331e+00],\n",
              "        [-1.46853464e+00,  1.57104828e+00],\n",
              "        [ 7.24359432e-01, -1.21214224e+00],\n",
              "        [-1.28607425e+00, -1.35485789e+00],\n",
              "        [-1.87761734e+00, -4.85096491e-02],\n",
              "        [-6.90958835e-01,  2.38342967e+00],\n",
              "        [ 2.93140733e-01,  2.09981566e-01],\n",
              "        [-1.48103028e+00, -1.55116116e+00],\n",
              "        [ 2.39710997e+00,  8.71732474e-02],\n",
              "        [-3.88712941e-01,  1.77506085e+00],\n",
              "        [ 3.98998700e-01, -8.24673303e-01],\n",
              "        [-2.75614208e-01,  2.57765334e+00],\n",
              "        [ 3.73268868e-01, -9.99680103e-01],\n",
              "        [ 8.76541883e-01,  8.48365509e-01],\n",
              "        [-5.05427102e-01,  2.25922912e+00],\n",
              "        [-2.46493986e+00, -2.41956036e+00],\n",
              "        [-7.93556771e-01, -7.88516236e-01],\n",
              "        [-1.13580376e+00, -1.20385579e+00],\n",
              "        [ 6.17684409e-01,  1.29507295e+00],\n",
              "        [ 8.47792201e-01,  9.77964687e-01],\n",
              "        [-1.44029872e+00,  8.04109469e-01],\n",
              "        [-1.69789718e+00,  6.41344934e-01],\n",
              "        [ 2.18903178e+00, -1.08510531e+00],\n",
              "        [-1.45325783e+00, -1.97605623e+00],\n",
              "        [-5.97746959e-01, -7.40813089e-01],\n",
              "        [ 9.24357799e-01,  8.82615400e-01],\n",
              "        [-1.23195864e-01,  1.75266999e+00],\n",
              "        [-2.09917294e+00,  1.84756054e-01],\n",
              "        [-1.90008080e+00, -1.80945582e+00],\n",
              "        [-1.08957216e-01,  2.42615396e-03],\n",
              "        [-1.35537659e+00, -6.66133824e-02],\n",
              "        [-3.38675241e-01,  2.18599111e+00],\n",
              "        [ 2.68942514e+00, -7.18395270e-01],\n",
              "        [-2.35479504e-02,  1.69099223e+00],\n",
              "        [ 1.51241210e-01, -8.95427218e-01],\n",
              "        [ 3.76113477e+00, -1.10954126e+00],\n",
              "        [-6.56994421e-01,  9.79162187e-01],\n",
              "        [-7.95287193e-01, -9.36767686e-01],\n",
              "        [ 8.86340826e-01, -8.20409764e-01],\n",
              "        [ 2.13283112e+00,  1.57732915e-01],\n",
              "        [ 8.90807683e-01, -1.10688054e+00],\n",
              "        [-8.41387781e-01, -6.55598384e-01],\n",
              "        [ 1.42643563e+00, -8.48521458e-01],\n",
              "        [-1.10228747e+00, -1.09571841e+00],\n",
              "        [-1.31367184e+00,  1.87047926e+00],\n",
              "        [-2.76591496e+00, -2.90422443e+00],\n",
              "        [-1.56702723e+00, -2.57259783e-01],\n",
              "        [ 2.70059942e-01, -1.21916712e+00],\n",
              "        [ 4.53498957e-01, -9.35699796e-01],\n",
              "        [ 1.02025116e+00,  9.69768986e-01],\n",
              "        [ 1.68331248e+00, -1.08368613e+00],\n",
              "        [-1.77585096e+00, -3.67076701e-01],\n",
              "        [-1.44334058e-01,  9.41108388e-01],\n",
              "        [ 8.19718455e-01, -8.71823660e-01],\n",
              "        [ 8.68697101e-01,  9.47653547e-01],\n",
              "        [-1.09381583e+00,  2.53389307e+00],\n",
              "        [-3.86104675e-01,  1.26658926e+00],\n",
              "        [ 1.41173550e+00, -8.62062765e-01],\n",
              "        [ 2.36331478e-01,  1.69805471e+00],\n",
              "        [ 5.50561778e-01,  2.26509563e+00],\n",
              "        [ 2.59916910e+00,  2.33886611e+00],\n",
              "        [-1.71643943e+00,  5.75962337e-01],\n",
              "        [ 1.55221528e+00, -1.01146236e+00],\n",
              "        [-8.19505075e-01,  3.12796208e+00],\n",
              "        [-1.92869785e+00, -1.78083364e+00],\n",
              "        [-7.18229216e-01, -7.69472198e-01],\n",
              "        [-1.34403040e+00,  8.18472503e-01],\n",
              "        [ 2.68940073e-01,  2.54195359e+00],\n",
              "        [ 2.10579726e+00, -5.83057511e-01],\n",
              "        [-1.81904649e-01, -7.72614030e-01],\n",
              "        [-1.85258485e+00,  3.09931699e+00],\n",
              "        [-4.22934818e-01,  1.95592950e+00],\n",
              "        [-1.39075533e+00, -3.64814143e-01],\n",
              "        [ 3.36116762e-01,  2.13401670e-01],\n",
              "        [ 1.64799855e-01,  1.43407080e+00],\n",
              "        [-1.74081340e+00,  1.60936263e-01],\n",
              "        [ 1.38143360e+00, -8.37434812e-01],\n",
              "        [-1.42668198e+00,  5.16627514e-01],\n",
              "        [ 1.66486416e+00, -1.14545031e+00],\n",
              "        [-1.97942274e+00, -1.87038098e+00],\n",
              "        [ 2.53917995e+00, -1.23445992e-01],\n",
              "        [-1.30422514e+00, -1.73323671e-01],\n",
              "        [ 1.66147159e+00,  5.40435722e-01],\n",
              "        [-1.31652535e+00,  1.13014664e+00],\n",
              "        [-7.33049608e-01,  2.38239045e+00],\n",
              "        [-2.85826391e-01,  1.83816154e+00],\n",
              "        [ 2.46117425e-01,  1.60895523e-01],\n",
              "        [-3.76479700e-01,  1.45439639e+00],\n",
              "        [ 5.35555417e-01, -1.26659885e+00],\n",
              "        [-1.21230484e+00, -1.00046553e+00],\n",
              "        [-8.86208956e-02, -1.11372460e+00],\n",
              "        [-1.73439407e+00,  5.68351852e-01],\n",
              "        [-1.37537243e+00, -1.16004881e-01],\n",
              "        [ 2.68221896e+00, -6.58780220e-01],\n",
              "        [-1.24686631e+00, -8.37097756e-01],\n",
              "        [ 1.55322202e+00, -1.15509002e+00],\n",
              "        [-6.29939337e-01, -6.97129224e-01],\n",
              "        [-7.20624165e-01,  1.87336314e+00],\n",
              "        [-1.08028402e+00,  1.04648140e+00],\n",
              "        [ 4.68547777e-01,  3.25495022e-01],\n",
              "        [-1.07468028e+00,  1.29721447e+00],\n",
              "        [-1.36880785e+00, -1.49879685e+00],\n",
              "        [-9.87987581e-01, -6.47696279e-01],\n",
              "        [ 3.27843287e+00, -1.17543098e+00],\n",
              "        [ 1.75026056e+00,  4.92125173e-01],\n",
              "        [-1.17963559e+00, -1.15355099e+00],\n",
              "        [-4.69034360e-01, -7.51710454e-01],\n",
              "        [-2.06570460e+00, -1.44385339e+00],\n",
              "        [ 1.45166294e+00, -9.35462323e-01],\n",
              "        [ 5.97812083e-01, -1.15361297e+00],\n",
              "        [-5.10640051e-01, -1.07910459e+00],\n",
              "        [ 1.04884381e+00,  8.74936808e-01],\n",
              "        [-8.37372488e-01,  2.43210108e+00],\n",
              "        [ 2.58207855e+00, -2.98252361e-01],\n",
              "        [ 3.50949222e-01,  1.49877022e+00],\n",
              "        [-2.22585412e+00, -4.07447840e-01],\n",
              "        [ 3.39392196e+00, -6.68161919e-01],\n",
              "        [-2.16376388e+00, -2.34818460e+00],\n",
              "        [ 2.27983193e-01, -7.77485339e-01],\n",
              "        [ 6.63736839e-01, -6.85814959e-01],\n",
              "        [ 8.70850526e-01, -1.15025051e+00],\n",
              "        [-7.58281099e-01, -6.23951011e-01],\n",
              "        [ 2.65477985e-01, -8.30744385e-01],\n",
              "        [-4.98829964e-01, -3.93809547e-01],\n",
              "        [ 6.26902264e-01,  5.37022914e-01],\n",
              "        [-1.62337680e+00, -5.24442976e-01],\n",
              "        [-1.16939583e-01, -1.00651720e+00],\n",
              "        [-6.16310244e-01,  2.61525230e+00],\n",
              "        [-1.23137241e+00,  1.36368207e+00],\n",
              "        [ 1.66798937e+00, -9.63566174e-01],\n",
              "        [-7.51873287e-01, -9.06438672e-01],\n",
              "        [ 6.45990947e-01,  4.89172146e-01],\n",
              "        [-1.24883647e-01, -1.41134448e-01],\n",
              "        [ 6.38815181e-01, -1.07125863e+00],\n",
              "        [-1.66640200e+00,  9.67777299e-01],\n",
              "        [-1.28442381e+00,  4.07752035e-01],\n",
              "        [-6.03551194e-01,  1.82856381e+00],\n",
              "        [ 1.05994811e+00,  1.03747218e+00],\n",
              "        [ 1.30703525e+00, -1.16731354e+00],\n",
              "        [ 2.53951333e+00, -7.29674348e-02],\n",
              "        [-9.76365821e-02, -1.94969085e-01],\n",
              "        [ 1.60663203e+00, -1.13067848e+00],\n",
              "        [-1.93709034e-01,  1.85199160e+00],\n",
              "        [ 2.23898560e-01, -4.00037449e-02],\n",
              "        [ 1.02735575e+00,  9.99444459e-01],\n",
              "        [ 1.66867972e-01,  1.37301272e+00],\n",
              "        [ 7.25919966e-01, -8.40558190e-01],\n",
              "        [-4.14619812e-01, -5.21097750e-01],\n",
              "        [ 2.34431322e-01, -1.11400704e+00],\n",
              "        [-1.02669141e-01, -2.45622654e-01],\n",
              "        [-1.14560378e+00, -1.12607280e-01],\n",
              "        [ 2.69131210e+00, -2.53916318e-01],\n",
              "        [-9.53272242e-01,  1.86033080e+00],\n",
              "        [ 2.19767513e+00,  1.17447527e-01],\n",
              "        [-3.41488482e-01,  9.33536393e-01],\n",
              "        [ 3.08944716e-01,  2.71764082e-01],\n",
              "        [-4.65271850e-01,  1.64842999e+00],\n",
              "        [ 2.98135036e-01,  4.43167581e-01],\n",
              "        [-9.33115123e-01, -6.72105750e-01],\n",
              "        [ 2.28863998e+00,  2.03108305e-01],\n",
              "        [-6.89366568e-01,  7.23940587e-01],\n",
              "        [ 5.81614904e-01,  1.41239638e+00],\n",
              "        [-2.46124762e-01,  4.70171079e-01],\n",
              "        [-1.10729367e+00,  1.10084865e+00],\n",
              "        [-1.08109509e+00, -9.55261491e-01],\n",
              "        [ 1.30086718e+00,  7.90331778e-01],\n",
              "        [ 9.49140752e-01,  1.13378684e+00],\n",
              "        [ 4.03343512e-01, -1.18144701e+00],\n",
              "        [ 1.25838984e+00,  8.14428936e-01],\n",
              "        [ 2.10553251e+00,  2.04110566e-01],\n",
              "        [-4.67095185e-01,  1.73027049e+00],\n",
              "        [ 1.71591188e+00,  2.98827140e-01],\n",
              "        [ 2.43823001e-02, -1.74471417e-01],\n",
              "        [-2.36621573e+00,  1.11700610e-01],\n",
              "        [ 1.62640888e+00,  7.47502437e-01],\n",
              "        [ 8.47299632e-01,  1.05875704e+00],\n",
              "        [ 1.43858200e+00, -7.69812784e-01],\n",
              "        [-1.36693019e+00,  1.44362902e+00],\n",
              "        [-4.81598319e-01, -2.64799686e-01],\n",
              "        [-1.57972869e+00, -9.26244499e-02],\n",
              "        [ 9.11255946e-01, -9.59918736e-01],\n",
              "        [-4.31171924e-01,  2.14837671e+00],\n",
              "        [-3.84516669e+00, -3.53189772e+00],\n",
              "        [-5.88251855e-01,  2.39633329e+00],\n",
              "        [ 2.92020832e-01,  1.43316007e+00],\n",
              "        [-1.36750918e+00,  1.15409568e+00],\n",
              "        [ 8.73106827e-01,  1.04839513e+00],\n",
              "        [ 2.60675347e+00, -1.07374689e-01],\n",
              "        [ 1.02953465e+00,  9.19518371e-01],\n",
              "        [-7.63016366e-01, -7.47331914e-01],\n",
              "        [-2.19077898e-01,  2.00850459e+00],\n",
              "        [-1.03110059e+00,  1.49793799e+00],\n",
              "        [-1.08569185e+00,  8.57924729e-01],\n",
              "        [-1.14554246e-01,  1.70097336e+00],\n",
              "        [-3.03817807e-01,  2.06131963e+00],\n",
              "        [ 1.37457316e+00, -9.84687572e-01],\n",
              "        [-1.28757729e+00, -2.48420959e-01],\n",
              "        [-1.58699818e+00, -1.68500906e+00],\n",
              "        [-2.57254344e+00, -5.67245715e-01],\n",
              "        [-3.49426737e-01,  1.53661751e+00],\n",
              "        [-1.53493211e+00, -1.35908778e+00],\n",
              "        [-2.00387447e+00, -7.74858858e-01],\n",
              "        [-3.07858733e-01, -5.30408365e-02],\n",
              "        [ 1.59368307e-01, -7.22677608e-01],\n",
              "        [-4.15560379e-01, -6.37232073e-01],\n",
              "        [ 2.61954387e+00, -1.05985923e+00],\n",
              "        [-1.46090561e+00, -1.18148301e+00],\n",
              "        [-1.20908788e+00,  7.53534829e-01],\n",
              "        [-1.91673335e-01,  1.95463268e+00],\n",
              "        [-7.14648423e-01, -7.21520901e-01],\n",
              "        [-7.50431493e-01, -7.21794955e-01]]),\n",
              " array([0., 1., 1., 1., 0., 0., 1., 1., 1., 1., 1., 1., 0., 1., 0., 1., 0.,\n",
              "        0., 1., 0., 1., 0., 1., 0., 0., 1., 0., 0., 1., 0., 1., 0., 0., 0.,\n",
              "        1., 0., 1., 0., 1., 0., 1., 0., 1., 1., 0., 1., 0., 0., 1., 0., 1.,\n",
              "        0., 1., 0., 1., 0., 0., 1., 0., 1., 0., 0., 0., 0., 0., 0., 0., 0.,\n",
              "        0., 1., 1., 1., 1., 1., 1., 0., 1., 1., 0., 0., 1., 1., 0., 1., 1.,\n",
              "        0., 0., 0., 0., 1., 1., 0., 0., 1., 0., 1., 0., 1., 1., 1., 1., 1.,\n",
              "        0., 1., 0., 0., 1., 1., 1., 1., 1., 1., 1., 0., 0., 0., 1., 0., 1.,\n",
              "        1., 0., 0., 0., 1., 0., 0., 0., 0., 1., 1., 1., 1., 0., 1., 0., 1.,\n",
              "        1., 0., 1., 1., 0., 0., 1., 1., 1., 0., 1., 0., 1., 0., 0., 1., 1.,\n",
              "        1., 0., 0., 1., 1., 1., 0., 0., 0., 1., 0., 1., 0., 0., 0., 0., 0.,\n",
              "        0., 0., 0., 0., 1., 0., 0., 1., 0., 0., 1., 1., 1., 1., 1., 0., 1.,\n",
              "        0., 0., 1., 1., 1., 0., 0., 1., 0., 0., 1., 0., 1., 0., 1., 0., 1.,\n",
              "        0., 0., 0., 1., 1., 0., 0., 1., 0., 1., 1., 1., 0., 0., 0., 0., 1.,\n",
              "        1., 1., 1., 1., 0., 0., 1., 1., 1., 0., 1., 0., 0., 0., 0., 1., 1.,\n",
              "        1., 1., 0., 0., 1., 1., 1., 0., 1., 1., 0., 0., 0., 1., 0., 0., 1.,\n",
              "        0., 0., 1., 1., 1., 1., 0., 0., 1., 0., 1., 0., 1., 0., 1., 0., 1.,\n",
              "        0., 0., 1., 0., 0., 1., 1., 1., 0., 0., 1., 0., 1., 0., 0., 0., 0.,\n",
              "        0., 0., 0., 1., 1., 1., 0., 0., 1., 1., 1., 1., 1., 1., 1., 0., 1.,\n",
              "        0., 1., 1., 1., 0., 1., 0., 0., 0., 1., 0., 0., 1., 0., 0., 0., 1.,\n",
              "        0., 0., 0., 1., 1., 1., 0., 1., 1., 0., 1., 1., 1., 0., 1., 0., 0.,\n",
              "        1., 0., 1., 0., 0., 0., 0., 1., 1., 0., 1., 0., 0., 0., 1., 1., 1.,\n",
              "        1., 1., 0., 1., 0., 0., 1., 1., 1., 0., 0., 0., 1., 0., 0., 0., 1.,\n",
              "        0., 1., 1., 1., 0., 1., 0., 0., 1., 1., 1., 0., 0., 0., 0., 0., 0.,\n",
              "        0., 1., 0., 1., 0., 0., 1., 0., 0.]),\n",
              " <keras.engine.sequential.Sequential at 0x7f595e867cf8>)"
            ]
          },
          "metadata": {
            "tags": []
          },
          "execution_count": 9
        }
      ]
    },
    {
      "metadata": {
        "id": "deNx0joDeCHM",
        "colab_type": "code",
        "colab": {
          "base_uri": "https://localhost:8080/",
          "height": 7531
        },
        "outputId": "9429adb1-8a92-4241-9f4a-4f82749f5346"
      },
      "cell_type": "code",
      "source": [
        "run_keras_2d(\"2\", archs(2)[4], 10, split=0.25, display=False, verbose=False, trials=5)\n"
      ],
      "execution_count": 10,
      "outputs": [
        {
          "output_type": "stream",
          "text": [
            "Keras FC: dataset= 2\n",
            "Convert from -1,1 to 0,1\n",
            "Loading X (400, 2) y (400,) classes {0.0, 1.0}\n",
            "Convert from -1,1 to 0,1\n",
            "Loading X (200, 2) y (200,) classes {0.0, 1.0}\n",
            "\n",
            "Loss on validation set:0.21735329518439472 Accuracy on validation set: 0.915\n",
            "\n",
            "Loss on validation set:0.20132579104017714 Accuracy on validation set: 0.915\n",
            "\n",
            "Loss on validation set:0.19684233161191883 Accuracy on validation set: 0.925\n",
            "\n",
            "Loss on validation set:0.2054085673844319 Accuracy on validation set: 0.92\n",
            "\n",
            "Loss on validation set:0.22211212343669778 Accuracy on validation set: 0.905\n",
            "\n",
            "Avg. validation accuracy:0.916\n"
          ],
          "name": "stdout"
        },
        {
          "output_type": "execute_result",
          "data": {
            "text/plain": [
              "(array([[-3.07197403e+00, -3.09217414e+00],\n",
              "        [-2.26550369e+00, -1.41720255e+00],\n",
              "        [-9.76365821e-02, -1.94969085e-01],\n",
              "        [ 1.64799855e-01,  1.43407080e+00],\n",
              "        [-1.91673335e-01,  1.95463268e+00],\n",
              "        [ 1.60663203e+00, -1.13067848e+00],\n",
              "        [ 3.98998700e-01, -8.24673303e-01],\n",
              "        [ 2.68942514e+00, -7.18395270e-01],\n",
              "        [-1.30422514e+00, -1.73323671e-01],\n",
              "        [-4.14619812e-01, -5.21097750e-01],\n",
              "        [-1.35201342e+00,  5.86232664e-01],\n",
              "        [ 1.94482126e+00, -1.09518442e+00],\n",
              "        [ 1.18151883e+00, -1.10309630e+00],\n",
              "        [ 5.26712401e-01, -1.23759149e+00],\n",
              "        [-3.07858733e-01, -5.30408365e-02],\n",
              "        [-1.32852528e+00,  8.72765446e-01],\n",
              "        [ 1.42643563e+00, -8.48521458e-01],\n",
              "        [ 1.07810322e+00, -7.35877513e-01],\n",
              "        [ 8.19718455e-01, -8.71823660e-01],\n",
              "        [-8.41387781e-01, -6.55598384e-01],\n",
              "        [ 8.47792201e-01,  9.77964687e-01],\n",
              "        [ 1.29983966e+00,  6.79588882e-01],\n",
              "        [-1.28757729e+00, -2.48420959e-01],\n",
              "        [-1.35537659e+00, -6.66133824e-02],\n",
              "        [ 2.53951333e+00, -7.29674348e-02],\n",
              "        [ 1.08681935e+00,  9.30857621e-01],\n",
              "        [ 1.37457316e+00, -9.84687572e-01],\n",
              "        [-3.45539171e-01,  2.83099351e-01],\n",
              "        [ 3.08360544e-01, -1.16684146e+00],\n",
              "        [ 3.39392196e+00, -6.68161919e-01],\n",
              "        [-1.90008080e+00, -1.80945582e+00],\n",
              "        [-1.74081340e+00,  1.60936263e-01],\n",
              "        [-9.21277900e-01,  2.30607084e+00],\n",
              "        [ 3.08944716e-01,  2.71764082e-01],\n",
              "        [ 1.02025116e+00,  9.69768986e-01],\n",
              "        [-7.04391246e-01, -6.03308713e-01],\n",
              "        [-1.44334058e-01,  9.41108388e-01],\n",
              "        [ 7.24359432e-01, -1.21214224e+00],\n",
              "        [-8.21742059e-01,  1.22294898e+00],\n",
              "        [ 1.57779603e+00,  5.93931515e-01],\n",
              "        [ 4.19436090e-01,  2.73193792e-01],\n",
              "        [ 2.07866520e-01, -2.75360165e-01],\n",
              "        [ 1.66798937e+00, -9.63566174e-01],\n",
              "        [-3.03817807e-01,  2.06131963e+00],\n",
              "        [-5.72601871e-01,  2.11756498e+00],\n",
              "        [-1.08569185e+00,  8.57924729e-01],\n",
              "        [-1.16939583e-01, -1.00651720e+00],\n",
              "        [ 1.57697244e+00,  5.74478871e-01],\n",
              "        [ 6.90088182e-01,  3.46665370e+00],\n",
              "        [-1.36693019e+00,  1.44362902e+00],\n",
              "        [-3.15691448e-01,  1.90027984e+00],\n",
              "        [-1.21230484e+00, -1.00046553e+00],\n",
              "        [-1.37537243e+00, -1.16004881e-01],\n",
              "        [-6.29939337e-01, -6.97129224e-01],\n",
              "        [ 2.32126285e-01,  3.42873063e+00],\n",
              "        [ 2.28863998e+00,  2.03108305e-01],\n",
              "        [-6.16310244e-01,  2.61525230e+00],\n",
              "        [-7.58281099e-01, -6.23951011e-01],\n",
              "        [-1.92869785e+00, -1.78083364e+00],\n",
              "        [-7.07188277e-01,  1.90105335e+00],\n",
              "        [-9.01038899e-01, -1.58127225e-01],\n",
              "        [-2.60372971e+00, -1.33239916e+00],\n",
              "        [-1.26950299e+00, -8.17906295e-01],\n",
              "        [-3.88712941e-01,  1.77506085e+00],\n",
              "        [ 5.18914019e-01,  1.24502639e+00],\n",
              "        [ 3.89868104e-02,  1.74244888e+00],\n",
              "        [-1.23137241e+00,  1.36368207e+00],\n",
              "        [-7.63016366e-01, -7.47331914e-01],\n",
              "        [ 1.20175672e+00, -9.30735169e-01],\n",
              "        [ 8.76541883e-01,  8.48365509e-01],\n",
              "        [ 1.05994811e+00,  1.03747218e+00],\n",
              "        [-1.46867783e+00,  2.11090221e-01],\n",
              "        [-9.18193374e-01,  4.93238213e-01],\n",
              "        [-2.35833682e+00, -3.01459268e-01],\n",
              "        [ 1.07430328e+00, -1.10622246e+00],\n",
              "        [-7.51873287e-01, -9.06438672e-01],\n",
              "        [ 1.43858200e+00, -7.69812784e-01],\n",
              "        [ 2.93140733e-01,  2.09981566e-01],\n",
              "        [-1.48968586e+00, -1.34403643e+00],\n",
              "        [ 3.73268868e-01, -9.99680103e-01],\n",
              "        [-9.37735593e-01, -8.55627235e-01],\n",
              "        [-4.42767576e-01, -7.70831748e-01],\n",
              "        [ 3.50949222e-01,  1.49877022e+00],\n",
              "        [-2.36621573e+00,  1.11700610e-01],\n",
              "        [ 3.10719492e-01,  1.30610237e+00],\n",
              "        [-1.37762951e-01,  2.09710759e+00],\n",
              "        [ 2.79719766e-01,  1.34451459e+00],\n",
              "        [-6.29472025e-01, -8.38701239e-01],\n",
              "        [-1.08957216e-01,  2.42615396e-03],\n",
              "        [ 3.76113477e+00, -1.10954126e+00],\n",
              "        [-2.57254344e+00, -5.67245715e-01],\n",
              "        [-1.18512673e+00,  7.00500961e-01],\n",
              "        [-3.05976739e+00, -2.77813530e+00],\n",
              "        [-1.24883647e-01, -1.41134448e-01],\n",
              "        [ 6.38815181e-01, -1.07125863e+00],\n",
              "        [ 1.55322202e+00, -1.15509002e+00],\n",
              "        [ 1.27621763e+00, -1.04805327e+00],\n",
              "        [-1.48103028e+00, -1.55116116e+00],\n",
              "        [ 2.10553251e+00,  2.04110566e-01],\n",
              "        [-1.36901720e+00, -1.46302366e+00],\n",
              "        [-1.89990186e+00, -1.99978217e+00],\n",
              "        [-1.10729367e+00,  1.10084865e+00],\n",
              "        [ 1.45166294e+00, -9.35462323e-01],\n",
              "        [-6.36141556e-01,  1.78870373e-01],\n",
              "        [-2.41708091e+00, -2.15882089e+00],\n",
              "        [-4.06029615e-01, -5.24708973e-01],\n",
              "        [-1.81229220e+00, -4.08248228e-01],\n",
              "        [-5.97746959e-01, -7.40813089e-01],\n",
              "        [ 1.04884381e+00,  8.74936808e-01],\n",
              "        [-4.81598319e-01, -2.64799686e-01],\n",
              "        [ 1.75026056e+00,  4.92125173e-01],\n",
              "        [-6.46735016e-01,  6.06647047e-01],\n",
              "        [ 8.68697101e-01,  9.47653547e-01],\n",
              "        [-4.98829964e-01, -3.93809547e-01],\n",
              "        [ 1.71591188e+00,  2.98827140e-01],\n",
              "        [-1.12861044e+00,  7.56588440e-01],\n",
              "        [-2.85826391e-01,  1.83816154e+00],\n",
              "        [ 2.65477985e-01, -8.30744385e-01],\n",
              "        [ 2.36331478e-01,  1.69805471e+00],\n",
              "        [ 5.97812083e-01, -1.15361297e+00],\n",
              "        [-6.89366568e-01,  7.23940587e-01],\n",
              "        [ 3.21315400e-02, -6.04895313e-01],\n",
              "        [ 1.41173550e+00, -8.62062765e-01],\n",
              "        [-1.31652535e+00,  1.13014664e+00],\n",
              "        [-1.66640200e+00,  9.67777299e-01],\n",
              "        [ 4.68547777e-01,  3.25495022e-01],\n",
              "        [-1.67749204e+00,  2.77485781e-02],\n",
              "        [ 1.66486416e+00, -1.14545031e+00],\n",
              "        [-1.56702723e+00, -2.57259783e-01],\n",
              "        [-4.15560379e-01, -6.37232073e-01],\n",
              "        [ 9.49140752e-01,  1.13378684e+00],\n",
              "        [-4.22934818e-01,  1.95592950e+00],\n",
              "        [-1.90665505e+00, -1.15958454e+00],\n",
              "        [ 1.28582961e+00, -1.09647456e+00],\n",
              "        [ 2.43823001e-02, -1.74471417e-01],\n",
              "        [-7.29678795e-01,  1.23888643e+00],\n",
              "        [-2.75614208e-01,  2.57765334e+00],\n",
              "        [-1.24686631e+00, -8.37097756e-01],\n",
              "        [-5.80205564e-01,  1.90971032e+00],\n",
              "        [-6.03551194e-01,  1.82856381e+00],\n",
              "        [-1.26191468e+00,  2.51863932e+00],\n",
              "        [-2.24065463e-01,  2.17059256e+00],\n",
              "        [-1.46460089e+00, -1.50083364e+00],\n",
              "        [-1.08028402e+00,  1.04648140e+00],\n",
              "        [-9.47126381e-01,  1.85008281e+00],\n",
              "        [ 1.09082642e+00, -1.34696817e+00],\n",
              "        [-2.58470717e-01, -1.10330149e+00],\n",
              "        [ 7.25919966e-01, -8.40558190e-01],\n",
              "        [ 1.59368307e-01, -7.22677608e-01],\n",
              "        [-8.24096888e-02,  1.83851715e+00],\n",
              "        [-9.87987581e-01, -6.47696279e-01],\n",
              "        [-2.46124762e-01,  4.70171079e-01],\n",
              "        [-5.92740329e-01, -6.62168505e-01],\n",
              "        [-2.00387447e+00, -7.74858858e-01],\n",
              "        [-6.71602824e-01, -7.68705151e-01],\n",
              "        [-1.57972869e+00, -9.26244499e-02],\n",
              "        [ 6.63736839e-01, -6.85814959e-01],\n",
              "        [ 1.38143360e+00, -8.37434812e-01],\n",
              "        [-2.46493986e+00, -2.41956036e+00],\n",
              "        [ 9.11255946e-01, -9.59918736e-01],\n",
              "        [ 2.58207855e+00, -2.98252361e-01],\n",
              "        [-2.35479504e-02,  1.69099223e+00],\n",
              "        [ 1.96807656e+00, -9.11262146e-01],\n",
              "        [-2.52164834e+00, -2.47998040e+00],\n",
              "        [ 1.66867972e-01,  1.37301272e+00],\n",
              "        [-1.45325783e+00, -1.97605623e+00],\n",
              "        [-1.02669141e-01, -2.45622654e-01],\n",
              "        [-1.23195864e-01,  1.75266999e+00],\n",
              "        [ 2.70059942e-01, -1.21916712e+00],\n",
              "        [-7.95287193e-01, -9.36767686e-01],\n",
              "        [-9.95548619e-01, -8.46667114e-01],\n",
              "        [-1.03110059e+00,  1.49793799e+00],\n",
              "        [ 3.36116762e-01,  2.13401670e-01],\n",
              "        [-8.86208956e-02, -1.11372460e+00],\n",
              "        [-1.17963559e+00, -1.15355099e+00],\n",
              "        [ 3.79872711e-01,  5.58439066e-01],\n",
              "        [-2.19077898e-01,  2.00850459e+00],\n",
              "        [ 2.22929994e+00,  6.92925451e-03],\n",
              "        [ 8.86340826e-01, -8.20409764e-01],\n",
              "        [ 8.19290972e-01,  1.15573589e+00],\n",
              "        [-4.69034360e-01, -7.51710454e-01],\n",
              "        [-1.62337680e+00, -5.24442976e-01],\n",
              "        [ 1.18346748e+00,  8.40906891e-01],\n",
              "        [ 2.23898560e-01, -4.00037449e-02],\n",
              "        [ 2.93319964e-01,  1.62823666e+00],\n",
              "        [ 2.61954387e+00, -1.05985923e+00],\n",
              "        [-2.57583372e+00, -7.90985772e-01],\n",
              "        [ 1.02953465e+00,  9.19518371e-01],\n",
              "        [-2.33903406e-01, -9.22549325e-01],\n",
              "        [-1.14560378e+00, -1.12607280e-01],\n",
              "        [ 8.47299632e-01,  1.05875704e+00],\n",
              "        [-7.94594405e-01,  1.86386232e+00],\n",
              "        [ 1.66147159e+00,  5.40435722e-01],\n",
              "        [-1.36880785e+00, -1.49879685e+00],\n",
              "        [ 1.17890861e+00, -1.20233299e+00],\n",
              "        [ 5.23058521e-01,  2.14536426e+00],\n",
              "        [-5.14962371e-01, -7.77415165e-01],\n",
              "        [-1.85258485e+00,  3.09931699e+00],\n",
              "        [ 2.53917995e+00, -1.23445992e-01],\n",
              "        [ 1.13835016e+00, -1.15406322e+00],\n",
              "        [-1.00429615e+00,  9.53989013e-01],\n",
              "        [-1.39075533e+00, -3.64814143e-01],\n",
              "        [ 1.18625907e+00, -9.52392458e-01],\n",
              "        [ 3.57445020e-01, -1.39391903e+00],\n",
              "        [ 1.94384782e-01, -9.86623532e-01],\n",
              "        [ 8.23612562e-02,  2.41533234e-01],\n",
              "        [ 1.25838984e+00,  8.14428936e-01],\n",
              "        [-1.60516718e+00, -1.30209115e-01],\n",
              "        [ 1.01633165e+00,  1.37710735e+00],\n",
              "        [ 3.02060944e+00, -1.20300597e+00],\n",
              "        [-1.08109509e+00, -9.55261491e-01],\n",
              "        [-7.50431493e-01, -7.21794955e-01],\n",
              "        [-1.53493211e+00, -1.35908778e+00],\n",
              "        [-1.19181144e+00,  2.59930958e+00],\n",
              "        [ 2.19767513e+00,  1.17447527e-01],\n",
              "        [-3.84516669e+00, -3.53189772e+00],\n",
              "        [ 2.10673747e+00, -9.08443385e-01],\n",
              "        [-3.22573916e-03, -1.20271331e+00],\n",
              "        [ 1.17777437e+00,  1.01847217e+00],\n",
              "        [-7.28370853e-01, -1.18234340e+00],\n",
              "        [-1.97942274e+00, -1.87038098e+00],\n",
              "        [ 6.45990947e-01,  4.89172146e-01],\n",
              "        [-1.13580376e+00, -1.20385579e+00],\n",
              "        [-1.18198912e+00, -1.20678058e+00],\n",
              "        [ 2.92020832e-01,  1.43316007e+00],\n",
              "        [ 1.68331248e+00, -1.08368613e+00],\n",
              "        [ 2.39710997e+00,  8.71732474e-02],\n",
              "        [ 2.76443697e+00, -3.35805408e-01],\n",
              "        [-1.18649873e+00, -1.18973055e+00],\n",
              "        [-7.18229216e-01, -7.69472198e-01],\n",
              "        [ 8.73106827e-01,  1.04839513e+00],\n",
              "        [-5.05427102e-01,  2.25922912e+00],\n",
              "        [-1.46654240e+00, -9.51878526e-01],\n",
              "        [ 1.42432842e+00,  6.12940999e-01],\n",
              "        [ 1.00612700e+00, -9.40350985e-01],\n",
              "        [-7.00003279e-01,  1.34423323e+00],\n",
              "        [-4.65271850e-01,  1.64842999e+00],\n",
              "        [-4.67095185e-01,  1.73027049e+00],\n",
              "        [-7.20624165e-01,  1.87336314e+00],\n",
              "        [ 6.42435955e-01,  5.52341175e-01],\n",
              "        [ 1.51241210e-01, -8.95427218e-01],\n",
              "        [ 3.34484900e+00, -1.33652016e+00],\n",
              "        [ 2.89792941e+00, -1.35873607e+00],\n",
              "        [-1.28607425e+00, -1.35485789e+00],\n",
              "        [ 5.50561778e-01,  2.26509563e+00],\n",
              "        [-2.22585412e+00, -4.07447840e-01],\n",
              "        [ 2.68221896e+00, -6.58780220e-01],\n",
              "        [-1.41195475e+00,  1.28715574e+00],\n",
              "        [ 2.89856474e+00, -4.27914418e-01],\n",
              "        [-1.69789718e+00,  6.41344934e-01],\n",
              "        [-6.49323337e-01, -9.85603310e-01],\n",
              "        [ 2.69344042e+00, -2.50460842e-01],\n",
              "        [ 2.69131210e+00, -2.53916318e-01],\n",
              "        [-1.03428819e+00,  4.34307627e-01],\n",
              "        [ 1.03370608e+00, -1.17180061e+00],\n",
              "        [ 2.97355021e+00, -5.76570301e-01],\n",
              "        [-2.43317123e+00, -2.51628576e+00],\n",
              "        [ 2.94528449e-01,  2.27694472e-01],\n",
              "        [-4.19772033e-01, -1.61455877e-01],\n",
              "        [-8.19505075e-01,  3.12796208e+00],\n",
              "        [ 2.61965174e-01,  1.64526150e+00],\n",
              "        [-8.61137678e-01,  7.81567059e-01],\n",
              "        [-2.76591496e+00, -2.90422443e+00],\n",
              "        [ 1.78788530e+00, -8.24769511e-01],\n",
              "        [-2.50101622e+00, -2.37689187e+00],\n",
              "        [ 1.76262011e+00,  4.87321452e-01],\n",
              "        [-9.82064734e-01, -2.67181538e-02],\n",
              "        [-2.06570460e+00, -1.44385339e+00],\n",
              "        [-1.87761734e+00, -4.85096491e-02],\n",
              "        [-7.14648423e-01, -7.21520901e-01],\n",
              "        [-1.58699818e+00, -1.68500906e+00],\n",
              "        [-1.73439407e+00,  5.68351852e-01],\n",
              "        [ 1.03561105e+00,  1.05972780e+00],\n",
              "        [ 3.05865114e+00, -8.82678285e-01],\n",
              "        [ 1.56463949e+00, -9.08035870e-01],\n",
              "        [-3.86104675e-01,  1.26658926e+00],\n",
              "        [-5.88251855e-01,  2.39633329e+00],\n",
              "        [-1.20908788e+00,  7.53534829e-01],\n",
              "        [-1.10228747e+00, -1.09571841e+00],\n",
              "        [-4.25911024e-01, -5.83676425e-01],\n",
              "        [-1.65677387e+00,  2.93458563e+00],\n",
              "        [ 1.27035750e+00, -7.89908472e-01],\n",
              "        [ 2.19311623e+00,  1.04578246e-01],\n",
              "        [-5.05832862e-02,  1.57840839e+00],\n",
              "        [ 4.31793087e-01, -1.18985592e+00],\n",
              "        [ 7.43743410e-01, -1.11485766e+00],\n",
              "        [ 1.30086718e+00,  7.90331778e-01],\n",
              "        [ 2.10579726e+00, -5.83057511e-01],\n",
              "        [ 8.19755298e-01,  4.60879228e-01],\n",
              "        [-5.17793384e-01, -5.98408386e-01],\n",
              "        [-5.49375511e-01,  2.17692846e+00],\n",
              "        [-3.49421923e+00, -3.46012699e+00],\n",
              "        [ 3.23567685e+00, -6.76676337e-01],\n",
              "        [-6.65578011e-01, -1.03588191e+00],\n",
              "        [ 4.53498957e-01, -9.35699796e-01],\n",
              "        [-8.37372488e-01,  2.43210108e+00],\n",
              "        [-1.44029872e+00,  8.04109469e-01],\n",
              "        [-1.42668198e+00,  5.16627514e-01],\n",
              "        [ 1.06082281e+00, -1.11885549e+00],\n",
              "        [ 2.13573174e+00, -1.17763617e+00],\n",
              "        [-4.10163532e-01,  6.46080198e-01],\n",
              "        [ 8.74059390e-01, -1.19176435e+00],\n",
              "        [ 1.30703525e+00, -1.16731354e+00],\n",
              "        [ 3.19120517e+00, -4.97730362e-01],\n",
              "        [-2.16376388e+00, -2.34818460e+00],\n",
              "        [ 8.62984094e-01, -9.72644603e-01],\n",
              "        [-3.49426737e-01,  1.53661751e+00],\n",
              "        [ 4.03343512e-01, -1.18144701e+00],\n",
              "        [ 6.84756854e-01,  1.21344045e+00],\n",
              "        [-3.53837461e-01,  2.12256043e+00],\n",
              "        [-2.09917294e+00,  1.84756054e-01],\n",
              "        [-1.15121409e+00, -3.41179981e-02],\n",
              "        [ 2.98135036e-01,  4.43167581e-01],\n",
              "        [ 5.81614904e-01,  1.41239638e+00],\n",
              "        [-1.36750918e+00,  1.15409568e+00],\n",
              "        [ 2.34431322e-01, -1.11400704e+00],\n",
              "        [ 2.68940073e-01,  2.54195359e+00],\n",
              "        [-1.59501645e+00,  2.87988451e-01],\n",
              "        [-6.48179440e-01,  1.47403690e+00],\n",
              "        [-1.46853464e+00,  1.57104828e+00],\n",
              "        [-1.11318095e+00,  1.27803332e-01],\n",
              "        [ 3.18447848e+00, -1.37575144e+00],\n",
              "        [-1.65987525e+00, -1.73574922e+00],\n",
              "        [-9.36416355e-02,  1.99327266e+00],\n",
              "        [ 2.13283112e+00,  1.57732915e-01],\n",
              "        [-1.77585096e+00, -3.67076701e-01],\n",
              "        [ 9.24357799e-01,  8.82615400e-01],\n",
              "        [ 6.19896012e-01,  1.35393107e+00],\n",
              "        [-6.02091141e-01, -6.87159722e-01],\n",
              "        [-2.01380386e-01,  3.89440035e-02],\n",
              "        [-5.03929692e-01,  2.19314649e+00],\n",
              "        [-4.82403452e-02, -1.36956309e+00],\n",
              "        [ 1.98855244e+00,  5.71003530e-01],\n",
              "        [-1.10703946e+00, -1.06669431e+00],\n",
              "        [-1.14554246e-01,  1.70097336e+00],\n",
              "        [ 1.29690447e+00,  6.12584986e-01],\n",
              "        [-3.38675241e-01,  2.18599111e+00],\n",
              "        [ 1.55221528e+00, -1.01146236e+00],\n",
              "        [-1.81904649e-01, -7.72614030e-01],\n",
              "        [-1.46090561e+00, -1.18148301e+00],\n",
              "        [-1.28442381e+00,  4.07752035e-01],\n",
              "        [ 6.71250029e-01,  1.28652238e+00],\n",
              "        [ 8.70850526e-01, -1.15025051e+00],\n",
              "        [-6.90958835e-01,  2.38342967e+00],\n",
              "        [-2.60168743e+00, -2.56066661e+00],\n",
              "        [-2.88914171e+00, -2.85959001e+00],\n",
              "        [ 6.17684409e-01,  1.29507295e+00],\n",
              "        [-9.00968364e-01,  9.42808569e-01],\n",
              "        [-1.05326962e+00,  1.15185857e+00],\n",
              "        [-3.75347204e-01,  2.02717929e+00],\n",
              "        [-1.35954469e+00,  4.12253503e-01],\n",
              "        [ 6.26902264e-01,  5.37022914e-01],\n",
              "        [-1.09381583e+00,  2.53389307e+00],\n",
              "        [-1.93709034e-01,  1.85199160e+00],\n",
              "        [-9.33115123e-01, -6.72105750e-01],\n",
              "        [-7.33049608e-01,  2.38239045e+00],\n",
              "        [ 2.18903178e+00, -1.08510531e+00],\n",
              "        [ 1.98640750e+00, -1.01913834e+00],\n",
              "        [-2.38213776e+00, -4.27446912e-01],\n",
              "        [ 1.81755983e+00,  4.29775512e-01],\n",
              "        [-1.00426430e+00, -8.12181745e-01],\n",
              "        [-7.93556771e-01, -7.88516236e-01],\n",
              "        [ 3.27843287e+00, -1.17543098e+00],\n",
              "        [-9.41722312e-01, -6.40421937e-02],\n",
              "        [-1.34403040e+00,  8.18472503e-01],\n",
              "        [-6.51919047e-01, -7.54819636e-01],\n",
              "        [ 5.89576749e-01,  1.23463526e+00],\n",
              "        [-4.31171924e-01,  2.14837671e+00],\n",
              "        [ 2.59916910e+00,  2.33886611e+00],\n",
              "        [ 2.30127946e+00, -1.10082751e+00],\n",
              "        [-5.10640051e-01, -1.07910459e+00],\n",
              "        [ 2.60675347e+00, -1.07374689e-01],\n",
              "        [ 1.35476195e-01,  1.64980982e+00],\n",
              "        [-1.52803357e+00,  1.06207542e-01],\n",
              "        [ 1.02227645e+00, -9.88603122e-01],\n",
              "        [-7.39356638e-01,  1.44056221e+00],\n",
              "        [ 2.27983193e-01, -7.77485339e-01],\n",
              "        [-3.76479700e-01,  1.45439639e+00],\n",
              "        [-6.09349593e-01,  2.77101678e+00],\n",
              "        [ 1.85827112e+00,  3.82066484e-01],\n",
              "        [-1.07468028e+00,  1.29721447e+00],\n",
              "        [-3.41488482e-01,  9.33536393e-01],\n",
              "        [-6.56994421e-01,  9.79162187e-01],\n",
              "        [ 2.43020283e+00, -8.97288931e-01],\n",
              "        [-1.71643943e+00,  5.75962337e-01],\n",
              "        [ 2.46117425e-01,  1.60895523e-01],\n",
              "        [ 1.62640888e+00,  7.47502437e-01],\n",
              "        [-8.78887779e-01,  2.32969272e-01],\n",
              "        [ 8.90807683e-01, -1.10688054e+00],\n",
              "        [ 1.28383683e+00,  9.42786437e-01],\n",
              "        [-2.13973685e-01, -1.20527645e-01],\n",
              "        [-9.53272242e-01,  1.86033080e+00],\n",
              "        [-1.56802547e+00,  5.53409373e-01],\n",
              "        [-4.93366855e-01,  1.34172764e+00],\n",
              "        [ 5.35555417e-01, -1.26659885e+00],\n",
              "        [-1.95841437e-01, -2.67822051e-01],\n",
              "        [-1.87850595e+00,  5.31465958e-01],\n",
              "        [-1.31367184e+00,  1.87047926e+00],\n",
              "        [ 1.02735575e+00,  9.99444459e-01],\n",
              "        [-5.89423801e-01,  2.26165633e+00]]),\n",
              " array([0., 0., 0., 1., 1., 1., 1., 1., 0., 0., 0., 1., 1., 1., 0., 0., 1.,\n",
              "        1., 1., 0., 1., 1., 0., 0., 1., 1., 1., 0., 1., 1., 0., 0., 1., 0.,\n",
              "        1., 0., 0., 1., 0., 1., 0., 0., 1., 1., 1., 0., 1., 1., 0., 0., 1.,\n",
              "        1., 0., 0., 0., 1., 0., 0., 0., 0., 0., 0., 0., 0., 1., 1., 0., 0.,\n",
              "        1., 0., 1., 0., 0., 0., 1., 0., 1., 0., 0., 1., 0., 0., 1., 0., 1.,\n",
              "        0., 1., 0., 0., 1., 0., 0., 0., 0., 1., 1., 1., 0., 1., 0., 0., 0.,\n",
              "        1., 0., 0., 0., 0., 1., 1., 0., 1., 0., 1., 0., 1., 0., 1., 1., 1.,\n",
              "        1., 0., 1., 1., 0., 0., 0., 0., 1., 0., 0., 1., 1., 1., 1., 0., 0.,\n",
              "        0., 0., 0., 0., 1., 0., 0., 0., 0., 1., 1., 1., 1., 1., 0., 0., 0.,\n",
              "        0., 1., 0., 1., 1., 0., 1., 1., 1., 1., 0., 1., 0., 0., 1., 1., 0.,\n",
              "        0., 0., 0., 1., 1., 0., 1., 1., 1., 1., 0., 0., 1., 0., 1., 1., 0.,\n",
              "        1., 1., 0., 1., 0., 1., 0., 1., 0., 0., 1., 1., 1., 0., 0., 1., 1.,\n",
              "        1., 0., 1., 0., 0., 1., 0., 0., 0., 1., 1., 0., 1., 1., 1., 1., 0.,\n",
              "        0., 0., 0., 1., 1., 1., 1., 0., 1., 1., 1., 1., 1., 1., 0., 0., 0.,\n",
              "        0., 0., 1., 1., 1., 0., 0., 0., 1., 0., 1., 0., 0., 1., 1., 0., 1.,\n",
              "        1., 0., 0., 0., 0., 1., 0., 0., 1., 0., 1., 0., 0., 0., 0., 0., 0.,\n",
              "        1., 1., 1., 0., 0., 0., 0., 0., 1., 1., 1., 1., 1., 1., 1., 1., 0.,\n",
              "        0., 1., 0., 1., 1., 1., 1., 0., 0., 1., 1., 0., 1., 1., 1., 0., 1.,\n",
              "        0., 1., 1., 1., 0., 0., 0., 1., 0., 1., 0., 0., 0., 1., 0., 1., 0.,\n",
              "        0., 1., 0., 1., 1., 0., 0., 1., 1., 1., 0., 1., 1., 1., 1., 1., 0.,\n",
              "        0., 1., 1., 1., 0., 0., 1., 0., 0., 1., 0., 0., 1., 1., 1., 0., 1.,\n",
              "        1., 0., 1., 0., 0., 1., 0., 0., 0., 1., 0., 0., 1., 1., 1., 1., 0.,\n",
              "        1., 0., 1., 0., 0., 1., 0., 0., 0., 1., 0., 0., 1., 0., 1., 1., 0.,\n",
              "        0., 0., 0., 1., 0., 0., 0., 1., 1.]),\n",
              " <keras.engine.sequential.Sequential at 0x7f595d5bf208>)"
            ]
          },
          "metadata": {
            "tags": []
          },
          "execution_count": 10
        }
      ]
    },
    {
      "metadata": {
        "id": "uBhaIxgTbR4M",
        "colab_type": "code",
        "colab": {
          "base_uri": "https://localhost:8080/",
          "height": 7531
        },
        "outputId": "53889afb-f694-4717-a519-1e613ba08a54"
      },
      "cell_type": "code",
      "source": [
        "X_train, y, model=run_keras_2d(\"3\", archs(2)[3], 10, split=0.25, display=False, verbose=False, trials=5)\n"
      ],
      "execution_count": 11,
      "outputs": [
        {
          "output_type": "stream",
          "text": [
            "Keras FC: dataset= 3\n",
            "Convert from -1,1 to 0,1\n",
            "Loading X (400, 2) y (400,) classes {0.0, 1.0}\n",
            "Convert from -1,1 to 0,1\n",
            "Loading X (200, 2) y (200,) classes {0.0, 1.0}\n",
            "\n",
            "Loss on validation set:0.11737349464441955 Accuracy on validation set: 0.965\n",
            "\n",
            "Loss on validation set:0.11629107871028928 Accuracy on validation set: 0.965\n",
            "\n",
            "Loss on validation set:0.11663985382366093 Accuracy on validation set: 0.96\n",
            "\n",
            "Loss on validation set:0.10883719142266728 Accuracy on validation set: 0.97\n",
            "\n",
            "Loss on validation set:0.12772527949093587 Accuracy on validation set: 0.955\n",
            "\n",
            "Avg. validation accuracy:0.9629999999999999\n"
          ],
          "name": "stdout"
        },
        {
          "output_type": "execute_result",
          "data": {
            "text/plain": [
              "(array([[ 9.64624265e-01, -1.72598657e+00],\n",
              "        [ 3.11442245e-01,  1.10354795e+00],\n",
              "        [ 9.33095520e-02, -1.34614077e+00],\n",
              "        [-4.98048222e-01, -2.05324570e+00],\n",
              "        [-2.87826838e-01,  8.75110161e-01],\n",
              "        [-6.07685719e-01, -9.00295674e-01],\n",
              "        [ 1.53031689e+00, -1.42527722e+00],\n",
              "        [ 2.88990304e-01, -3.04575699e-01],\n",
              "        [ 2.84183705e-01,  9.97209950e-01],\n",
              "        [-8.66231054e-01,  1.14435380e+00],\n",
              "        [-6.11864335e-01, -3.04394204e-01],\n",
              "        [-1.02646091e+00,  7.30186986e-01],\n",
              "        [ 2.15120831e-01, -1.07328215e+00],\n",
              "        [ 3.07141783e-01, -5.24623805e-01],\n",
              "        [ 1.62752185e-01,  9.21716731e-01],\n",
              "        [ 4.28358501e-01, -1.10757364e+00],\n",
              "        [-3.13859609e-01,  1.08169038e+00],\n",
              "        [-9.78487004e-01,  1.33753667e+00],\n",
              "        [ 1.29299584e+00,  1.13473841e+00],\n",
              "        [-6.44300389e-01,  1.14495920e+00],\n",
              "        [-3.90784151e-01,  9.14456623e-01],\n",
              "        [ 1.56110391e+00, -4.70849410e-01],\n",
              "        [ 7.15681337e-01, -7.61277410e-02],\n",
              "        [-2.48121610e+00, -1.36699313e+00],\n",
              "        [ 8.25923398e-01,  1.33663561e+00],\n",
              "        [ 5.01637382e-02, -1.86205461e-01],\n",
              "        [-1.95634261e-02,  1.08597651e+00],\n",
              "        [ 3.71876077e-01,  1.20938305e+00],\n",
              "        [-8.20603757e-01,  7.74998455e-01],\n",
              "        [-5.30929289e-01,  1.37027026e+00],\n",
              "        [-1.14506636e+00, -6.01617601e-01],\n",
              "        [ 1.08570167e+00, -9.29783088e-01],\n",
              "        [-1.07412296e-01,  1.18497910e+00],\n",
              "        [ 1.66128608e+00,  1.59085862e+00],\n",
              "        [ 1.24379850e+00, -1.24186239e+00],\n",
              "        [-6.78200836e-02, -7.11586415e-01],\n",
              "        [ 3.53483649e-01, -1.04684497e+00],\n",
              "        [-6.40393302e-02, -2.09756863e-01],\n",
              "        [-5.10468330e-01,  7.41753970e-01],\n",
              "        [ 2.52094708e+00,  1.11913471e+00],\n",
              "        [ 4.82131302e-01, -7.66786885e-01],\n",
              "        [ 7.17487011e-01,  1.40977888e+00],\n",
              "        [-1.56985091e+00,  1.81721816e-01],\n",
              "        [-2.69641336e-01, -1.31882248e+00],\n",
              "        [ 1.53758454e+00,  4.26999405e-01],\n",
              "        [ 1.25803015e+00, -1.32034853e+00],\n",
              "        [-1.77364406e-01, -9.63714670e-01],\n",
              "        [-1.48038581e+00,  1.05573465e+00],\n",
              "        [-5.98009083e-02,  8.22694316e-01],\n",
              "        [-1.74711514e-01, -2.36960028e+00],\n",
              "        [ 5.35367865e-01,  1.19632359e+00],\n",
              "        [ 9.22557925e-01,  7.22022394e-01],\n",
              "        [ 5.31870945e-01,  6.12922734e-03],\n",
              "        [-1.42672828e+00, -1.68955108e+00],\n",
              "        [-6.53755185e-01,  1.22121044e+00],\n",
              "        [ 2.82678103e-01, -1.52199667e+00],\n",
              "        [-9.22451178e-01,  1.55938011e+00],\n",
              "        [-1.10963737e+00, -7.21441528e-01],\n",
              "        [ 3.60688993e-01, -1.41913281e+00],\n",
              "        [-1.92028794e-01,  6.18618137e-01],\n",
              "        [ 8.65776779e-01, -1.21762329e+00],\n",
              "        [-1.21620968e+00,  6.83049065e-01],\n",
              "        [-2.09114448e-01,  4.01341583e-01],\n",
              "        [-4.73362117e-01,  5.83668048e-01],\n",
              "        [-1.37496427e+00, -2.14360387e+00],\n",
              "        [-1.03777338e+00,  8.71249143e-01],\n",
              "        [-5.66103130e-02, -1.74011165e+00],\n",
              "        [-1.00421449e+00,  9.21219259e-01],\n",
              "        [-2.60818351e-02,  1.01596097e+00],\n",
              "        [-2.79335783e-01, -8.87909018e-01],\n",
              "        [ 1.80089979e-01,  8.68041199e-01],\n",
              "        [ 1.02194219e+00, -5.46483705e-01],\n",
              "        [ 4.69102326e-01,  1.00753548e+00],\n",
              "        [-7.36954920e-01, -1.99090996e+00],\n",
              "        [ 3.80551397e+00,  1.49137866e-01],\n",
              "        [-9.51855250e-01, -2.25623806e+00],\n",
              "        [ 4.51101916e-01,  1.05104320e+00],\n",
              "        [ 2.98144973e-01,  5.57058930e-01],\n",
              "        [ 1.45250817e+00, -1.98062295e+00],\n",
              "        [-1.60947813e+00,  1.00125605e+00],\n",
              "        [ 2.40553070e-01,  7.52439524e-01],\n",
              "        [ 4.70360399e-01,  1.05361224e+00],\n",
              "        [ 1.09315404e+00,  1.25350731e+00],\n",
              "        [-1.80086374e-01, -1.62109929e+00],\n",
              "        [-1.05234752e+00, -1.19191135e+00],\n",
              "        [ 6.91740501e-01,  9.32466520e-01],\n",
              "        [ 2.04669999e+00, -1.01775787e+00],\n",
              "        [-2.07979093e+00,  3.40368771e-01],\n",
              "        [-1.55859064e-01, -9.93383540e-01],\n",
              "        [ 2.74061755e-02, -1.06785991e+00],\n",
              "        [ 8.09768501e-01,  1.25234471e+00],\n",
              "        [-2.77688414e-01, -7.44748537e-01],\n",
              "        [-1.94083970e-01,  1.25165885e+00],\n",
              "        [ 2.68572445e-01,  9.19915554e-01],\n",
              "        [ 2.97069152e-01, -1.18341697e+00],\n",
              "        [-1.06101136e+00,  9.01626186e-01],\n",
              "        [ 1.27208381e-01,  1.33817514e+00],\n",
              "        [ 1.22280969e+00, -6.34011641e-01],\n",
              "        [ 1.65836601e-01,  1.04371696e+00],\n",
              "        [-1.09673065e-01, -9.38314921e-01],\n",
              "        [-8.19227913e-01,  1.13638010e+00],\n",
              "        [-1.40386913e+00, -1.02071773e+00],\n",
              "        [-1.23416151e+00,  1.19439315e+00],\n",
              "        [ 8.49637322e-01, -1.29314599e-01],\n",
              "        [ 9.04075035e-01, -4.19988897e-01],\n",
              "        [ 6.12599632e-01, -6.08357600e-01],\n",
              "        [-8.98607781e-01,  1.32135061e+00],\n",
              "        [-9.15863874e-01,  1.16368824e+00],\n",
              "        [ 2.02584111e+00,  4.63471587e-03],\n",
              "        [-1.45236904e+00,  4.70368522e-01],\n",
              "        [ 7.34556744e-01,  1.12729093e+00],\n",
              "        [ 2.69701928e-01, -3.44847643e-01],\n",
              "        [-2.06423656e+00, -1.49811482e+00],\n",
              "        [-7.02131498e-01, -6.29810247e-01],\n",
              "        [-2.66744646e-01,  1.24707267e+00],\n",
              "        [ 1.24118132e-01, -1.30177445e+00],\n",
              "        [ 3.38379307e-01,  1.31134144e+00],\n",
              "        [-8.19510632e-01,  9.16036256e-01],\n",
              "        [-1.59015462e+00,  7.44042740e-02],\n",
              "        [ 1.03489991e+00,  1.19767297e+00],\n",
              "        [ 8.70593920e-02,  1.16291413e+00],\n",
              "        [-1.64588447e+00, -1.79336505e+00],\n",
              "        [ 1.00844652e+00,  1.30543156e+00],\n",
              "        [ 4.96845017e-01,  8.59549327e-01],\n",
              "        [-2.62825570e+00, -1.17227297e+00],\n",
              "        [-3.98901569e-01, -1.37282347e+00],\n",
              "        [-9.66556680e-02,  1.17882331e+00],\n",
              "        [ 6.10165824e-01, -7.02758659e-01],\n",
              "        [-1.25241081e-01,  7.65571558e-01],\n",
              "        [ 3.01511975e-01,  6.02119507e-01],\n",
              "        [-2.69267911e-01, -2.13216450e-02],\n",
              "        [ 1.52537231e+00, -7.05544863e-01],\n",
              "        [-5.02895716e-01,  1.03914579e+00],\n",
              "        [-9.03762539e-01, -1.97830405e+00],\n",
              "        [ 2.50246022e-01,  1.16369383e+00],\n",
              "        [-7.32381388e-01, -3.16439954e-01],\n",
              "        [-1.07724068e+00, -9.62656450e-01],\n",
              "        [ 1.99083423e+00,  7.39232662e-01],\n",
              "        [ 4.61412128e-01,  1.62721884e+00],\n",
              "        [ 1.17643799e+00, -7.50069105e-02],\n",
              "        [ 5.93103644e-01,  1.20379038e+00],\n",
              "        [-8.76150821e-01,  9.38246134e-01],\n",
              "        [-1.14015107e+00,  6.75329607e-01],\n",
              "        [-1.02974722e+00,  8.08029008e-01],\n",
              "        [-1.55601351e-01, -4.15193470e-01],\n",
              "        [-6.50672262e-01,  1.22474875e+00],\n",
              "        [-2.80759883e-01, -6.54796310e-01],\n",
              "        [ 1.51944832e+00,  6.69433159e-01],\n",
              "        [-4.72235332e-02,  1.12898458e+00],\n",
              "        [-1.44035415e+00,  1.00674819e+00],\n",
              "        [ 8.29727566e-01, -1.71167084e+00],\n",
              "        [ 6.42911514e-01,  9.43444347e-01],\n",
              "        [-1.10907769e+00,  6.14530338e-01],\n",
              "        [ 4.81312605e-01,  9.71724691e-01],\n",
              "        [ 1.15960716e+00, -1.52652878e+00],\n",
              "        [-6.25363136e-01, -2.16919689e+00],\n",
              "        [ 1.10922347e+00, -1.68327194e+00],\n",
              "        [ 3.59507195e-01,  7.53390980e-01],\n",
              "        [ 1.10434286e+00, -1.11628861e+00],\n",
              "        [-6.24272716e-01,  1.25215523e+00],\n",
              "        [-5.14657260e-01,  1.25692322e+00],\n",
              "        [ 1.07186791e+00, -6.00332252e-01],\n",
              "        [-1.78366045e-01,  1.05159727e+00],\n",
              "        [-6.09169793e-01,  1.21864793e+00],\n",
              "        [ 1.61892082e-02,  7.50985464e-01],\n",
              "        [ 4.45047706e-01, -8.43962960e-01],\n",
              "        [-3.44555998e-01,  4.75899767e-03],\n",
              "        [-7.36329438e-01,  8.31344915e-01],\n",
              "        [ 3.76946605e-03, -2.19287900e+00],\n",
              "        [-5.76529670e-01, -9.03522018e-01],\n",
              "        [-1.54098934e+00, -1.19598653e+00],\n",
              "        [-5.01996284e-02,  9.92626678e-01],\n",
              "        [ 1.92377126e-01, -1.50177035e-01],\n",
              "        [ 1.44416641e+00,  3.36156387e-01],\n",
              "        [ 1.61815412e+00, -1.41098154e+00],\n",
              "        [-1.45586427e+00,  1.06759553e+00],\n",
              "        [ 9.89600289e-01,  1.26694159e+00],\n",
              "        [-4.93084898e-01,  7.83595885e-01],\n",
              "        [ 5.41193475e-01, -1.16136205e+00],\n",
              "        [-3.44366268e-01, -1.36434668e+00],\n",
              "        [ 6.82230917e-01,  1.43235646e+00],\n",
              "        [-2.19315340e-01,  1.31915105e+00],\n",
              "        [-9.45670383e-01,  2.91358459e-01],\n",
              "        [ 7.74967979e-01, -5.45248881e-02],\n",
              "        [ 6.65546340e-01, -4.87610678e-01],\n",
              "        [ 9.82494282e-01, -1.33938777e+00],\n",
              "        [ 1.17325348e-01, -1.47735832e+00],\n",
              "        [-2.81881752e-01, -8.84938507e-01],\n",
              "        [ 1.63713564e+00, -2.17432334e+00],\n",
              "        [ 7.87116585e-01, -5.48711063e-01],\n",
              "        [ 1.83689989e-01, -2.78607469e-01],\n",
              "        [-5.89184200e-01, -7.13968242e-01],\n",
              "        [ 6.06949123e-01, -1.92695095e+00],\n",
              "        [ 1.13615505e+00,  9.34159707e-01],\n",
              "        [-5.33350199e-01, -7.01342176e-01],\n",
              "        [-3.55639647e-02,  1.26847710e+00],\n",
              "        [ 1.25180445e+00, -1.31323403e+00],\n",
              "        [-4.83400521e-01,  5.84297393e-01],\n",
              "        [ 1.24289721e+00,  3.87016394e-01],\n",
              "        [ 7.76414305e-01, -7.84042128e-01],\n",
              "        [-6.11094774e-01, -1.75893850e+00],\n",
              "        [ 7.14038234e-01,  1.02249603e+00],\n",
              "        [-1.47834412e+00, -4.58217735e-01],\n",
              "        [ 3.43319427e-01, -1.58022728e+00],\n",
              "        [ 2.22795714e+00,  1.13783995e+00],\n",
              "        [-6.04300483e-01, -1.27031016e+00],\n",
              "        [-3.12358157e-01, -1.47095439e+00],\n",
              "        [-6.74971949e-01,  1.23686691e+00],\n",
              "        [ 1.43637773e+00,  8.88204900e-01],\n",
              "        [-5.09257270e-01,  1.47036827e+00],\n",
              "        [ 1.99009149e+00,  9.04658862e-01],\n",
              "        [-1.33650871e-01, -9.32036395e-01],\n",
              "        [ 3.39483309e-01, -1.53777198e+00],\n",
              "        [-1.10877497e+00,  1.14858995e+00],\n",
              "        [ 2.56817317e+00,  1.00347317e+00],\n",
              "        [ 7.10252376e-01,  1.10546805e+00],\n",
              "        [ 1.12891929e-01,  9.84968701e-01],\n",
              "        [ 4.74916742e-01, -1.14933559e+00],\n",
              "        [-5.62743687e-01,  1.05045366e+00],\n",
              "        [-4.21253088e-01, -8.18917818e-01],\n",
              "        [-2.48854241e+00,  6.00533278e-01],\n",
              "        [-1.10192400e-01, -1.62969750e+00],\n",
              "        [-1.17264210e+00, -2.10489761e+00],\n",
              "        [ 1.16818754e+00, -4.06042985e-01],\n",
              "        [-1.91870264e+00, -9.72408379e-01],\n",
              "        [-1.48656535e+00,  7.84957559e-01],\n",
              "        [ 1.49791013e+00, -9.05810242e-01],\n",
              "        [ 7.44323809e-01, -1.11690801e+00],\n",
              "        [-1.66460869e+00, -9.50342075e-01],\n",
              "        [-1.18822392e+00,  6.05652299e-01],\n",
              "        [-9.28369699e-01,  1.09835499e+00],\n",
              "        [ 1.51880196e-01, -1.13827324e+00],\n",
              "        [ 1.47028284e+00, -1.02889795e+00],\n",
              "        [ 1.30783537e+00,  8.72599493e-01],\n",
              "        [-8.60042024e-01,  6.82399393e-01],\n",
              "        [ 1.10961771e+00, -1.71291812e+00],\n",
              "        [ 1.03949361e+00, -9.53568987e-01],\n",
              "        [ 1.07484879e+00,  8.23433889e-01],\n",
              "        [ 3.31873096e-01,  1.16156475e+00],\n",
              "        [ 1.49376800e-01,  6.48015791e-01],\n",
              "        [-5.68201865e-01,  9.97233331e-01],\n",
              "        [-9.17862713e-01, -1.28247051e+00],\n",
              "        [ 4.17050342e-01,  1.06947274e+00],\n",
              "        [ 9.33550381e-01, -2.31296466e-01],\n",
              "        [ 7.82625350e-02,  7.77665351e-01],\n",
              "        [-5.62944237e-01, -1.81517397e+00],\n",
              "        [ 2.83963318e-01,  1.12920018e+00],\n",
              "        [ 5.10668351e-01,  1.43624362e+00],\n",
              "        [-1.34882284e+00, -2.41377262e+00],\n",
              "        [ 7.58980601e-01,  1.17926749e+00],\n",
              "        [ 4.10510520e-01, -5.62003310e-01],\n",
              "        [-1.29854547e+00, -1.78213954e+00],\n",
              "        [-8.59917131e-01, -7.74332383e-01],\n",
              "        [-1.24458639e+00,  7.30610549e-01],\n",
              "        [-7.59563291e-01, -9.90655407e-01],\n",
              "        [-1.55593397e+00,  1.54091974e+00],\n",
              "        [ 2.01124258e+00, -6.50151870e-01],\n",
              "        [ 1.84385841e+00, -1.19911559e+00],\n",
              "        [-1.15840553e+00,  1.15352059e+00],\n",
              "        [-5.97566850e-01, -2.36224337e-01],\n",
              "        [-4.22725606e-01, -2.40543697e+00],\n",
              "        [ 1.40697557e+00,  8.38761777e-01],\n",
              "        [-3.23073838e-01, -1.53094630e+00],\n",
              "        [-7.97818459e-01,  1.73665182e-01],\n",
              "        [-3.27830527e-01,  1.18556267e+00],\n",
              "        [ 2.89462527e-01,  8.06161465e-01],\n",
              "        [ 6.44335216e-01, -9.07492218e-01],\n",
              "        [ 1.34281872e+00, -1.98908865e+00],\n",
              "        [ 6.65228620e-01,  1.05274437e+00],\n",
              "        [-1.47211524e-01, -6.12836186e-01],\n",
              "        [-3.90186213e-01,  8.66811674e-01],\n",
              "        [ 1.26251243e+00, -1.33798222e+00],\n",
              "        [ 3.05757245e+00,  8.02533863e-02],\n",
              "        [ 8.71930256e-01,  9.44092465e-01],\n",
              "        [ 7.50266447e-01,  4.23964853e-01],\n",
              "        [ 2.18459391e+00,  9.08547003e-01],\n",
              "        [ 5.56595729e-01, -9.68298445e-01],\n",
              "        [-2.84390861e-01,  1.28516740e-01],\n",
              "        [-4.14832677e-01, -7.61685543e-01],\n",
              "        [ 6.13678993e-01, -1.17730862e+00],\n",
              "        [-1.93393136e+00,  1.03763746e+00],\n",
              "        [ 4.51483402e-01,  6.79791225e-01],\n",
              "        [-1.29008702e-01, -6.50680800e-01],\n",
              "        [ 4.20037118e-01,  1.03254396e+00],\n",
              "        [-9.19477385e-01, -8.83574263e-01],\n",
              "        [ 9.05983584e-01,  8.39840174e-01],\n",
              "        [-1.22825580e+00,  6.62205401e-01],\n",
              "        [ 3.19006021e-01,  7.05395797e-01],\n",
              "        [ 5.14712326e-01,  1.11414252e+00],\n",
              "        [ 5.05644320e-01, -1.31135357e+00],\n",
              "        [-6.21091558e-03, -1.53802337e+00],\n",
              "        [-9.26586783e-01,  2.04149817e+00],\n",
              "        [-9.10797208e-01, -1.51408134e+00],\n",
              "        [ 3.27494621e+00, -3.78799528e-01],\n",
              "        [-6.57027257e-01,  1.04703625e+00],\n",
              "        [ 4.04713428e-01,  1.39722625e+00],\n",
              "        [-1.56887718e+00,  1.58366785e+00],\n",
              "        [-7.65561520e-01,  1.13055983e+00],\n",
              "        [-6.38776473e-01, -1.49137041e+00],\n",
              "        [ 1.63904127e-01,  8.16453466e-01],\n",
              "        [-3.38696894e-01,  2.09506699e-01],\n",
              "        [-1.26693058e-01, -7.50666180e-01],\n",
              "        [-9.00916800e-01,  1.09612133e+00],\n",
              "        [ 1.34999576e+00,  5.94932219e-01],\n",
              "        [-1.91133900e-01, -1.35711833e+00],\n",
              "        [ 1.20849816e+00, -5.16103953e-01],\n",
              "        [-1.79255442e-01,  9.04111402e-01],\n",
              "        [ 1.62749494e+00, -1.17694401e+00],\n",
              "        [-1.11206353e+00, -1.69493671e+00],\n",
              "        [-1.40281568e+00, -9.50144300e-01],\n",
              "        [-7.93915442e-02,  5.93908225e-01],\n",
              "        [ 4.86250026e-01, -1.56351910e+00],\n",
              "        [-4.54727548e-01,  8.28009080e-01],\n",
              "        [-2.50691573e+00, -5.61748430e-01],\n",
              "        [-1.72375519e+00, -7.07488608e-01],\n",
              "        [ 6.97383772e-01, -2.26678389e+00],\n",
              "        [ 6.44314599e-01,  9.56992667e-01],\n",
              "        [ 7.70115634e-01,  7.80058089e-01],\n",
              "        [ 6.37641117e-01,  9.24521718e-01],\n",
              "        [-1.12435698e+00, -4.30035232e-01],\n",
              "        [ 2.70581984e-01,  8.32604236e-01],\n",
              "        [-1.47108290e+00,  9.47191900e-01],\n",
              "        [ 1.03397734e+00,  9.94625504e-01],\n",
              "        [-1.54337318e+00, -5.27867198e-01],\n",
              "        [-1.27959872e-01,  1.42780257e+00],\n",
              "        [-1.30422169e-01, -8.92018698e-01],\n",
              "        [-1.28541366e+00,  8.89537258e-01],\n",
              "        [-2.58962352e-01,  9.36627693e-01],\n",
              "        [ 2.97567420e-02, -1.70729600e+00],\n",
              "        [-9.89379259e-01,  1.43420494e+00],\n",
              "        [ 8.73755570e-01,  7.88411817e-01],\n",
              "        [-2.78095935e+00,  1.33528844e+00],\n",
              "        [ 1.34258818e+00,  9.03842338e-01],\n",
              "        [ 6.21830757e-01,  1.03110956e+00],\n",
              "        [ 4.82659146e-01, -1.18185819e+00],\n",
              "        [-8.83476976e-01,  1.09421850e+00],\n",
              "        [ 3.56311070e-01, -1.83422288e+00],\n",
              "        [-9.49084956e-01,  1.13001262e+00],\n",
              "        [-1.29386870e+00,  8.96543019e-01],\n",
              "        [-2.91308358e-01, -1.32297240e+00],\n",
              "        [-5.15713362e-01, -2.05668156e+00],\n",
              "        [-1.80173222e-01,  8.91152061e-01],\n",
              "        [-6.46615721e-02,  7.29392228e-01],\n",
              "        [ 1.02885868e+00,  1.03520193e+00],\n",
              "        [-2.43518124e+00, -1.33467556e+00],\n",
              "        [-8.88840612e-01,  9.57599953e-01],\n",
              "        [-6.74156049e-01,  8.03037965e-01],\n",
              "        [-6.36989768e-01,  8.95222556e-01],\n",
              "        [-3.92251702e-01, -5.99675561e-01],\n",
              "        [-4.61139539e-01, -7.41682510e-01],\n",
              "        [ 3.59454556e-02, -4.94537729e-01],\n",
              "        [ 1.25901523e+00,  1.11166169e+00],\n",
              "        [ 1.55592533e+00,  9.77496170e-01],\n",
              "        [ 8.37403896e-01,  7.07465258e-01],\n",
              "        [-9.67562269e-02, -1.04634812e+00],\n",
              "        [ 1.98167116e-01,  1.19834281e+00],\n",
              "        [ 3.70332689e-01, -2.35719846e+00],\n",
              "        [-8.72351116e-01,  6.33199395e-01],\n",
              "        [ 2.27937491e+00, -5.31454264e-01],\n",
              "        [-1.61810048e-01,  1.17513901e+00],\n",
              "        [-8.55522699e-01, -4.78157321e-01],\n",
              "        [ 7.74771870e-01, -1.12994088e+00],\n",
              "        [ 4.42338898e-01, -7.90399307e-01],\n",
              "        [-2.21627523e+00, -1.43020809e+00],\n",
              "        [-9.97925058e-01,  7.41648174e-01],\n",
              "        [-1.00235028e+00, -7.98731516e-01],\n",
              "        [ 7.26888772e-01,  1.01551074e+00],\n",
              "        [-1.00263655e+00,  6.72766167e-01],\n",
              "        [-9.70534473e-01,  1.13151763e+00],\n",
              "        [-6.37157920e-01, -4.27618581e-01],\n",
              "        [-5.12638604e-01, -1.66997181e+00],\n",
              "        [-1.67530495e+00,  1.03949695e+00],\n",
              "        [-1.18857664e+00,  1.33689522e+00],\n",
              "        [ 1.50096157e+00, -1.67580194e+00],\n",
              "        [ 1.43609074e+00,  5.39197880e-01],\n",
              "        [-7.19309633e-01, -9.10266737e-01],\n",
              "        [-7.03010715e-01, -8.36794524e-01],\n",
              "        [ 6.27158849e-02,  1.13288371e+00],\n",
              "        [-1.89499918e-01,  8.55965739e-01],\n",
              "        [-1.05960887e+00,  1.27313945e+00],\n",
              "        [-1.24643954e+00,  1.49863868e-01],\n",
              "        [-2.94792699e-01, -6.86119747e-01],\n",
              "        [ 7.24363038e-01, -3.74497572e-01],\n",
              "        [-1.74344996e+00,  9.97776869e-01],\n",
              "        [ 1.55798065e-01,  9.80926148e-01],\n",
              "        [ 2.97793904e-01,  9.73662817e-01],\n",
              "        [ 1.32115979e+00,  1.08700327e+00],\n",
              "        [ 1.65294623e+00, -1.25610734e+00],\n",
              "        [-8.71517413e-02, -1.67901807e+00],\n",
              "        [ 1.64094544e+00, -7.78994384e-01],\n",
              "        [-3.73398803e-02, -1.92251617e+00],\n",
              "        [ 1.05421974e+00, -1.32045158e+00],\n",
              "        [ 5.25962696e-01, -2.00777506e+00],\n",
              "        [ 3.17664339e-01,  1.14073734e+00],\n",
              "        [ 1.15606866e-01,  6.01664637e-01],\n",
              "        [ 5.75533547e-01, -1.77035812e+00],\n",
              "        [-1.14914412e-01, -1.66416399e-01],\n",
              "        [ 2.33610938e-02, -1.84518665e+00],\n",
              "        [-1.60869714e+00,  1.04500028e+00],\n",
              "        [-1.69731484e-02, -1.73171939e+00]]),\n",
              " array([0., 1., 0., 0., 1., 0., 0., 0., 1., 1., 0., 1., 0., 0., 1., 0., 1.,\n",
              "        1., 1., 1., 1., 0., 0., 0., 1., 0., 1., 1., 1., 1., 0., 0., 1., 1.,\n",
              "        0., 0., 0., 0., 1., 1., 0., 1., 0., 0., 0., 0., 0., 1., 1., 0., 1.,\n",
              "        0., 0., 0., 1., 0., 1., 0., 0., 1., 0., 1., 0., 1., 0., 1., 0., 1.,\n",
              "        1., 0., 1., 0., 1., 0., 0., 0., 1., 1., 0., 1., 1., 1., 1., 0., 0.,\n",
              "        1., 0., 0., 0., 0., 1., 0., 1., 1., 0., 1., 1., 0., 1., 0., 1., 0.,\n",
              "        1., 0., 0., 0., 1., 1., 0., 1., 1., 0., 0., 0., 1., 0., 1., 1., 0.,\n",
              "        1., 1., 0., 1., 1., 0., 0., 1., 0., 1., 0., 0., 0., 1., 0., 1., 0.,\n",
              "        0., 1., 1., 0., 1., 1., 1., 1., 0., 1., 0., 1., 1., 1., 0., 1., 1.,\n",
              "        1., 0., 0., 0., 1., 0., 1., 1., 0., 1., 1., 1., 0., 0., 1., 0., 0.,\n",
              "        0., 1., 0., 0., 0., 1., 1., 1., 0., 0., 1., 1., 1., 0., 0., 0., 0.,\n",
              "        0., 0., 0., 0., 0., 0., 1., 0., 1., 0., 0., 0., 0., 0., 1., 0., 0.,\n",
              "        1., 0., 0., 1., 1., 1., 1., 0., 0., 1., 1., 1., 1., 0., 1., 0., 1.,\n",
              "        0., 0., 0., 0., 1., 0., 0., 0., 0., 1., 0., 0., 1., 1., 0., 0., 1.,\n",
              "        1., 1., 1., 0., 1., 0., 1., 0., 1., 1., 0., 1., 0., 0., 0., 1., 0.,\n",
              "        1., 0., 0., 1., 0., 0., 1., 0., 0., 1., 1., 0., 0., 1., 0., 1., 0.,\n",
              "        0., 1., 0., 1., 0., 0., 0., 0., 1., 1., 0., 1., 0., 1., 1., 1., 1.,\n",
              "        0., 0., 1., 0., 0., 1., 1., 1., 1., 0., 1., 0., 0., 1., 1., 0., 0.,\n",
              "        1., 0., 0., 0., 1., 0., 1., 0., 0., 0., 1., 1., 1., 0., 1., 1., 1.,\n",
              "        0., 1., 0., 1., 1., 0., 1., 1., 1., 1., 1., 0., 1., 0., 1., 1., 0.,\n",
              "        0., 1., 1., 1., 0., 1., 1., 1., 0., 0., 0., 1., 1., 1., 0., 1., 0.,\n",
              "        1., 0., 1., 0., 0., 0., 0., 1., 0., 1., 1., 1., 0., 0., 1., 1., 0.,\n",
              "        1., 0., 0., 1., 1., 1., 0., 0., 0., 1., 1., 1., 1., 0., 0., 0., 0.,\n",
              "        0., 0., 1., 1., 0., 0., 0., 1., 0.]),\n",
              " <keras.engine.sequential.Sequential at 0x7f595c2a9e48>)"
            ]
          },
          "metadata": {
            "tags": []
          },
          "execution_count": 11
        }
      ]
    },
    {
      "metadata": {
        "id": "vU-OBrdHiemz",
        "colab_type": "code",
        "colab": {
          "base_uri": "https://localhost:8080/",
          "height": 306
        },
        "outputId": "df9f3dc6-80df-457b-a44d-5a2b3c74af46"
      },
      "cell_type": "code",
      "source": [
        "X_train, y, model=run_keras_2d(\"4\", archs(2)[2], 10, split=0.25, display=False, verbose=False, trials=5)\n"
      ],
      "execution_count": 13,
      "outputs": [
        {
          "output_type": "stream",
          "text": [
            "Keras FC: dataset= 4\n",
            "Convert from -1,1 to 0,1\n",
            "Loading X (400, 2) y (400,) classes {0.0, 1.0}\n",
            "Convert from -1,1 to 0,1\n",
            "Loading X (400, 2) y (400,) classes {0.0, 1.0}\n",
            "\n",
            "Loss on validation set:0.11974764256888872 Accuracy on validation set: 0.9475\n",
            "\n",
            "Loss on validation set:0.1238727893908289 Accuracy on validation set: 0.9525\n",
            "\n",
            "Loss on validation set:0.12106918001426628 Accuracy on validation set: 0.9525\n",
            "\n",
            "Loss on validation set:0.12560683763137664 Accuracy on validation set: 0.945\n",
            "\n",
            "Loss on validation set:0.1268986032070671 Accuracy on validation set: 0.95\n",
            "\n",
            "Avg. validation accuracy:0.9494999999999999\n"
          ],
          "name": "stdout"
        }
      ]
    },
    {
      "metadata": {
        "id": "9FSRiPrbjpAE",
        "colab_type": "code",
        "colab": {
          "base_uri": "https://localhost:8080/",
          "height": 1170
        },
        "outputId": "c21731e1-9061-4c97-a155-aae08b87c10e"
      },
      "cell_type": "code",
      "source": [
        "X_train, y, model=run_keras_2d(\"4\", archs(2)[1], 10, split=0.25, display=False, verbose=False, trials=5)\n"
      ],
      "execution_count": 14,
      "outputs": [
        {
          "output_type": "stream",
          "text": [
            "Keras FC: dataset= 4\n",
            "Convert from -1,1 to 0,1\n",
            "Loading X (400, 2) y (400,) classes {0.0, 1.0}\n",
            "Convert from -1,1 to 0,1\n",
            "Loading X (400, 2) y (400,) classes {0.0, 1.0}\n",
            "\n",
            "Loss on validation set:0.12641835761191714 Accuracy on validation set: 0.9525\n",
            "\n",
            "Loss on validation set:0.1255026402005899 Accuracy on validation set: 0.9575\n"
          ],
          "name": "stdout"
        },
        {
          "output_type": "error",
          "ename": "KeyboardInterrupt",
          "evalue": "ignored",
          "traceback": [
            "\u001b[0;31m---------------------------------------------------------------------------\u001b[0m",
            "\u001b[0;31mKeyboardInterrupt\u001b[0m                         Traceback (most recent call last)",
            "\u001b[0;32m<ipython-input-14-8adc3e635528>\u001b[0m in \u001b[0;36m<module>\u001b[0;34m()\u001b[0m\n\u001b[0;32m----> 1\u001b[0;31m \u001b[0mX_train\u001b[0m\u001b[0;34m,\u001b[0m \u001b[0my\u001b[0m\u001b[0;34m,\u001b[0m \u001b[0mmodel\u001b[0m\u001b[0;34m=\u001b[0m\u001b[0mrun_keras_2d\u001b[0m\u001b[0;34m(\u001b[0m\u001b[0;34m\"4\"\u001b[0m\u001b[0;34m,\u001b[0m \u001b[0marchs\u001b[0m\u001b[0;34m(\u001b[0m\u001b[0;36m2\u001b[0m\u001b[0;34m)\u001b[0m\u001b[0;34m[\u001b[0m\u001b[0;36m1\u001b[0m\u001b[0;34m]\u001b[0m\u001b[0;34m,\u001b[0m \u001b[0;36m10\u001b[0m\u001b[0;34m,\u001b[0m \u001b[0msplit\u001b[0m\u001b[0;34m=\u001b[0m\u001b[0;36m0.25\u001b[0m\u001b[0;34m,\u001b[0m \u001b[0mdisplay\u001b[0m\u001b[0;34m=\u001b[0m\u001b[0;32mFalse\u001b[0m\u001b[0;34m,\u001b[0m \u001b[0mverbose\u001b[0m\u001b[0;34m=\u001b[0m\u001b[0;32mFalse\u001b[0m\u001b[0;34m,\u001b[0m \u001b[0mtrials\u001b[0m\u001b[0;34m=\u001b[0m\u001b[0;36m5\u001b[0m\u001b[0;34m)\u001b[0m\u001b[0;34m\u001b[0m\u001b[0;34m\u001b[0m\u001b[0m\n\u001b[0m",
            "\u001b[0;32m/content/code_for_hw8_keras.py\u001b[0m in \u001b[0;36mrun_keras_2d\u001b[0;34m(data_name, layers, epochs, display, split, verbose, trials)\u001b[0m\n\u001b[1;32m    148\u001b[0m         \u001b[0mmodel\u001b[0m\u001b[0;34m,\u001b[0m \u001b[0mhistory\u001b[0m\u001b[0;34m,\u001b[0m \u001b[0mvacc\u001b[0m\u001b[0;34m,\u001b[0m \u001b[0mtacc\u001b[0m\u001b[0;34m,\u001b[0m \u001b[0;34m=\u001b[0m\u001b[0;31m \u001b[0m\u001b[0;31m\\\u001b[0m\u001b[0;34m\u001b[0m\u001b[0;34m\u001b[0m\u001b[0m\n\u001b[1;32m    149\u001b[0m                run_keras(X_train, y_train, X_val, y_val, X_test, y_test, layers, epochs,\n\u001b[0;32m--> 150\u001b[0;31m                          split=split, verbose=verbose)\n\u001b[0m\u001b[1;32m    151\u001b[0m         \u001b[0mval_acc\u001b[0m \u001b[0;34m+=\u001b[0m \u001b[0mvacc\u001b[0m \u001b[0;32mif\u001b[0m \u001b[0mvacc\u001b[0m \u001b[0;32melse\u001b[0m \u001b[0;36m0\u001b[0m\u001b[0;34m\u001b[0m\u001b[0;34m\u001b[0m\u001b[0m\n\u001b[1;32m    152\u001b[0m         \u001b[0mtest_acc\u001b[0m \u001b[0;34m+=\u001b[0m \u001b[0mtacc\u001b[0m \u001b[0;32mif\u001b[0m \u001b[0mtacc\u001b[0m \u001b[0;32melse\u001b[0m \u001b[0;36m0\u001b[0m\u001b[0;34m\u001b[0m\u001b[0;34m\u001b[0m\u001b[0m\n",
            "\u001b[0;32m/content/code_for_hw8_keras.py\u001b[0m in \u001b[0;36mrun_keras\u001b[0;34m(X_train, y_train, X_val, y_val, X_test, y_test, layers, epochs, split, verbose)\u001b[0m\n\u001b[1;32m    101\u001b[0m     \u001b[0;32melse\u001b[0m\u001b[0;34m:\u001b[0m\u001b[0;34m\u001b[0m\u001b[0;34m\u001b[0m\u001b[0m\n\u001b[1;32m    102\u001b[0m         model.fit(X_train, y_train, epochs=epochs, batch_size=batch, validation_data=(X_val, y_val),\n\u001b[0;32m--> 103\u001b[0;31m                   callbacks=[history], verbose=verbose)\n\u001b[0m\u001b[1;32m    104\u001b[0m     \u001b[0;31m# Evaluate the model on validation data, if any\u001b[0m\u001b[0;34m\u001b[0m\u001b[0;34m\u001b[0m\u001b[0;34m\u001b[0m\u001b[0m\n\u001b[1;32m    105\u001b[0m     \u001b[0;32mif\u001b[0m \u001b[0mX_val\u001b[0m \u001b[0;32mis\u001b[0m \u001b[0;32mnot\u001b[0m \u001b[0;32mNone\u001b[0m \u001b[0;32mor\u001b[0m \u001b[0msplit\u001b[0m \u001b[0;34m>\u001b[0m \u001b[0;36m0\u001b[0m\u001b[0;34m:\u001b[0m\u001b[0;34m\u001b[0m\u001b[0;34m\u001b[0m\u001b[0m\n",
            "\u001b[0;32m/usr/local/lib/python3.6/dist-packages/keras/engine/training.py\u001b[0m in \u001b[0;36mfit\u001b[0;34m(self, x, y, batch_size, epochs, verbose, callbacks, validation_split, validation_data, shuffle, class_weight, sample_weight, initial_epoch, steps_per_epoch, validation_steps, **kwargs)\u001b[0m\n\u001b[1;32m   1037\u001b[0m                                         \u001b[0minitial_epoch\u001b[0m\u001b[0;34m=\u001b[0m\u001b[0minitial_epoch\u001b[0m\u001b[0;34m,\u001b[0m\u001b[0;34m\u001b[0m\u001b[0;34m\u001b[0m\u001b[0m\n\u001b[1;32m   1038\u001b[0m                                         \u001b[0msteps_per_epoch\u001b[0m\u001b[0;34m=\u001b[0m\u001b[0msteps_per_epoch\u001b[0m\u001b[0;34m,\u001b[0m\u001b[0;34m\u001b[0m\u001b[0;34m\u001b[0m\u001b[0m\n\u001b[0;32m-> 1039\u001b[0;31m                                         validation_steps=validation_steps)\n\u001b[0m\u001b[1;32m   1040\u001b[0m \u001b[0;34m\u001b[0m\u001b[0m\n\u001b[1;32m   1041\u001b[0m     def evaluate(self, x=None, y=None,\n",
            "\u001b[0;32m/usr/local/lib/python3.6/dist-packages/keras/engine/training_arrays.py\u001b[0m in \u001b[0;36mfit_loop\u001b[0;34m(model, f, ins, out_labels, batch_size, epochs, verbose, callbacks, val_f, val_ins, shuffle, callback_metrics, initial_epoch, steps_per_epoch, validation_steps)\u001b[0m\n\u001b[1;32m    197\u001b[0m                     \u001b[0mins_batch\u001b[0m\u001b[0;34m[\u001b[0m\u001b[0mi\u001b[0m\u001b[0;34m]\u001b[0m \u001b[0;34m=\u001b[0m \u001b[0mins_batch\u001b[0m\u001b[0;34m[\u001b[0m\u001b[0mi\u001b[0m\u001b[0;34m]\u001b[0m\u001b[0;34m.\u001b[0m\u001b[0mtoarray\u001b[0m\u001b[0;34m(\u001b[0m\u001b[0;34m)\u001b[0m\u001b[0;34m\u001b[0m\u001b[0;34m\u001b[0m\u001b[0m\n\u001b[1;32m    198\u001b[0m \u001b[0;34m\u001b[0m\u001b[0m\n\u001b[0;32m--> 199\u001b[0;31m                 \u001b[0mouts\u001b[0m \u001b[0;34m=\u001b[0m \u001b[0mf\u001b[0m\u001b[0;34m(\u001b[0m\u001b[0mins_batch\u001b[0m\u001b[0;34m)\u001b[0m\u001b[0;34m\u001b[0m\u001b[0;34m\u001b[0m\u001b[0m\n\u001b[0m\u001b[1;32m    200\u001b[0m                 \u001b[0mouts\u001b[0m \u001b[0;34m=\u001b[0m \u001b[0mto_list\u001b[0m\u001b[0;34m(\u001b[0m\u001b[0mouts\u001b[0m\u001b[0;34m)\u001b[0m\u001b[0;34m\u001b[0m\u001b[0;34m\u001b[0m\u001b[0m\n\u001b[1;32m    201\u001b[0m                 \u001b[0;32mfor\u001b[0m \u001b[0ml\u001b[0m\u001b[0;34m,\u001b[0m \u001b[0mo\u001b[0m \u001b[0;32min\u001b[0m \u001b[0mzip\u001b[0m\u001b[0;34m(\u001b[0m\u001b[0mout_labels\u001b[0m\u001b[0;34m,\u001b[0m \u001b[0mouts\u001b[0m\u001b[0;34m)\u001b[0m\u001b[0;34m:\u001b[0m\u001b[0;34m\u001b[0m\u001b[0;34m\u001b[0m\u001b[0m\n",
            "\u001b[0;32m/usr/local/lib/python3.6/dist-packages/keras/backend/tensorflow_backend.py\u001b[0m in \u001b[0;36m__call__\u001b[0;34m(self, inputs)\u001b[0m\n\u001b[1;32m   2713\u001b[0m                 \u001b[0;32mreturn\u001b[0m \u001b[0mself\u001b[0m\u001b[0;34m.\u001b[0m\u001b[0m_legacy_call\u001b[0m\u001b[0;34m(\u001b[0m\u001b[0minputs\u001b[0m\u001b[0;34m)\u001b[0m\u001b[0;34m\u001b[0m\u001b[0;34m\u001b[0m\u001b[0m\n\u001b[1;32m   2714\u001b[0m \u001b[0;34m\u001b[0m\u001b[0m\n\u001b[0;32m-> 2715\u001b[0;31m             \u001b[0;32mreturn\u001b[0m \u001b[0mself\u001b[0m\u001b[0;34m.\u001b[0m\u001b[0m_call\u001b[0m\u001b[0;34m(\u001b[0m\u001b[0minputs\u001b[0m\u001b[0;34m)\u001b[0m\u001b[0;34m\u001b[0m\u001b[0;34m\u001b[0m\u001b[0m\n\u001b[0m\u001b[1;32m   2716\u001b[0m         \u001b[0;32melse\u001b[0m\u001b[0;34m:\u001b[0m\u001b[0;34m\u001b[0m\u001b[0;34m\u001b[0m\u001b[0m\n\u001b[1;32m   2717\u001b[0m             \u001b[0;32mif\u001b[0m \u001b[0mpy_any\u001b[0m\u001b[0;34m(\u001b[0m\u001b[0mis_tensor\u001b[0m\u001b[0;34m(\u001b[0m\u001b[0mx\u001b[0m\u001b[0;34m)\u001b[0m \u001b[0;32mfor\u001b[0m \u001b[0mx\u001b[0m \u001b[0;32min\u001b[0m \u001b[0minputs\u001b[0m\u001b[0;34m)\u001b[0m\u001b[0;34m:\u001b[0m\u001b[0;34m\u001b[0m\u001b[0;34m\u001b[0m\u001b[0m\n",
            "\u001b[0;32m/usr/local/lib/python3.6/dist-packages/keras/backend/tensorflow_backend.py\u001b[0m in \u001b[0;36m_call\u001b[0;34m(self, inputs)\u001b[0m\n\u001b[1;32m   2673\u001b[0m             \u001b[0mfetched\u001b[0m \u001b[0;34m=\u001b[0m \u001b[0mself\u001b[0m\u001b[0;34m.\u001b[0m\u001b[0m_callable_fn\u001b[0m\u001b[0;34m(\u001b[0m\u001b[0;34m*\u001b[0m\u001b[0marray_vals\u001b[0m\u001b[0;34m,\u001b[0m \u001b[0mrun_metadata\u001b[0m\u001b[0;34m=\u001b[0m\u001b[0mself\u001b[0m\u001b[0;34m.\u001b[0m\u001b[0mrun_metadata\u001b[0m\u001b[0;34m)\u001b[0m\u001b[0;34m\u001b[0m\u001b[0;34m\u001b[0m\u001b[0m\n\u001b[1;32m   2674\u001b[0m         \u001b[0;32melse\u001b[0m\u001b[0;34m:\u001b[0m\u001b[0;34m\u001b[0m\u001b[0;34m\u001b[0m\u001b[0m\n\u001b[0;32m-> 2675\u001b[0;31m             \u001b[0mfetched\u001b[0m \u001b[0;34m=\u001b[0m \u001b[0mself\u001b[0m\u001b[0;34m.\u001b[0m\u001b[0m_callable_fn\u001b[0m\u001b[0;34m(\u001b[0m\u001b[0;34m*\u001b[0m\u001b[0marray_vals\u001b[0m\u001b[0;34m)\u001b[0m\u001b[0;34m\u001b[0m\u001b[0;34m\u001b[0m\u001b[0m\n\u001b[0m\u001b[1;32m   2676\u001b[0m         \u001b[0;32mreturn\u001b[0m \u001b[0mfetched\u001b[0m\u001b[0;34m[\u001b[0m\u001b[0;34m:\u001b[0m\u001b[0mlen\u001b[0m\u001b[0;34m(\u001b[0m\u001b[0mself\u001b[0m\u001b[0;34m.\u001b[0m\u001b[0moutputs\u001b[0m\u001b[0;34m)\u001b[0m\u001b[0;34m]\u001b[0m\u001b[0;34m\u001b[0m\u001b[0;34m\u001b[0m\u001b[0m\n\u001b[1;32m   2677\u001b[0m \u001b[0;34m\u001b[0m\u001b[0m\n",
            "\u001b[0;32m/usr/local/lib/python3.6/dist-packages/tensorflow/python/client/session.py\u001b[0m in \u001b[0;36m__call__\u001b[0;34m(self, *args, **kwargs)\u001b[0m\n\u001b[1;32m   1437\u001b[0m           ret = tf_session.TF_SessionRunCallable(\n\u001b[1;32m   1438\u001b[0m               \u001b[0mself\u001b[0m\u001b[0;34m.\u001b[0m\u001b[0m_session\u001b[0m\u001b[0;34m.\u001b[0m\u001b[0m_session\u001b[0m\u001b[0;34m,\u001b[0m \u001b[0mself\u001b[0m\u001b[0;34m.\u001b[0m\u001b[0m_handle\u001b[0m\u001b[0;34m,\u001b[0m \u001b[0margs\u001b[0m\u001b[0;34m,\u001b[0m \u001b[0mstatus\u001b[0m\u001b[0;34m,\u001b[0m\u001b[0;34m\u001b[0m\u001b[0;34m\u001b[0m\u001b[0m\n\u001b[0;32m-> 1439\u001b[0;31m               run_metadata_ptr)\n\u001b[0m\u001b[1;32m   1440\u001b[0m         \u001b[0;32mif\u001b[0m \u001b[0mrun_metadata\u001b[0m\u001b[0;34m:\u001b[0m\u001b[0;34m\u001b[0m\u001b[0;34m\u001b[0m\u001b[0m\n\u001b[1;32m   1441\u001b[0m           \u001b[0mproto_data\u001b[0m \u001b[0;34m=\u001b[0m \u001b[0mtf_session\u001b[0m\u001b[0;34m.\u001b[0m\u001b[0mTF_GetBuffer\u001b[0m\u001b[0;34m(\u001b[0m\u001b[0mrun_metadata_ptr\u001b[0m\u001b[0;34m)\u001b[0m\u001b[0;34m\u001b[0m\u001b[0;34m\u001b[0m\u001b[0m\n",
            "\u001b[0;31mKeyboardInterrupt\u001b[0m: "
          ]
        }
      ]
    },
    {
      "metadata": {
        "id": "wx2DorR4j6DI",
        "colab_type": "code",
        "colab": {
          "base_uri": "https://localhost:8080/",
          "height": 1170
        },
        "outputId": "5e35014d-07de-4d27-bc33-fb4160941c8a"
      },
      "cell_type": "code",
      "source": [
        "X_train, y, model=run_keras_2d(\"4\", archs(2)[0], 10, split=0.25, display=False, verbose=False, trials=5)\n"
      ],
      "execution_count": 15,
      "outputs": [
        {
          "output_type": "stream",
          "text": [
            "Keras FC: dataset= 4\n",
            "Convert from -1,1 to 0,1\n",
            "Loading X (400, 2) y (400,) classes {0.0, 1.0}\n",
            "Convert from -1,1 to 0,1\n",
            "Loading X (400, 2) y (400,) classes {0.0, 1.0}\n",
            "\n",
            "Loss on validation set:0.6934201847016811 Accuracy on validation set: 0.505\n",
            "\n",
            "Loss on validation set:0.6936828118562698 Accuracy on validation set: 0.48\n"
          ],
          "name": "stdout"
        },
        {
          "output_type": "error",
          "ename": "KeyboardInterrupt",
          "evalue": "ignored",
          "traceback": [
            "\u001b[0;31m---------------------------------------------------------------------------\u001b[0m",
            "\u001b[0;31mKeyboardInterrupt\u001b[0m                         Traceback (most recent call last)",
            "\u001b[0;32m<ipython-input-15-6039b5d44d91>\u001b[0m in \u001b[0;36m<module>\u001b[0;34m()\u001b[0m\n\u001b[0;32m----> 1\u001b[0;31m \u001b[0mX_train\u001b[0m\u001b[0;34m,\u001b[0m \u001b[0my\u001b[0m\u001b[0;34m,\u001b[0m \u001b[0mmodel\u001b[0m\u001b[0;34m=\u001b[0m\u001b[0mrun_keras_2d\u001b[0m\u001b[0;34m(\u001b[0m\u001b[0;34m\"4\"\u001b[0m\u001b[0;34m,\u001b[0m \u001b[0marchs\u001b[0m\u001b[0;34m(\u001b[0m\u001b[0;36m2\u001b[0m\u001b[0;34m)\u001b[0m\u001b[0;34m[\u001b[0m\u001b[0;36m0\u001b[0m\u001b[0;34m]\u001b[0m\u001b[0;34m,\u001b[0m \u001b[0;36m10\u001b[0m\u001b[0;34m,\u001b[0m \u001b[0msplit\u001b[0m\u001b[0;34m=\u001b[0m\u001b[0;36m0.25\u001b[0m\u001b[0;34m,\u001b[0m \u001b[0mdisplay\u001b[0m\u001b[0;34m=\u001b[0m\u001b[0;32mFalse\u001b[0m\u001b[0;34m,\u001b[0m \u001b[0mverbose\u001b[0m\u001b[0;34m=\u001b[0m\u001b[0;32mFalse\u001b[0m\u001b[0;34m,\u001b[0m \u001b[0mtrials\u001b[0m\u001b[0;34m=\u001b[0m\u001b[0;36m5\u001b[0m\u001b[0;34m)\u001b[0m\u001b[0;34m\u001b[0m\u001b[0;34m\u001b[0m\u001b[0m\n\u001b[0m",
            "\u001b[0;32m/content/code_for_hw8_keras.py\u001b[0m in \u001b[0;36mrun_keras_2d\u001b[0;34m(data_name, layers, epochs, display, split, verbose, trials)\u001b[0m\n\u001b[1;32m    148\u001b[0m         \u001b[0mmodel\u001b[0m\u001b[0;34m,\u001b[0m \u001b[0mhistory\u001b[0m\u001b[0;34m,\u001b[0m \u001b[0mvacc\u001b[0m\u001b[0;34m,\u001b[0m \u001b[0mtacc\u001b[0m\u001b[0;34m,\u001b[0m \u001b[0;34m=\u001b[0m\u001b[0;31m \u001b[0m\u001b[0;31m\\\u001b[0m\u001b[0;34m\u001b[0m\u001b[0;34m\u001b[0m\u001b[0m\n\u001b[1;32m    149\u001b[0m                run_keras(X_train, y_train, X_val, y_val, X_test, y_test, layers, epochs,\n\u001b[0;32m--> 150\u001b[0;31m                          split=split, verbose=verbose)\n\u001b[0m\u001b[1;32m    151\u001b[0m         \u001b[0mval_acc\u001b[0m \u001b[0;34m+=\u001b[0m \u001b[0mvacc\u001b[0m \u001b[0;32mif\u001b[0m \u001b[0mvacc\u001b[0m \u001b[0;32melse\u001b[0m \u001b[0;36m0\u001b[0m\u001b[0;34m\u001b[0m\u001b[0;34m\u001b[0m\u001b[0m\n\u001b[1;32m    152\u001b[0m         \u001b[0mtest_acc\u001b[0m \u001b[0;34m+=\u001b[0m \u001b[0mtacc\u001b[0m \u001b[0;32mif\u001b[0m \u001b[0mtacc\u001b[0m \u001b[0;32melse\u001b[0m \u001b[0;36m0\u001b[0m\u001b[0;34m\u001b[0m\u001b[0;34m\u001b[0m\u001b[0m\n",
            "\u001b[0;32m/content/code_for_hw8_keras.py\u001b[0m in \u001b[0;36mrun_keras\u001b[0;34m(X_train, y_train, X_val, y_val, X_test, y_test, layers, epochs, split, verbose)\u001b[0m\n\u001b[1;32m    101\u001b[0m     \u001b[0;32melse\u001b[0m\u001b[0;34m:\u001b[0m\u001b[0;34m\u001b[0m\u001b[0;34m\u001b[0m\u001b[0m\n\u001b[1;32m    102\u001b[0m         model.fit(X_train, y_train, epochs=epochs, batch_size=batch, validation_data=(X_val, y_val),\n\u001b[0;32m--> 103\u001b[0;31m                   callbacks=[history], verbose=verbose)\n\u001b[0m\u001b[1;32m    104\u001b[0m     \u001b[0;31m# Evaluate the model on validation data, if any\u001b[0m\u001b[0;34m\u001b[0m\u001b[0;34m\u001b[0m\u001b[0;34m\u001b[0m\u001b[0m\n\u001b[1;32m    105\u001b[0m     \u001b[0;32mif\u001b[0m \u001b[0mX_val\u001b[0m \u001b[0;32mis\u001b[0m \u001b[0;32mnot\u001b[0m \u001b[0;32mNone\u001b[0m \u001b[0;32mor\u001b[0m \u001b[0msplit\u001b[0m \u001b[0;34m>\u001b[0m \u001b[0;36m0\u001b[0m\u001b[0;34m:\u001b[0m\u001b[0;34m\u001b[0m\u001b[0;34m\u001b[0m\u001b[0m\n",
            "\u001b[0;32m/usr/local/lib/python3.6/dist-packages/keras/engine/training.py\u001b[0m in \u001b[0;36mfit\u001b[0;34m(self, x, y, batch_size, epochs, verbose, callbacks, validation_split, validation_data, shuffle, class_weight, sample_weight, initial_epoch, steps_per_epoch, validation_steps, **kwargs)\u001b[0m\n\u001b[1;32m   1037\u001b[0m                                         \u001b[0minitial_epoch\u001b[0m\u001b[0;34m=\u001b[0m\u001b[0minitial_epoch\u001b[0m\u001b[0;34m,\u001b[0m\u001b[0;34m\u001b[0m\u001b[0;34m\u001b[0m\u001b[0m\n\u001b[1;32m   1038\u001b[0m                                         \u001b[0msteps_per_epoch\u001b[0m\u001b[0;34m=\u001b[0m\u001b[0msteps_per_epoch\u001b[0m\u001b[0;34m,\u001b[0m\u001b[0;34m\u001b[0m\u001b[0;34m\u001b[0m\u001b[0m\n\u001b[0;32m-> 1039\u001b[0;31m                                         validation_steps=validation_steps)\n\u001b[0m\u001b[1;32m   1040\u001b[0m \u001b[0;34m\u001b[0m\u001b[0m\n\u001b[1;32m   1041\u001b[0m     def evaluate(self, x=None, y=None,\n",
            "\u001b[0;32m/usr/local/lib/python3.6/dist-packages/keras/engine/training_arrays.py\u001b[0m in \u001b[0;36mfit_loop\u001b[0;34m(model, f, ins, out_labels, batch_size, epochs, verbose, callbacks, val_f, val_ins, shuffle, callback_metrics, initial_epoch, steps_per_epoch, validation_steps)\u001b[0m\n\u001b[1;32m    197\u001b[0m                     \u001b[0mins_batch\u001b[0m\u001b[0;34m[\u001b[0m\u001b[0mi\u001b[0m\u001b[0;34m]\u001b[0m \u001b[0;34m=\u001b[0m \u001b[0mins_batch\u001b[0m\u001b[0;34m[\u001b[0m\u001b[0mi\u001b[0m\u001b[0;34m]\u001b[0m\u001b[0;34m.\u001b[0m\u001b[0mtoarray\u001b[0m\u001b[0;34m(\u001b[0m\u001b[0;34m)\u001b[0m\u001b[0;34m\u001b[0m\u001b[0;34m\u001b[0m\u001b[0m\n\u001b[1;32m    198\u001b[0m \u001b[0;34m\u001b[0m\u001b[0m\n\u001b[0;32m--> 199\u001b[0;31m                 \u001b[0mouts\u001b[0m \u001b[0;34m=\u001b[0m \u001b[0mf\u001b[0m\u001b[0;34m(\u001b[0m\u001b[0mins_batch\u001b[0m\u001b[0;34m)\u001b[0m\u001b[0;34m\u001b[0m\u001b[0;34m\u001b[0m\u001b[0m\n\u001b[0m\u001b[1;32m    200\u001b[0m                 \u001b[0mouts\u001b[0m \u001b[0;34m=\u001b[0m \u001b[0mto_list\u001b[0m\u001b[0;34m(\u001b[0m\u001b[0mouts\u001b[0m\u001b[0;34m)\u001b[0m\u001b[0;34m\u001b[0m\u001b[0;34m\u001b[0m\u001b[0m\n\u001b[1;32m    201\u001b[0m                 \u001b[0;32mfor\u001b[0m \u001b[0ml\u001b[0m\u001b[0;34m,\u001b[0m \u001b[0mo\u001b[0m \u001b[0;32min\u001b[0m \u001b[0mzip\u001b[0m\u001b[0;34m(\u001b[0m\u001b[0mout_labels\u001b[0m\u001b[0;34m,\u001b[0m \u001b[0mouts\u001b[0m\u001b[0;34m)\u001b[0m\u001b[0;34m:\u001b[0m\u001b[0;34m\u001b[0m\u001b[0;34m\u001b[0m\u001b[0m\n",
            "\u001b[0;32m/usr/local/lib/python3.6/dist-packages/keras/backend/tensorflow_backend.py\u001b[0m in \u001b[0;36m__call__\u001b[0;34m(self, inputs)\u001b[0m\n\u001b[1;32m   2713\u001b[0m                 \u001b[0;32mreturn\u001b[0m \u001b[0mself\u001b[0m\u001b[0;34m.\u001b[0m\u001b[0m_legacy_call\u001b[0m\u001b[0;34m(\u001b[0m\u001b[0minputs\u001b[0m\u001b[0;34m)\u001b[0m\u001b[0;34m\u001b[0m\u001b[0;34m\u001b[0m\u001b[0m\n\u001b[1;32m   2714\u001b[0m \u001b[0;34m\u001b[0m\u001b[0m\n\u001b[0;32m-> 2715\u001b[0;31m             \u001b[0;32mreturn\u001b[0m \u001b[0mself\u001b[0m\u001b[0;34m.\u001b[0m\u001b[0m_call\u001b[0m\u001b[0;34m(\u001b[0m\u001b[0minputs\u001b[0m\u001b[0;34m)\u001b[0m\u001b[0;34m\u001b[0m\u001b[0;34m\u001b[0m\u001b[0m\n\u001b[0m\u001b[1;32m   2716\u001b[0m         \u001b[0;32melse\u001b[0m\u001b[0;34m:\u001b[0m\u001b[0;34m\u001b[0m\u001b[0;34m\u001b[0m\u001b[0m\n\u001b[1;32m   2717\u001b[0m             \u001b[0;32mif\u001b[0m \u001b[0mpy_any\u001b[0m\u001b[0;34m(\u001b[0m\u001b[0mis_tensor\u001b[0m\u001b[0;34m(\u001b[0m\u001b[0mx\u001b[0m\u001b[0;34m)\u001b[0m \u001b[0;32mfor\u001b[0m \u001b[0mx\u001b[0m \u001b[0;32min\u001b[0m \u001b[0minputs\u001b[0m\u001b[0;34m)\u001b[0m\u001b[0;34m:\u001b[0m\u001b[0;34m\u001b[0m\u001b[0;34m\u001b[0m\u001b[0m\n",
            "\u001b[0;32m/usr/local/lib/python3.6/dist-packages/keras/backend/tensorflow_backend.py\u001b[0m in \u001b[0;36m_call\u001b[0;34m(self, inputs)\u001b[0m\n\u001b[1;32m   2673\u001b[0m             \u001b[0mfetched\u001b[0m \u001b[0;34m=\u001b[0m \u001b[0mself\u001b[0m\u001b[0;34m.\u001b[0m\u001b[0m_callable_fn\u001b[0m\u001b[0;34m(\u001b[0m\u001b[0;34m*\u001b[0m\u001b[0marray_vals\u001b[0m\u001b[0;34m,\u001b[0m \u001b[0mrun_metadata\u001b[0m\u001b[0;34m=\u001b[0m\u001b[0mself\u001b[0m\u001b[0;34m.\u001b[0m\u001b[0mrun_metadata\u001b[0m\u001b[0;34m)\u001b[0m\u001b[0;34m\u001b[0m\u001b[0;34m\u001b[0m\u001b[0m\n\u001b[1;32m   2674\u001b[0m         \u001b[0;32melse\u001b[0m\u001b[0;34m:\u001b[0m\u001b[0;34m\u001b[0m\u001b[0;34m\u001b[0m\u001b[0m\n\u001b[0;32m-> 2675\u001b[0;31m             \u001b[0mfetched\u001b[0m \u001b[0;34m=\u001b[0m \u001b[0mself\u001b[0m\u001b[0;34m.\u001b[0m\u001b[0m_callable_fn\u001b[0m\u001b[0;34m(\u001b[0m\u001b[0;34m*\u001b[0m\u001b[0marray_vals\u001b[0m\u001b[0;34m)\u001b[0m\u001b[0;34m\u001b[0m\u001b[0;34m\u001b[0m\u001b[0m\n\u001b[0m\u001b[1;32m   2676\u001b[0m         \u001b[0;32mreturn\u001b[0m \u001b[0mfetched\u001b[0m\u001b[0;34m[\u001b[0m\u001b[0;34m:\u001b[0m\u001b[0mlen\u001b[0m\u001b[0;34m(\u001b[0m\u001b[0mself\u001b[0m\u001b[0;34m.\u001b[0m\u001b[0moutputs\u001b[0m\u001b[0;34m)\u001b[0m\u001b[0;34m]\u001b[0m\u001b[0;34m\u001b[0m\u001b[0;34m\u001b[0m\u001b[0m\n\u001b[1;32m   2677\u001b[0m \u001b[0;34m\u001b[0m\u001b[0m\n",
            "\u001b[0;32m/usr/local/lib/python3.6/dist-packages/tensorflow/python/client/session.py\u001b[0m in \u001b[0;36m__call__\u001b[0;34m(self, *args, **kwargs)\u001b[0m\n\u001b[1;32m   1437\u001b[0m           ret = tf_session.TF_SessionRunCallable(\n\u001b[1;32m   1438\u001b[0m               \u001b[0mself\u001b[0m\u001b[0;34m.\u001b[0m\u001b[0m_session\u001b[0m\u001b[0;34m.\u001b[0m\u001b[0m_session\u001b[0m\u001b[0;34m,\u001b[0m \u001b[0mself\u001b[0m\u001b[0;34m.\u001b[0m\u001b[0m_handle\u001b[0m\u001b[0;34m,\u001b[0m \u001b[0margs\u001b[0m\u001b[0;34m,\u001b[0m \u001b[0mstatus\u001b[0m\u001b[0;34m,\u001b[0m\u001b[0;34m\u001b[0m\u001b[0;34m\u001b[0m\u001b[0m\n\u001b[0;32m-> 1439\u001b[0;31m               run_metadata_ptr)\n\u001b[0m\u001b[1;32m   1440\u001b[0m         \u001b[0;32mif\u001b[0m \u001b[0mrun_metadata\u001b[0m\u001b[0;34m:\u001b[0m\u001b[0;34m\u001b[0m\u001b[0;34m\u001b[0m\u001b[0m\n\u001b[1;32m   1441\u001b[0m           \u001b[0mproto_data\u001b[0m \u001b[0;34m=\u001b[0m \u001b[0mtf_session\u001b[0m\u001b[0;34m.\u001b[0m\u001b[0mTF_GetBuffer\u001b[0m\u001b[0;34m(\u001b[0m\u001b[0mrun_metadata_ptr\u001b[0m\u001b[0;34m)\u001b[0m\u001b[0;34m\u001b[0m\u001b[0;34m\u001b[0m\u001b[0m\n",
            "\u001b[0;31mKeyboardInterrupt\u001b[0m: "
          ]
        }
      ]
    },
    {
      "metadata": {
        "id": "-MJnN7oSkRX1",
        "colab_type": "code",
        "colab": {
          "base_uri": "https://localhost:8080/",
          "height": 306
        },
        "outputId": "9665ffa4-9226-44bd-f5d2-ff3851a7caa6"
      },
      "cell_type": "code",
      "source": [
        "X_train, y, model=run_keras_2d(\"3\", archs(2)[1], 10, split=0.25, display=False, verbose=False, trials=5)\n"
      ],
      "execution_count": 17,
      "outputs": [
        {
          "output_type": "stream",
          "text": [
            "Keras FC: dataset= 3\n",
            "Convert from -1,1 to 0,1\n",
            "Loading X (400, 2) y (400,) classes {0.0, 1.0}\n",
            "Convert from -1,1 to 0,1\n",
            "Loading X (200, 2) y (200,) classes {0.0, 1.0}\n",
            "\n",
            "Loss on validation set:0.10492607745535189 Accuracy on validation set: 0.975\n",
            "\n",
            "Loss on validation set:0.10413181638906935 Accuracy on validation set: 0.975\n",
            "\n",
            "Loss on validation set:0.1029467943843649 Accuracy on validation set: 0.97\n",
            "\n",
            "Loss on validation set:0.10477239789319653 Accuracy on validation set: 0.97\n",
            "\n",
            "Loss on validation set:0.10651358334413544 Accuracy on validation set: 0.965\n",
            "\n",
            "Avg. validation accuracy:0.9709999999999999\n"
          ],
          "name": "stdout"
        }
      ]
    },
    {
      "metadata": {
        "id": "C5Twe02Aksvr",
        "colab_type": "code",
        "colab": {
          "base_uri": "https://localhost:8080/",
          "height": 4628
        },
        "outputId": "781210cd-89a8-4080-b804-b59f4d77ce04"
      },
      "cell_type": "code",
      "source": [
        "X_train, y, model=run_keras_2d(\"3\", [Dense(input_dim=2, units=200, activation='relu'),\\\n",
        "             Dense(units=200, activation='relu'),\\\n",
        "             Dense(units=2, activation=\"softmax\")], 100, split=0.25, display=True, verbose=True, trials=1)\n",
        "\n"
      ],
      "execution_count": 19,
      "outputs": [
        {
          "output_type": "stream",
          "text": [
            "Keras FC: dataset= 3\n",
            "Convert from -1,1 to 0,1\n",
            "Loading X (400, 2) y (400,) classes {0.0, 1.0}\n",
            "Convert from -1,1 to 0,1\n",
            "Loading X (200, 2) y (200,) classes {0.0, 1.0}\n",
            "Train on 400 samples, validate on 200 samples\n",
            "Epoch 1/100\n",
            "400/400 [==============================] - 7s 18ms/step - loss: 0.1211 - acc: 0.9700 - val_loss: 0.1131 - val_acc: 0.9500\n",
            "Epoch 2/100\n",
            "400/400 [==============================] - 3s 8ms/step - loss: 0.0677 - acc: 0.9800 - val_loss: 0.1264 - val_acc: 0.9650\n",
            "Epoch 3/100\n",
            "400/400 [==============================] - 3s 8ms/step - loss: 0.0647 - acc: 0.9750 - val_loss: 0.1157 - val_acc: 0.9700\n",
            "Epoch 4/100\n",
            "400/400 [==============================] - 3s 8ms/step - loss: 0.0570 - acc: 0.9825 - val_loss: 0.1264 - val_acc: 0.9600\n",
            "Epoch 5/100\n",
            "400/400 [==============================] - 3s 8ms/step - loss: 0.0661 - acc: 0.9775 - val_loss: 0.1230 - val_acc: 0.9650\n",
            "Epoch 6/100\n",
            "400/400 [==============================] - 3s 8ms/step - loss: 0.0549 - acc: 0.9800 - val_loss: 0.1157 - val_acc: 0.9700\n",
            "Epoch 7/100\n",
            "400/400 [==============================] - 3s 9ms/step - loss: 0.0544 - acc: 0.9775 - val_loss: 0.1347 - val_acc: 0.9650\n",
            "Epoch 8/100\n",
            "400/400 [==============================] - 3s 8ms/step - loss: 0.0541 - acc: 0.9800 - val_loss: 0.1314 - val_acc: 0.9700\n",
            "Epoch 9/100\n",
            "400/400 [==============================] - 3s 7ms/step - loss: 0.0548 - acc: 0.9825 - val_loss: 0.1299 - val_acc: 0.9700\n",
            "Epoch 10/100\n",
            "400/400 [==============================] - 3s 8ms/step - loss: 0.0531 - acc: 0.9850 - val_loss: 0.1412 - val_acc: 0.9700\n",
            "Epoch 11/100\n",
            "400/400 [==============================] - 3s 8ms/step - loss: 0.0547 - acc: 0.9850 - val_loss: 0.1143 - val_acc: 0.9700\n",
            "Epoch 12/100\n",
            "400/400 [==============================] - 3s 8ms/step - loss: 0.0507 - acc: 0.9875 - val_loss: 0.1252 - val_acc: 0.9650\n",
            "Epoch 13/100\n",
            "400/400 [==============================] - 3s 9ms/step - loss: 0.0471 - acc: 0.9825 - val_loss: 0.1294 - val_acc: 0.9700\n",
            "Epoch 14/100\n",
            "400/400 [==============================] - 3s 9ms/step - loss: 0.0483 - acc: 0.9800 - val_loss: 0.1329 - val_acc: 0.9650\n",
            "Epoch 15/100\n",
            "400/400 [==============================] - 3s 9ms/step - loss: 0.0474 - acc: 0.9750 - val_loss: 0.1425 - val_acc: 0.9700\n",
            "Epoch 16/100\n",
            "400/400 [==============================] - 4s 9ms/step - loss: 0.0490 - acc: 0.9800 - val_loss: 0.1139 - val_acc: 0.9650\n",
            "Epoch 17/100\n",
            "400/400 [==============================] - 3s 9ms/step - loss: 0.0520 - acc: 0.9850 - val_loss: 0.1428 - val_acc: 0.9650\n",
            "Epoch 18/100\n",
            "400/400 [==============================] - 4s 9ms/step - loss: 0.0475 - acc: 0.9850 - val_loss: 0.1467 - val_acc: 0.9700\n",
            "Epoch 19/100\n",
            "400/400 [==============================] - 3s 8ms/step - loss: 0.0471 - acc: 0.9825 - val_loss: 0.1365 - val_acc: 0.9650\n",
            "Epoch 20/100\n",
            "400/400 [==============================] - 3s 9ms/step - loss: 0.0446 - acc: 0.9850 - val_loss: 0.1609 - val_acc: 0.9500\n",
            "Epoch 21/100\n",
            "400/400 [==============================] - 4s 9ms/step - loss: 0.0462 - acc: 0.9825 - val_loss: 0.1326 - val_acc: 0.9700\n",
            "Epoch 22/100\n",
            "400/400 [==============================] - 3s 8ms/step - loss: 0.0431 - acc: 0.9850 - val_loss: 0.1525 - val_acc: 0.9650\n",
            "Epoch 23/100\n",
            "400/400 [==============================] - 3s 8ms/step - loss: 0.0428 - acc: 0.9875 - val_loss: 0.1795 - val_acc: 0.9700\n",
            "Epoch 24/100\n",
            "400/400 [==============================] - 3s 8ms/step - loss: 0.0509 - acc: 0.9825 - val_loss: 0.1213 - val_acc: 0.9700\n",
            "Epoch 25/100\n",
            "400/400 [==============================] - 4s 9ms/step - loss: 0.0524 - acc: 0.9875 - val_loss: 0.1371 - val_acc: 0.9700\n",
            "Epoch 26/100\n",
            "400/400 [==============================] - 3s 9ms/step - loss: 0.0408 - acc: 0.9875 - val_loss: 0.1599 - val_acc: 0.9700\n",
            "Epoch 27/100\n",
            "400/400 [==============================] - 3s 8ms/step - loss: 0.0477 - acc: 0.9850 - val_loss: 0.1469 - val_acc: 0.9700\n",
            "Epoch 28/100\n",
            "400/400 [==============================] - 4s 9ms/step - loss: 0.0444 - acc: 0.9825 - val_loss: 0.1362 - val_acc: 0.9650\n",
            "Epoch 29/100\n",
            "400/400 [==============================] - 3s 9ms/step - loss: 0.0454 - acc: 0.9850 - val_loss: 0.1639 - val_acc: 0.9650\n",
            "Epoch 30/100\n",
            "400/400 [==============================] - 3s 8ms/step - loss: 0.0536 - acc: 0.9800 - val_loss: 0.1630 - val_acc: 0.9750\n",
            "Epoch 31/100\n",
            "400/400 [==============================] - 3s 9ms/step - loss: 0.0530 - acc: 0.9850 - val_loss: 0.1675 - val_acc: 0.9700\n",
            "Epoch 32/100\n",
            "400/400 [==============================] - 3s 9ms/step - loss: 0.0432 - acc: 0.9825 - val_loss: 0.1513 - val_acc: 0.9700\n",
            "Epoch 33/100\n",
            "400/400 [==============================] - 3s 9ms/step - loss: 0.0406 - acc: 0.9875 - val_loss: 0.1720 - val_acc: 0.9650\n",
            "Epoch 34/100\n",
            "400/400 [==============================] - 3s 8ms/step - loss: 0.0445 - acc: 0.9850 - val_loss: 0.1471 - val_acc: 0.9750\n",
            "Epoch 35/100\n",
            "400/400 [==============================] - 3s 8ms/step - loss: 0.0516 - acc: 0.9825 - val_loss: 0.1561 - val_acc: 0.9700\n",
            "Epoch 36/100\n",
            "400/400 [==============================] - 3s 8ms/step - loss: 0.0445 - acc: 0.9850 - val_loss: 0.1886 - val_acc: 0.9700\n",
            "Epoch 37/100\n",
            "400/400 [==============================] - 3s 8ms/step - loss: 0.0438 - acc: 0.9850 - val_loss: 0.1671 - val_acc: 0.9700\n",
            "Epoch 38/100\n",
            "400/400 [==============================] - 3s 9ms/step - loss: 0.0430 - acc: 0.9850 - val_loss: 0.1775 - val_acc: 0.9700\n",
            "Epoch 39/100\n",
            "400/400 [==============================] - 4s 9ms/step - loss: 0.0497 - acc: 0.9800 - val_loss: 0.1396 - val_acc: 0.9750\n",
            "Epoch 40/100\n",
            "400/400 [==============================] - 3s 8ms/step - loss: 0.0450 - acc: 0.9825 - val_loss: 0.1765 - val_acc: 0.9700\n",
            "Epoch 41/100\n",
            "400/400 [==============================] - 3s 8ms/step - loss: 0.0379 - acc: 0.9875 - val_loss: 0.1845 - val_acc: 0.9700\n",
            "Epoch 42/100\n",
            "400/400 [==============================] - 3s 9ms/step - loss: 0.0398 - acc: 0.9800 - val_loss: 0.1780 - val_acc: 0.9700\n",
            "Epoch 43/100\n",
            "400/400 [==============================] - 3s 9ms/step - loss: 0.0379 - acc: 0.9900 - val_loss: 0.1888 - val_acc: 0.9700\n",
            "Epoch 44/100\n",
            "400/400 [==============================] - 3s 8ms/step - loss: 0.0390 - acc: 0.9850 - val_loss: 0.2023 - val_acc: 0.9750\n",
            "Epoch 45/100\n",
            "400/400 [==============================] - 3s 9ms/step - loss: 0.0806 - acc: 0.9850 - val_loss: 0.3342 - val_acc: 0.9450\n",
            "Epoch 46/100\n",
            "400/400 [==============================] - 3s 9ms/step - loss: 0.0630 - acc: 0.9875 - val_loss: 0.2061 - val_acc: 0.9750\n",
            "Epoch 47/100\n",
            "400/400 [==============================] - 3s 8ms/step - loss: 0.0512 - acc: 0.9775 - val_loss: 0.1608 - val_acc: 0.9700\n",
            "Epoch 48/100\n",
            "400/400 [==============================] - 4s 9ms/step - loss: 0.0400 - acc: 0.9875 - val_loss: 0.1986 - val_acc: 0.9750\n",
            "Epoch 49/100\n",
            "400/400 [==============================] - 3s 8ms/step - loss: 0.0410 - acc: 0.9900 - val_loss: 0.2105 - val_acc: 0.9750\n",
            "Epoch 50/100\n",
            "400/400 [==============================] - 3s 8ms/step - loss: 0.0382 - acc: 0.9850 - val_loss: 0.1866 - val_acc: 0.9700\n",
            "Epoch 51/100\n",
            "400/400 [==============================] - 3s 8ms/step - loss: 0.0342 - acc: 0.9900 - val_loss: 0.2264 - val_acc: 0.9700\n",
            "Epoch 52/100\n",
            "400/400 [==============================] - 3s 9ms/step - loss: 0.0439 - acc: 0.9850 - val_loss: 0.1936 - val_acc: 0.9700\n",
            "Epoch 53/100\n",
            "400/400 [==============================] - 3s 8ms/step - loss: 0.0416 - acc: 0.9850 - val_loss: 0.1706 - val_acc: 0.9700\n",
            "Epoch 54/100\n",
            "400/400 [==============================] - 4s 9ms/step - loss: 0.0455 - acc: 0.9900 - val_loss: 0.1924 - val_acc: 0.9700\n",
            "Epoch 55/100\n",
            "400/400 [==============================] - 3s 8ms/step - loss: 0.0438 - acc: 0.9825 - val_loss: 0.1939 - val_acc: 0.9700\n",
            "Epoch 56/100\n",
            "400/400 [==============================] - 3s 8ms/step - loss: 0.0393 - acc: 0.9900 - val_loss: 0.2029 - val_acc: 0.9700\n",
            "Epoch 57/100\n",
            "400/400 [==============================] - 3s 8ms/step - loss: 0.0462 - acc: 0.9850 - val_loss: 0.1801 - val_acc: 0.9650\n",
            "Epoch 58/100\n",
            "400/400 [==============================] - 3s 9ms/step - loss: 0.0446 - acc: 0.9875 - val_loss: 0.2379 - val_acc: 0.9650\n",
            "Epoch 59/100\n",
            "400/400 [==============================] - 3s 9ms/step - loss: 0.0686 - acc: 0.9875 - val_loss: 0.1918 - val_acc: 0.9700\n",
            "Epoch 60/100\n",
            "400/400 [==============================] - 3s 8ms/step - loss: 0.0411 - acc: 0.9850 - val_loss: 0.1944 - val_acc: 0.9700\n",
            "Epoch 61/100\n",
            "400/400 [==============================] - 3s 8ms/step - loss: 0.0385 - acc: 0.9875 - val_loss: 0.2031 - val_acc: 0.9700\n",
            "Epoch 62/100\n",
            "400/400 [==============================] - 3s 8ms/step - loss: 0.0360 - acc: 0.9875 - val_loss: 0.2288 - val_acc: 0.9750\n",
            "Epoch 63/100\n",
            "400/400 [==============================] - 3s 9ms/step - loss: 0.0378 - acc: 0.9900 - val_loss: 0.2100 - val_acc: 0.9700\n",
            "Epoch 64/100\n",
            "400/400 [==============================] - 3s 8ms/step - loss: 0.0371 - acc: 0.9900 - val_loss: 0.2160 - val_acc: 0.9700\n",
            "Epoch 65/100\n",
            "400/400 [==============================] - 3s 8ms/step - loss: 0.0464 - acc: 0.9800 - val_loss: 0.1701 - val_acc: 0.9700\n",
            "Epoch 66/100\n",
            "400/400 [==============================] - 4s 9ms/step - loss: 0.0469 - acc: 0.9800 - val_loss: 0.1918 - val_acc: 0.9700\n",
            "Epoch 67/100\n",
            "400/400 [==============================] - 3s 8ms/step - loss: 0.0429 - acc: 0.9825 - val_loss: 0.1992 - val_acc: 0.9700\n",
            "Epoch 68/100\n",
            "400/400 [==============================] - 3s 9ms/step - loss: 0.0369 - acc: 0.9900 - val_loss: 0.2172 - val_acc: 0.9700\n",
            "Epoch 69/100\n",
            "400/400 [==============================] - 4s 9ms/step - loss: 0.0375 - acc: 0.9900 - val_loss: 0.2083 - val_acc: 0.9700\n",
            "Epoch 70/100\n",
            "400/400 [==============================] - 3s 9ms/step - loss: 0.0316 - acc: 0.9825 - val_loss: 0.3389 - val_acc: 0.9500\n",
            "Epoch 71/100\n",
            "400/400 [==============================] - 4s 9ms/step - loss: 0.0942 - acc: 0.9850 - val_loss: 0.2236 - val_acc: 0.9700\n",
            "Epoch 72/100\n",
            "400/400 [==============================] - 3s 8ms/step - loss: 0.0380 - acc: 0.9875 - val_loss: 0.2252 - val_acc: 0.9700\n",
            "Epoch 73/100\n",
            "400/400 [==============================] - 3s 8ms/step - loss: 0.0380 - acc: 0.9900 - val_loss: 0.2022 - val_acc: 0.9700\n",
            "Epoch 74/100\n",
            "400/400 [==============================] - 3s 8ms/step - loss: 0.0396 - acc: 0.9875 - val_loss: 0.1944 - val_acc: 0.9700\n",
            "Epoch 75/100\n",
            "400/400 [==============================] - 3s 8ms/step - loss: 0.0396 - acc: 0.9850 - val_loss: 0.2099 - val_acc: 0.9750\n",
            "Epoch 76/100\n",
            "400/400 [==============================] - 3s 8ms/step - loss: 0.0354 - acc: 0.9850 - val_loss: 0.1995 - val_acc: 0.9700\n",
            "Epoch 77/100\n",
            "400/400 [==============================] - 3s 9ms/step - loss: 0.0362 - acc: 0.9900 - val_loss: 0.2114 - val_acc: 0.9700\n",
            "Epoch 78/100\n",
            "400/400 [==============================] - 3s 8ms/step - loss: 0.0418 - acc: 0.9850 - val_loss: 0.2045 - val_acc: 0.9750\n",
            "Epoch 79/100\n",
            "400/400 [==============================] - 3s 8ms/step - loss: 0.0374 - acc: 0.9875 - val_loss: 0.2207 - val_acc: 0.9700\n",
            "Epoch 80/100\n",
            "400/400 [==============================] - 3s 8ms/step - loss: 0.0530 - acc: 0.9825 - val_loss: 0.2217 - val_acc: 0.9700\n",
            "Epoch 81/100\n",
            "400/400 [==============================] - 4s 9ms/step - loss: 0.0420 - acc: 0.9850 - val_loss: 0.2373 - val_acc: 0.9700\n",
            "Epoch 82/100\n",
            "400/400 [==============================] - 3s 9ms/step - loss: 0.0539 - acc: 0.9875 - val_loss: 0.1933 - val_acc: 0.9750\n",
            "Epoch 83/100\n",
            "400/400 [==============================] - 3s 8ms/step - loss: 0.0398 - acc: 0.9875 - val_loss: 0.1900 - val_acc: 0.9700\n",
            "Epoch 84/100\n",
            "400/400 [==============================] - 3s 8ms/step - loss: 0.0350 - acc: 0.9900 - val_loss: 0.2147 - val_acc: 0.9750\n",
            "Epoch 85/100\n",
            "400/400 [==============================] - 3s 8ms/step - loss: 0.0512 - acc: 0.9825 - val_loss: 0.1967 - val_acc: 0.9750\n",
            "Epoch 86/100\n",
            "400/400 [==============================] - 3s 8ms/step - loss: 0.0349 - acc: 0.9900 - val_loss: 0.2088 - val_acc: 0.9700\n",
            "Epoch 87/100\n",
            "400/400 [==============================] - 3s 9ms/step - loss: 0.0345 - acc: 0.9900 - val_loss: 0.2239 - val_acc: 0.9750\n",
            "Epoch 88/100\n",
            "400/400 [==============================] - 3s 8ms/step - loss: 0.0350 - acc: 0.9875 - val_loss: 0.2512 - val_acc: 0.9750\n",
            "Epoch 89/100\n",
            "400/400 [==============================] - 3s 8ms/step - loss: 0.0379 - acc: 0.9875 - val_loss: 0.2057 - val_acc: 0.9700\n",
            "Epoch 90/100\n",
            "400/400 [==============================] - 3s 8ms/step - loss: 0.0353 - acc: 0.9875 - val_loss: 0.2129 - val_acc: 0.9700\n",
            "Epoch 91/100\n",
            "400/400 [==============================] - 3s 8ms/step - loss: 0.0340 - acc: 0.9900 - val_loss: 0.2211 - val_acc: 0.9700\n",
            "Epoch 92/100\n",
            "400/400 [==============================] - 3s 9ms/step - loss: 0.0331 - acc: 0.9900 - val_loss: 0.2471 - val_acc: 0.9700\n",
            "Epoch 93/100\n",
            "400/400 [==============================] - 4s 9ms/step - loss: 0.0450 - acc: 0.9875 - val_loss: 0.1876 - val_acc: 0.9650\n",
            "Epoch 94/100\n",
            "400/400 [==============================] - 3s 8ms/step - loss: 0.0424 - acc: 0.9825 - val_loss: 0.1974 - val_acc: 0.9650\n",
            "Epoch 95/100\n",
            "400/400 [==============================] - 3s 9ms/step - loss: 0.0391 - acc: 0.9850 - val_loss: 0.2306 - val_acc: 0.9700\n",
            "Epoch 96/100\n",
            "400/400 [==============================] - 3s 9ms/step - loss: 0.0428 - acc: 0.9825 - val_loss: 0.2470 - val_acc: 0.9750\n",
            "Epoch 97/100\n",
            "400/400 [==============================] - 3s 8ms/step - loss: 0.0385 - acc: 0.9900 - val_loss: 0.2000 - val_acc: 0.9650\n",
            "Epoch 98/100\n",
            "400/400 [==============================] - 3s 9ms/step - loss: 0.0375 - acc: 0.9850 - val_loss: 0.2292 - val_acc: 0.9700\n",
            "Epoch 99/100\n",
            "400/400 [==============================] - 4s 9ms/step - loss: 0.0351 - acc: 0.9900 - val_loss: 0.2365 - val_acc: 0.9700\n",
            "Epoch 100/100\n",
            "400/400 [==============================] - 3s 9ms/step - loss: 0.0354 - acc: 0.9875 - val_loss: 0.2263 - val_acc: 0.9700\n",
            "\n",
            "Loss on validation set:0.22629417419262218 Accuracy on validation set: 0.97\n"
          ],
          "name": "stdout"
        },
        {
          "output_type": "display_data",
          "data": {
            "image/png": "[encoded data removed]",
            "text/plain": [
              "<Figure size 576x396 with 2 Axes>"
            ]
          },
          "metadata": {
            "tags": []
          }
        },
        {
          "output_type": "display_data",
          "data": {
            "image/png": "[encoded data removed]",
            "text/plain": [
              "<Figure size 576x396 with 1 Axes>"
            ]
          },
          "metadata": {
            "tags": []
          }
        },
        {
          "output_type": "display_data",
          "data": {
            "image/png": "[encoded data removed]",
            "text/plain": [
              "<Figure size 576x396 with 1 Axes>"
            ]
          },
          "metadata": {
            "tags": []
          }
        },
        {
          "output_type": "stream",
          "text": [
            "\n",
            "Avg. validation accuracy:0.97\n"
          ],
          "name": "stdout"
        }
      ]
    },
    {
      "metadata": {
        "id": "JkOF8-vnsilo",
        "colab_type": "code",
        "colab": {
          "base_uri": "https://localhost:8080/",
          "height": 255
        },
        "outputId": "6d27ba5d-6921-41f0-c3b4-e9add9d3b8de"
      },
      "cell_type": "code",
      "source": [
        "X_train, y, model=run_keras_2d(\"3class\",archs(3)[0], 10, split=0.5, display=False, verbose=False, trials=5)\n"
      ],
      "execution_count": 22,
      "outputs": [
        {
          "output_type": "stream",
          "text": [
            "Keras FC: dataset= 3class\n",
            "Loading X (800, 2) y (800,) classes {0.0, 1.0, 2.0}\n",
            "\n",
            "Loss on validation set:0.37580104152453714 Accuracy on validation set: 0.8975\n",
            "\n",
            "Loss on validation set:0.3980204207263887 Accuracy on validation set: 0.8925\n",
            "\n",
            "Loss on validation set:0.3947797438420821 Accuracy on validation set: 0.89\n",
            "\n",
            "Loss on validation set:0.38497665359871464 Accuracy on validation set: 0.895\n",
            "\n",
            "Loss on validation set:0.43127132682595404 Accuracy on validation set: 0.8825\n",
            "\n",
            "Avg. validation accuracy:0.8915000000000001\n"
          ],
          "name": "stdout"
        }
      ]
    },
    {
      "metadata": {
        "id": "fcxeXu6stKQ7",
        "colab_type": "code",
        "colab": {
          "base_uri": "https://localhost:8080/",
          "height": 255
        },
        "outputId": "c8ebf48a-9317-4204-b5ae-619715acd4cb"
      },
      "cell_type": "code",
      "source": [
        "X_train, y, model=run_keras_2d(\"3class\",archs(3)[1], 10, split=0.5, display=False, verbose=False, trials=5)\n"
      ],
      "execution_count": 23,
      "outputs": [
        {
          "output_type": "stream",
          "text": [
            "Keras FC: dataset= 3class\n",
            "Loading X (800, 2) y (800,) classes {0.0, 1.0, 2.0}\n",
            "\n",
            "Loss on validation set:0.19425822995934594 Accuracy on validation set: 0.93\n",
            "\n",
            "Loss on validation set:0.18095577861745638 Accuracy on validation set: 0.9425\n",
            "\n",
            "Loss on validation set:0.1841980099960631 Accuracy on validation set: 0.94\n",
            "\n",
            "Loss on validation set:0.18057322938599554 Accuracy on validation set: 0.9325\n",
            "\n",
            "Loss on validation set:0.1741165961263575 Accuracy on validation set: 0.9475\n",
            "\n",
            "Avg. validation accuracy:0.9385\n"
          ],
          "name": "stdout"
        }
      ]
    },
    {
      "metadata": {
        "id": "turfJJUWtKrq",
        "colab_type": "code",
        "colab": {
          "base_uri": "https://localhost:8080/",
          "height": 255
        },
        "outputId": "9d0cbb17-50cf-445c-b496-d9913d15396d"
      },
      "cell_type": "code",
      "source": [
        "X_train, y, model=run_keras_2d(\"3class\",archs(3)[2], 10, split=0.5, display=False, verbose=False, trials=5)\n"
      ],
      "execution_count": 24,
      "outputs": [
        {
          "output_type": "stream",
          "text": [
            "Keras FC: dataset= 3class\n",
            "Loading X (800, 2) y (800,) classes {0.0, 1.0, 2.0}\n",
            "\n",
            "Loss on validation set:0.1440884950258268 Accuracy on validation set: 0.9575\n",
            "\n",
            "Loss on validation set:0.15587048970753137 Accuracy on validation set: 0.9475\n",
            "\n",
            "Loss on validation set:0.15045232152040244 Accuracy on validation set: 0.9475\n",
            "\n",
            "Loss on validation set:0.1533177834802728 Accuracy on validation set: 0.945\n",
            "\n",
            "Loss on validation set:0.14883993604469434 Accuracy on validation set: 0.9525\n",
            "\n",
            "Avg. validation accuracy:0.95\n"
          ],
          "name": "stdout"
        }
      ]
    },
    {
      "metadata": {
        "id": "k3GcqN7jtKvv",
        "colab_type": "code",
        "colab": {
          "base_uri": "https://localhost:8080/",
          "height": 255
        },
        "outputId": "e3e2c038-7ace-418a-b03a-d40aa322edb8"
      },
      "cell_type": "code",
      "source": [
        "X_train, y, model=run_keras_2d(\"3class\",archs(3)[3], 10, split=0.5, display=False, verbose=False, trials=5)\n"
      ],
      "execution_count": 25,
      "outputs": [
        {
          "output_type": "stream",
          "text": [
            "Keras FC: dataset= 3class\n",
            "Loading X (800, 2) y (800,) classes {0.0, 1.0, 2.0}\n",
            "\n",
            "Loss on validation set:0.142916172365197 Accuracy on validation set: 0.9575\n",
            "\n",
            "Loss on validation set:0.13673068349145695 Accuracy on validation set: 0.9525\n",
            "\n",
            "Loss on validation set:0.13630020045745384 Accuracy on validation set: 0.9575\n",
            "\n",
            "Loss on validation set:0.14101611332239244 Accuracy on validation set: 0.96\n",
            "\n",
            "Loss on validation set:0.14030548646441987 Accuracy on validation set: 0.955\n",
            "\n",
            "Avg. validation accuracy:0.9564999999999999\n"
          ],
          "name": "stdout"
        }
      ]
    },
    {
      "metadata": {
        "id": "T1VEU2xptKy-",
        "colab_type": "code",
        "colab": {
          "base_uri": "https://localhost:8080/",
          "height": 255
        },
        "outputId": "263bc596-73e4-408c-f65b-cf4ba30de878"
      },
      "cell_type": "code",
      "source": [
        "X_train, y, model=run_keras_2d(\"3class\",archs(3)[4], 10, split=0.5, display=False, verbose=False, trials=5)\n"
      ],
      "execution_count": 26,
      "outputs": [
        {
          "output_type": "stream",
          "text": [
            "Keras FC: dataset= 3class\n",
            "Loading X (800, 2) y (800,) classes {0.0, 1.0, 2.0}\n",
            "\n",
            "Loss on validation set:0.20895454745500308 Accuracy on validation set: 0.9425\n",
            "\n",
            "Loss on validation set:0.1793179938930818 Accuracy on validation set: 0.9525\n",
            "\n",
            "Loss on validation set:0.20870531987995267 Accuracy on validation set: 0.9525\n",
            "\n",
            "Loss on validation set:0.1976152191465852 Accuracy on validation set: 0.955\n",
            "\n",
            "Loss on validation set:0.2039231977829474 Accuracy on validation set: 0.9525\n",
            "\n",
            "Avg. validation accuracy:0.951\n"
          ],
          "name": "stdout"
        }
      ]
    },
    {
      "metadata": {
        "id": "vN96c03xtK3e",
        "colab_type": "code",
        "colab": {
          "base_uri": "https://localhost:8080/",
          "height": 1553
        },
        "outputId": "5dde2bd7-b7e4-408f-e479-3ce4ac72cfca"
      },
      "cell_type": "code",
      "source": [
        "np.random.seed(0)\n",
        "layer=archs(3)[0]\n",
        "X_train, y, model=run_keras_2d(\"3class\", layer, 10, display=True, split=0.25, verbose=True, trials=1)"
      ],
      "execution_count": 27,
      "outputs": [
        {
          "output_type": "stream",
          "text": [
            "Keras FC: dataset= 3class\n",
            "Loading X (800, 2) y (800,) classes {0.0, 1.0, 2.0}\n",
            "Train on 600 samples, validate on 200 samples\n",
            "Epoch 1/10\n",
            "600/600 [==============================] - 8s 13ms/step - loss: 1.9456 - acc: 0.0350 - val_loss: 1.5078 - val_acc: 0.0350\n",
            "Epoch 2/10\n",
            "600/600 [==============================] - 3s 5ms/step - loss: 1.2304 - acc: 0.1667 - val_loss: 0.9616 - val_acc: 0.3850\n",
            "Epoch 3/10\n",
            "600/600 [==============================] - 3s 5ms/step - loss: 0.8367 - acc: 0.8050 - val_loss: 0.6907 - val_acc: 0.9000\n",
            "Epoch 4/10\n",
            "600/600 [==============================] - 3s 5ms/step - loss: 0.6379 - acc: 0.9017 - val_loss: 0.5484 - val_acc: 0.9300\n",
            "Epoch 5/10\n",
            "600/600 [==============================] - 3s 5ms/step - loss: 0.5286 - acc: 0.9100 - val_loss: 0.4639 - val_acc: 0.9300\n",
            "Epoch 6/10\n",
            "600/600 [==============================] - 3s 5ms/step - loss: 0.4626 - acc: 0.9100 - val_loss: 0.4089 - val_acc: 0.9250\n",
            "Epoch 7/10\n",
            "600/600 [==============================] - 3s 5ms/step - loss: 0.4199 - acc: 0.9083 - val_loss: 0.3731 - val_acc: 0.9250\n",
            "Epoch 8/10\n",
            "600/600 [==============================] - 3s 5ms/step - loss: 0.3911 - acc: 0.9083 - val_loss: 0.3485 - val_acc: 0.9250\n",
            "Epoch 9/10\n",
            "600/600 [==============================] - 3s 5ms/step - loss: 0.3714 - acc: 0.9067 - val_loss: 0.3315 - val_acc: 0.9250\n",
            "Epoch 10/10\n",
            "600/600 [==============================] - 3s 5ms/step - loss: 0.3577 - acc: 0.9100 - val_loss: 0.3193 - val_acc: 0.9250\n",
            "\n",
            "Loss on validation set:0.31927799158147535 Accuracy on validation set: 0.925\n"
          ],
          "name": "stdout"
        },
        {
          "output_type": "display_data",
          "data": {
            "image/png": "[encoded data removed]",
            "text/plain": [
              "<Figure size 576x396 with 2 Axes>"
            ]
          },
          "metadata": {
            "tags": []
          }
        },
        {
          "output_type": "display_data",
          "data": {
            "image/png": "[encoded data removed]",
            "text/plain": [
              "<Figure size 576x396 with 1 Axes>"
            ]
          },
          "metadata": {
            "tags": []
          }
        },
        {
          "output_type": "display_data",
          "data": {
            "image/png": "[encoded data removed]",
            "text/plain": [
              "<Figure size 576x396 with 1 Axes>"
            ]
          },
          "metadata": {
            "tags": []
          }
        },
        {
          "output_type": "stream",
          "text": [
            "\n",
            "Avg. validation accuracy:0.925\n"
          ],
          "name": "stdout"
        }
      ]
    },
    {
      "metadata": {
        "id": "My2yPR_TtK7M",
        "colab_type": "code",
        "colab": {}
      },
      "cell_type": "code",
      "source": [
        "weight=model.layers[0].get_weights()"
      ],
      "execution_count": 0,
      "outputs": []
    },
    {
      "metadata": {
        "id": "SCk1bHj32DlJ",
        "colab_type": "code",
        "colab": {
          "base_uri": "https://localhost:8080/",
          "height": 34
        },
        "outputId": "c936fe09-5377-40a3-cd4b-a6b43c1add0c"
      },
      "cell_type": "code",
      "source": [
        "z=[[-1,0], [1,0], [0,-11], [0,1], [-1,-1], [-1,1], [1,1], [1,-1]]\n",
        "for zi in z:\n",
        "  predict=\n",
        "weight[0].shape"
      ],
      "execution_count": 42,
      "outputs": [
        {
          "output_type": "execute_result",
          "data": {
            "text/plain": [
              "(2, 3)"
            ]
          },
          "metadata": {
            "tags": []
          },
          "execution_count": 42
        }
      ]
    },
    {
      "metadata": {
        "id": "nPMKADq9213h",
        "colab_type": "code",
        "colab": {}
      },
      "cell_type": "code",
      "source": [
        "prediction=model.predict(z)"
      ],
      "execution_count": 0,
      "outputs": []
    },
    {
      "metadata": {
        "id": "rEBqe3K-3Z4T",
        "colab_type": "code",
        "colab": {
          "base_uri": "https://localhost:8080/",
          "height": 34
        },
        "outputId": "7937323a-3323-4a5a-b625-c17bde102fcd"
      },
      "cell_type": "code",
      "source": [
        "prediction.shape"
      ],
      "execution_count": 52,
      "outputs": [
        {
          "output_type": "execute_result",
          "data": {
            "text/plain": [
              "(8, 3)"
            ]
          },
          "metadata": {
            "tags": []
          },
          "execution_count": 52
        }
      ]
    },
    {
      "metadata": {
        "id": "XrEE753r3V80",
        "colab_type": "code",
        "colab": {
          "base_uri": "https://localhost:8080/",
          "height": 34
        },
        "outputId": "df0e6293-16ca-4215-8069-ca7683a18a29"
      },
      "cell_type": "code",
      "source": [
        "np.argmax(prediction,axis=1)"
      ],
      "execution_count": 53,
      "outputs": [
        {
          "output_type": "execute_result",
          "data": {
            "text/plain": [
              "array([2, 1, 0, 2, 0, 2, 1, 1])"
            ]
          },
          "metadata": {
            "tags": []
          },
          "execution_count": 53
        }
      ]
    },
    {
      "metadata": {
        "id": "LCJ_8IkU2mky",
        "colab_type": "code",
        "colab": {
          "base_uri": "https://localhost:8080/",
          "height": 34
        },
        "outputId": "024c23a2-5d6b-4485-9794-446cc45eba21"
      },
      "cell_type": "code",
      "source": [
        "z=np.array([[-1,0], [1,0], [0,-11], [0,1], [-1,-1], [-1,1], [1,1], [1,-1]])\n",
        "weight[0].T@z[0]+weight[1]"
      ],
      "execution_count": 46,
      "outputs": [
        {
          "output_type": "execute_result",
          "data": {
            "text/plain": [
              "array([ 0.57703805, -1.52869733,  0.79963088])"
            ]
          },
          "metadata": {
            "tags": []
          },
          "execution_count": 46
        }
      ]
    },
    {
      "metadata": {
        "id": "Zh4u39OCjLza",
        "colab_type": "text"
      },
      "cell_type": "markdown",
      "source": [
        "# Weight sharing (OPTIONAL)\n",
        "\n",
        "** Note: You can click the arrow on the left of this text block to collapse/expand this optional section and all its code blocks **\n",
        "\n",
        "In the lab we designed a CNN that can count the number of objects in 1 dimensional images, where each black pixel is represented by a value of 0 and each white pixel is represented by a value of 1. Recall that an object is a consecutive sequence of black pixels ($0$'s). For example, the sequence $0100110$ contains three objects. \n",
        "\n",
        "Here we want to see how hard/easy it is to train such a network from data.  Our network architecture will be as follows: \n",
        "\n",
        "* The first layer is convolutional and you will implement it using the Keras `Conv1D` function, with a kernel of size 2 and stride of 1 with ReLu activation.\n",
        "\n",
        "* The second layer is a fully connected `Dense` layer which has a scalar output. \n",
        "\n",
        "Here is sample usage of the `Conv1D` and`Dense` layers. \n",
        "\n",
        "`layer1=keras.layers.Conv1D(filters=?, kernel_size=?, strides=?,use_bias=False, activation=?, batch_size=1, input_shape=?, padding='same')`\n",
        "\n",
        "`Dense(units=?, activation=?, use_bias=False)`\n",
        "\n",
        "You need to fill in the parameters marked with `?` based on the problem specifications. Note also that in Keras, depending on your implementation, you may be forced to use *three* layers to implement such a network, where one intermediary `Flatten` layer is used to flatten the output of the convolutional layer, before being passed to the dense layer.\n",
        "\n",
        "Refer to the <a href=\"https://keras.io/layers/convolutional/\">Conv 1D</a>, <a href=\"https://keras.io/layers/core/\">Dense</a> and <a href=\"https://keras.io/layers/core/#flatten\">Flatten</a> descriptions in the Keras documentation to see the available parameter options.\n",
        "\n",
        "In this exercise, we fix the structure and want to learn the best combination of weights from data. In the homework code, we have provided functions `train_neural_counter` and `get_image_data_1d`. You can use them to generate data and train the above neural network in Keras to answer the following questions. We assume that the images in our data set are randomly generated. The probability of a pixel being white is $0.1$. We work with mean squared error as the loss function for this problem. We have provided template code which you can fill in, to perform the training."
      ]
    },
    {
      "metadata": {
        "id": "Bz-TGSRI2C4b",
        "colab_type": "code",
        "colab": {}
      },
      "cell_type": "code",
      "source": [
        ""
      ],
      "execution_count": 0,
      "outputs": []
    },
    {
      "metadata": {
        "id": "yrcXA596yWek",
        "colab_type": "text"
      },
      "cell_type": "markdown",
      "source": [
        "<b>4A)</b> We call a $2\\times 1$ filter an *edge detector* if it has weights $[-1,1]$ or $[1,-1]$ (i.e., it can detect a left or right edge in a given image). We call it an *averaging filter* if takes average of nearby pixels. \n",
        "\n",
        "Assuming that the second layer in our network is the sum function (i.e., all of its weights are equal to 1), which of the following filters gives a (nearly) local minima? You may assume that we are working with $1024\\times 1$ images. \n",
        "\n",
        "(Although you can answer the question without any coding, you may also empirically verify your claims. The function `set_weights` that can be applied to keras layers might be useful.)"
      ]
    },
    {
      "metadata": {
        "id": "wKa8iMv_j3ek",
        "colab_type": "text"
      },
      "cell_type": "markdown",
      "source": [
        "<b>4B)</b> What is (approximately) the expected loss of the network on $1024\\times 1$ images if the convolutional layer is an averaging filter and second layer is the sum function (without a bias term)? (Note that you can answer the question theoretically or through coding, depending on your preference.)"
      ]
    },
    {
      "metadata": {
        "id": "IKxedp-qFXJe",
        "colab_type": "code",
        "colab": {}
      },
      "cell_type": "code",
      "source": [
        "from keras.models import Sequential"
      ],
      "execution_count": 0,
      "outputs": []
    },
    {
      "metadata": {
        "id": "oKPcB588ok8a",
        "colab_type": "code",
        "outputId": "2fb81c30-7ceb-43bf-b9a0-68e7d5f1f189",
        "colab": {
          "base_uri": "https://localhost:8080/",
          "height": 122
        }
      },
      "cell_type": "code",
      "source": [
        "# Code template if you would like to check 4B) through code\n",
        "\n",
        "imsize = 1024\n",
        "prob_white = 0.1\n",
        "\n",
        "num_filters = None  # Your code\n",
        "kernel_size = None  # Your code\n",
        "strides = None  # Your code\n",
        "activation_conv = None  # Your code\n",
        "\n",
        "(X_train,Y_train,X_val,Y_val,X_test,Y_test) = get_image_data_1d(1000,imsize,prob_white)\n",
        "\n",
        "layer1=keras.layers.Conv1D(filters=num_filters, kernel_size=kernel_size, \\\n",
        "       strides=strides, use_bias=False, activation=activation_conv, batch_size=1, input_shape=(imsize,1), padding='same')\n",
        "\n",
        "activation_dense = None  # Your code\n",
        "num_units = None  # Your code\n",
        "layer3=Dense(units=num_units, activation=activation_dense, use_bias=False)\n",
        "\n",
        "layers=[layer1,Flatten(),layer3]\n",
        "\n",
        "# This is how we create the model using our layers\n",
        "model=Sequential()\n",
        "for layer in layers:\n",
        "    model.add(layer)\n",
        "        \n",
        "model.compile(loss='mse', optimizer=Adam()) \n",
        "\n",
        "# Set the weights of the layers to desired values\n",
        "# We give you the lines to use for this part\n",
        "model.layers[0].set_weights([np.array([1/2,1/2]).reshape(2,1,1)])\n",
        "model.layers[-1].set_weights([np.ones(imsize).reshape(imsize,1)])\n",
        "\n",
        "model.evaluate(X_test,Y_test)"
      ],
      "execution_count": 0,
      "outputs": [
        {
          "output_type": "stream",
          "text": [
            "WARNING:tensorflow:From /usr/local/lib/python3.6/dist-packages/tensorflow/python/framework/op_def_library.py:263: colocate_with (from tensorflow.python.framework.ops) is deprecated and will be removed in a future version.\n",
            "Instructions for updating:\n",
            "Colocations handled automatically by placer.\n",
            "1000/1000 [==============================] - 0s 164us/step\n"
          ],
          "name": "stdout"
        },
        {
          "output_type": "execute_result",
          "data": {
            "text/plain": [
              "102.36525"
            ]
          },
          "metadata": {
            "tags": []
          },
          "execution_count": 13
        }
      ]
    },
    {
      "metadata": {
        "id": "js3OYsbwj7Ms",
        "colab_type": "text"
      },
      "cell_type": "markdown",
      "source": [
        "<b>4C)</b> Now suppose we add a bias term of $-10$ to the last layer. What is (approximately) the expected quadratic loss? (Note that you can answer the question theoretically or through coding, depending on your preference.)"
      ]
    },
    {
      "metadata": {
        "id": "AKynxhF1klga",
        "colab_type": "code",
        "colab": {}
      },
      "cell_type": "code",
      "source": [
        "# Edit code from 4B) with the bias"
      ],
      "execution_count": 0,
      "outputs": []
    },
    {
      "metadata": {
        "id": "3GCLr8qmj-Hk",
        "colab_type": "text"
      },
      "cell_type": "markdown",
      "source": [
        "<b>4D)</b> Averaging type filters are abundant and form a nearly flat valley of local minima for this problem. It is difficult for the network to find alternative solutions on its own. We need to force our way out of these bad minima and towards a better solution, i.e., an edge detector. To force the first layer to behave as an edge detector, we need to choose a proper **kernel regularizer**. Consider the following functions\n",
        "\n",
        "$f_1=\\sum_i |w_i|$, $f_2=\\sum_i |w_i^2|$, $f_3=|\\sum_{i} w_i|$. Which one of the choices is likely to guide the network to find an edge detector at the convolution layer?\n",
        "\n",
        "\n",
        "<a href=\"https://lms.mitx.mit.edu/courses/course-v1:MITx+6.036+2019_Spring/courseware/Week8/week8_homework/\">Refer to Catsoop.</a>"
      ]
    },
    {
      "metadata": {
        "id": "5aubU6Q6kwOI",
        "colab_type": "text"
      },
      "cell_type": "markdown",
      "source": [
        "Implement your choice of regularizers from above in the code (complete the function `filter_reg`). Do not allow any bias in the layers for the rest of the problem. The code generates some random test and training data sets and trains the model on these data. Run a few learning trials (5 or more) for each data set and answer the following questions based on the performance of your model.\n",
        "\n",
        "**IMPORTANT**: When implementing `filter_reg`, you should use the keras backend operations, imported as \"K\" in the code. So for example, `K.sum` and `K.abs`, rather than `np.sum` and `np.abs`. This is because the `weights` argument is NOT a numpy object, but rather an internal Keras object!"
      ]
    },
    {
      "metadata": {
        "id": "yOLZf_JsuTLn",
        "colab_type": "code",
        "colab": {}
      },
      "cell_type": "code",
      "source": [
        "# Implement filter_reg\n",
        "\n",
        "def filter_reg(weights):\n",
        "    # We scale the output of the filter by lam\n",
        "    lam=1000\n",
        "    filter_result = None  # Your code\n",
        "    return lam * filter_result"
      ],
      "execution_count": 0,
      "outputs": []
    },
    {
      "metadata": {
        "id": "pYRwd0eJkAdh",
        "colab_type": "text"
      },
      "cell_type": "markdown",
      "source": [
        "<b>4E)</b> For $1024\\times 1$ images and training set of size $1000$, is the network **without any regularization** likely to find models that have a mean square error lower than 8 on the test data?"
      ]
    },
    {
      "metadata": {
        "id": "1KiCbZmksXO6",
        "colab_type": "code",
        "colab": {}
      },
      "cell_type": "code",
      "source": [
        "# Code template if you would like to check 4B) through code\n",
        "\n",
        "imsize = 1024\n",
        "prob_white = 0.1\n",
        "\n",
        "data=get_image_data_1d(1000, imsize, prob_white)\n",
        "trials=5\n",
        "for trial in range(trials):\n",
        "  \n",
        "    num_filters = None  # Your code\n",
        "    kernel_size = None  # Your code\n",
        "    strides = None  # Your code\n",
        "    activation_conv = None  # Your code\n",
        "\n",
        "    layer1=keras.layers.Conv1D(filters=num_filters, kernel_size=kernel_size, \\\n",
        "    strides=strides, use_bias=False, activation=activation_conv, batch_size=1, \\\n",
        "    input_shape=(imsize,1),padding='same')\n",
        "    \n",
        "    activation_dense = None  # Your code\n",
        "    num_units = None  # Your code\n",
        "\n",
        "    layer3=Dense(units=num_units, activation=activation_dense, use_bias=False)\n",
        "    \n",
        "    layers=[layer1,Flatten(),layer3]\n",
        "    model,err = train_neural_counter(layers, data, 'mse')\n",
        "    \n",
        "    model.layers[0].get_weights()[0]\n",
        "    np.mean(model.layers[-1].get_weights()[0])\n",
        "    print(err)"
      ],
      "execution_count": 0,
      "outputs": []
    },
    {
      "metadata": {
        "id": "g1vcUEL-vW9D",
        "colab_type": "text"
      },
      "cell_type": "markdown",
      "source": [
        "#### For parts F) to J), simply edit your code from E) with the necessary changes."
      ]
    },
    {
      "metadata": {
        "id": "w_25ygQJkD5F",
        "colab_type": "text"
      },
      "cell_type": "markdown",
      "source": [
        "<b>4F)</b> Repeat the same experiment, but now with the regularizer you implemented. Try different regularization parameters. Which choice of regularization parameter gives the best prediction results?"
      ]
    },
    {
      "metadata": {
        "id": "vNAChIqylIlt",
        "colab_type": "code",
        "colab": {}
      },
      "cell_type": "code",
      "source": [
        "# Edit code from 4E), using your filter as the kernel_regularizer in the Conv1D layer"
      ],
      "execution_count": 0,
      "outputs": []
    },
    {
      "metadata": {
        "id": "Rs44ze96kHZZ",
        "colab_type": "text"
      },
      "cell_type": "markdown",
      "source": [
        "<b>4G)</b> With the above choice of regularization parameter, what is the mean square error of the best network that you find on the test data? Try a few trials (5 or more) for each data test and report the value of the best network. \n"
      ]
    },
    {
      "metadata": {
        "id": "IAN0k9wylOmz",
        "colab_type": "text"
      },
      "cell_type": "markdown",
      "source": [
        "\n",
        "#### We expect the training to be easier when there are fewer parameters to learn. Consider images of size $128\\times 1$ for the rest of the problem."
      ]
    },
    {
      "metadata": {
        "id": "ZnktFwXRkKNF",
        "colab_type": "text"
      },
      "cell_type": "markdown",
      "source": [
        "<b>4H)</b> Instead of resorting to regularization again, we may instead find a way to reduce the number of parameters. What additional layer can you add to the output of the convolution layer to reduce the number of parameters to be learned without losing any relevant information?\n",
        "\n",
        "<a href=\"https://lms.mitx.mit.edu/courses/course-v1:MITx+6.036+2019_Spring/courseware/Week8/week8_homework/\">Refer to Catsoop.</a>"
      ]
    },
    {
      "metadata": {
        "id": "zXgOqKtRkNRP",
        "colab_type": "text"
      },
      "cell_type": "markdown",
      "source": [
        "<b>4I)</b> Add the layer you suggested above to your network and run some tests with data sets of size 1000 on $128\\times 1$ images.  How many parameters are left to learn with the new structure?"
      ]
    },
    {
      "metadata": {
        "id": "e8FRQawHkPG9",
        "colab_type": "text"
      },
      "cell_type": "markdown",
      "source": [
        "<b>4J)</b> Mark your observations on the two structures (not using regularization).\n",
        "<a href=\"https://lms.mitx.mit.edu/courses/course-v1:MITx+6.036+2019_Spring/courseware/Week8/week8_homework/\">Refer to Catsoop.</a>"
      ]
    },
    {
      "metadata": {
        "id": "I-iTDCrHySde",
        "colab_type": "text"
      },
      "cell_type": "markdown",
      "source": [
        ""
      ]
    },
    {
      "metadata": {
        "id": "eQGlJLxI__4A",
        "colab_type": "text"
      },
      "cell_type": "markdown",
      "source": [
        "# 5) MNIST (Digit Classification)\n",
        "\n",
        "In this section, we'll be looking at the MNIST data set seen already in problem 2. This time, we look at the *complete* MNIST problem where our networks will take an image of *any* digit from $0-9$ as input (recall that problem 2 only looked at digits $0$ and $1$) and try to predict that digit. Also, we will now use out-of-the-box neural network implementations using Keras and Tensorflow. State-of-the-art systems have error rates of less that one half of one percent on this data set (see <a href=\"http://rodrigob.github.io/are_we_there_yet/build/classification_datasets_results.html#4d4e495354\">this list</a>).  We'll be happy with an error rate less than 2% since we don't have all year...\n",
        "<br>\n",
        "\n",
        "You can access the MNIST data for this problem using:\n",
        "<br><code>train, validation = get_MNIST_data()</code>\n",
        "<br>\n",
        "\n",
        "You can run the fully connected MNIST model, using:\n",
        "<br><code>run_keras_fc_mnist(train, validation, layers, epochs, split=0.1, trials=5)</code>\n",
        "<br>\n",
        "\n",
        "And, you can run the CNN MNIST test, using:\n",
        "<br><code>run_keras_cnn_mnist(train, validation, layers, epochs, split=0.1, trials=5)</code>\n",
        "<br>\n",
        "\n",
        "For all following experiments, please run for 5 trials (use `trials=5`) and report the average accuracy.\n",
        "<br>\n",
        "\n",
        "A word of warning, if you have a machine with a single core and/or very little RAM, you'll be better off running on an Athena workstation. If your solutions are not being accepted, and you are confident in your approach, try with more trials. Also, \n",
        "<br>\n",
        "\n",
        "You will need to design your own `layers` to feed to `run_keras_fc_mnist` and `run_keras_cnn_mnist`, which will be different than the ones specified by `archs()`. For instance, `layers=[Dense(input_dim=64, units=4, activation=\"softmax\")]` defines a single layer with 64 inputs, 4 output units, and softmax activation. Also, we advise you to use the option `verbose=True` when unsure about the progress made during training of your models.\n",
        "<br>"
      ]
    },
    {
      "metadata": {
        "id": "dx1jt6P9AUk1",
        "colab_type": "text"
      },
      "cell_type": "markdown",
      "source": [
        "<b> 5A)</b> Look at the code and indicate what the difference is between <code>run_keras_fc_mnist</code> and <code>run_keras_cnn_mnist</code>? <a href=\"https://lms.mitx.mit.edu/courses/course-v1:MITx+6.036+2019_Spring/courseware/Week8/week8_homework/\">Refer to Catsoop.</a>"
      ]
    },
    {
      "metadata": {
        "id": "Q5moSfb7CcXd",
        "colab_type": "code",
        "colab": {}
      },
      "cell_type": "code",
      "source": [
        "def run_keras_fc_mnist(train, test, layers, epochs, split=0.1, verbose=True, trials=1):\n",
        "    (X_train, y1), (X_val, y2) = train, test\n",
        "    # Flatten the images\n",
        "    m = X_train.shape[1]\n",
        "    X_train = X_train.reshape((X_train.shape[0], m*m))\n",
        "    X_val = X_val.reshape((X_val.shape[0], m*m))\n",
        "    # Categorize the labels\n",
        "    num_classes = 10\n",
        "    y_train = np_utils.to_categorical(y1, num_classes)\n",
        "    y_val = np_utils.to_categorical(y2, num_classes)\n",
        "    # Train, use split for validation\n",
        "    val_acc, test_acc = 0, 0\n",
        "    for trial in range(trials):\n",
        "        # Reset the weights\n",
        "        # See https://github.com/keras-team/keras/issues/341\n",
        "        session = K.get_session()\n",
        "        for layer in layers:\n",
        "            for v in layer.__dict__:\n",
        "                v_arg = getattr(layer, v)\n",
        "                if hasattr(v_arg, 'initializer'):\n",
        "                    initializer_func = getattr(v_arg, 'initializer')\n",
        "                    initializer_func.run(session=session)\n",
        "        # Run the model\n",
        "        model, history, vacc, tacc = \\\n",
        "                run_keras(X_train, y_train, X_val, y_val, None, None, layers, epochs, split=split, verbose=verbose)\n",
        "        val_acc += vacc if vacc else 0\n",
        "        test_acc += tacc if tacc else 0\n",
        "    if val_acc:\n",
        "        print (\"\\nAvg. validation accuracy:\"  + str(val_acc/trials))\n",
        "    if test_acc:\n",
        "        print (\"\\nAvg. test accuracy:\"  + str(test_acc/trials))\n",
        "\n",
        "def run_keras_cnn_mnist(train, test, layers, epochs, split=0.1, verbose=True, trials=1):\n",
        "    # Load the dataset\n",
        "    (X_train, y1), (X_val, y2) = train, test\n",
        "    # Add a final dimension indicating the number of channels (only 1 here)\n",
        "    m = X_train.shape[1]\n",
        "    X_train = X_train.reshape((X_train.shape[0], m, m, 1))\n",
        "    X_val = X_val.reshape((X_val.shape[0], m, m, 1))\n",
        "    # Categorize the labels\n",
        "    num_classes = 10\n",
        "    y_train = np_utils.to_categorical(y1, num_classes)\n",
        "    y_val = np_utils.to_categorical(y2, num_classes)\n",
        "    # Train, use split for validation\n",
        "    val_acc, test_acc = 0, 0\n",
        "    for trial in range(trials):\n",
        "        # Reset the weights\n",
        "        # See https://github.com/keras-team/keras/issues/341\n",
        "        session = K.get_session()\n",
        "        for layer in layers:\n",
        "            for v in layer.__dict__:\n",
        "                v_arg = getattr(layer, v)\n",
        "                if hasattr(v_arg, 'initializer'):\n",
        "                    initializer_func = getattr(v_arg, 'initializer')\n",
        "                    initializer_func.run(session=session)\n",
        "        # Run the model\n",
        "        model, history, vacc, tacc = \\\n",
        "                run_keras(X_train, y_train, X_val, y_val, None, None, layers, epochs, split=split, verbose=verbose)\n",
        "        val_acc += vacc if vacc else 0\n",
        "        test_acc += tacc if tacc else 0\n",
        "    if val_acc:\n",
        "        print (\"\\nAvg. validation accuracy:\"  + str(val_acc/trials))\n",
        "    if test_acc:\n",
        "        print (\"\\nAvg. test accuracy:\"  + str(test_acc/trials))"
      ],
      "execution_count": 0,
      "outputs": []
    },
    {
      "metadata": {
        "id": "4sGfqAbICbmE",
        "colab_type": "text"
      },
      "cell_type": "markdown",
      "source": [
        "<b> 5B)</b> Using one epoch of training, what is the accuracy of a network **with no hidden units** (using the <code>run_keras_fc_mnist</code> method) on this data? Hint: this is expected to be terrible. If it's still not working, run for more trials. Remember to use 10 output units (the network predicts a digit from 0-9) and softmax activation!\n",
        "\n"
      ]
    },
    {
      "metadata": {
        "id": "H1VAxZ17DtPQ",
        "colab_type": "code",
        "colab": {
          "base_uri": "https://localhost:8080/",
          "height": 935
        },
        "outputId": "a3d7c721-10bf-483b-886b-2c4163b151a3"
      },
      "cell_type": "code",
      "source": [
        "layers = [Dense(input_dim=784, units=10, activation=\"softmax\")]  # Your code\n",
        "train, validation = get_MNIST_data()\n",
        "run_keras_fc_mnist(train, validation, layers, 1, split=0.1, verbose=True, trials=10)"
      ],
      "execution_count": 55,
      "outputs": [
        {
          "output_type": "stream",
          "text": [
            "Downloading data from https://s3.amazonaws.com/img-datasets/mnist.npz\n",
            "11493376/11490434 [==============================] - 0s 0us/step\n",
            "Train on 60000 samples, validate on 10000 samples\n",
            "Epoch 1/1\n",
            "60000/60000 [==============================] - 13s 220us/step - loss: 7.3552 - acc: 0.5378 - val_loss: 6.2711 - val_acc: 0.6081\n",
            "\n",
            "Loss on validation set:6.271083640289307 Accuracy on validation set: 0.6081\n",
            "Train on 60000 samples, validate on 10000 samples\n",
            "Epoch 1/1\n",
            "60000/60000 [==============================] - 13s 217us/step - loss: 8.5004 - acc: 0.4671 - val_loss: 7.5803 - val_acc: 0.5270\n",
            "\n",
            "Loss on validation set:7.580250917053223 Accuracy on validation set: 0.527\n",
            "Train on 60000 samples, validate on 10000 samples\n",
            "Epoch 1/1\n",
            "60000/60000 [==============================] - 13s 223us/step - loss: 6.7111 - acc: 0.5786 - val_loss: 5.6738 - val_acc: 0.6447\n",
            "\n",
            "Loss on validation set:5.673832307052613 Accuracy on validation set: 0.6447\n",
            "Train on 60000 samples, validate on 10000 samples\n",
            "Epoch 1/1\n",
            "60000/60000 [==============================] - 13s 221us/step - loss: 10.6255 - acc: 0.3378 - val_loss: 10.3084 - val_acc: 0.3579\n",
            "\n",
            "Loss on validation set:10.308383099365235 Accuracy on validation set: 0.3579\n",
            "Train on 60000 samples, validate on 10000 samples\n",
            "Epoch 1/1\n",
            "60000/60000 [==============================] - 13s 222us/step - loss: 7.5906 - acc: 0.5243 - val_loss: 6.1305 - val_acc: 0.6171\n",
            "\n",
            "Loss on validation set:6.1304636009216305 Accuracy on validation set: 0.6171\n",
            "Train on 60000 samples, validate on 10000 samples\n",
            "Epoch 1/1\n",
            "60000/60000 [==============================] - 13s 224us/step - loss: 8.8001 - acc: 0.4507 - val_loss: 6.3978 - val_acc: 0.6005\n",
            "\n",
            "Loss on validation set:6.397847781372071 Accuracy on validation set: 0.6005\n",
            "Train on 60000 samples, validate on 10000 samples\n",
            "Epoch 1/1\n",
            "60000/60000 [==============================] - 13s 224us/step - loss: 8.5205 - acc: 0.4664 - val_loss: 7.2486 - val_acc: 0.5482\n",
            "\n",
            "Loss on validation set:7.24859765625 Accuracy on validation set: 0.5482\n",
            "Train on 60000 samples, validate on 10000 samples\n",
            "Epoch 1/1\n",
            "60000/60000 [==============================] - 13s 223us/step - loss: 10.2398 - acc: 0.3606 - val_loss: 9.3751 - val_acc: 0.4155\n",
            "\n",
            "Loss on validation set:9.37509881439209 Accuracy on validation set: 0.4155\n",
            "Train on 60000 samples, validate on 10000 samples\n",
            "Epoch 1/1\n",
            "60000/60000 [==============================] - 14s 229us/step - loss: 5.7586 - acc: 0.6364 - val_loss: 4.5275 - val_acc: 0.7152\n",
            "\n",
            "Loss on validation set:4.527505477905273 Accuracy on validation set: 0.7152\n",
            "Train on 60000 samples, validate on 10000 samples\n",
            "Epoch 1/1\n",
            "60000/60000 [==============================] - 14s 226us/step - loss: 8.7586 - acc: 0.4530 - val_loss: 6.7414 - val_acc: 0.5768\n",
            "\n",
            "Loss on validation set:6.74144854888916 Accuracy on validation set: 0.5768\n",
            "\n",
            "Avg. validation accuracy:0.5611\n"
          ],
          "name": "stdout"
        }
      ]
    },
    {
      "metadata": {
        "id": "5Gndf-ASDEe_",
        "colab_type": "text"
      },
      "cell_type": "markdown",
      "source": [
        "<b> 5C)</b> When creating the keras layer, pass in the following argument to Dense:\n",
        "<code>kernel_initializer=VarianceScaling(scale=0.001, mode='fan_in', distribution='normal', seed=None)</code> and repeat the test.  What is the accuracy now?\n"
      ]
    },
    {
      "metadata": {
        "id": "x2CP5WJQELJA",
        "colab_type": "code",
        "colab": {
          "base_uri": "https://localhost:8080/",
          "height": 901
        },
        "outputId": "59c22986-5ae3-4278-fd1f-36a3bb5f3ac1"
      },
      "cell_type": "code",
      "source": [
        "layers = [Dense(input_dim=784, units=10, activation=\"softmax\",\\\n",
        "          kernel_initializer=VarianceScaling(scale=0.001, mode='fan_in', distribution='normal', seed=None))]  # Your code\n",
        "train, validation = get_MNIST_data()\n",
        "run_keras_fc_mnist(train, validation, layers, 1, split=0.1, verbose=True, trials=10)"
      ],
      "execution_count": 95,
      "outputs": [
        {
          "output_type": "stream",
          "text": [
            "Train on 60000 samples, validate on 10000 samples\n",
            "Epoch 1/1\n",
            "60000/60000 [==============================] - 15s 252us/step - loss: 6.8316 - acc: 0.5686 - val_loss: 5.7266 - val_acc: 0.6418\n",
            "\n",
            "Loss on validation set:5.726605661010742 Accuracy on validation set: 0.6418\n",
            "Train on 60000 samples, validate on 10000 samples\n",
            "Epoch 1/1\n",
            "60000/60000 [==============================] - 15s 246us/step - loss: 3.6564 - acc: 0.7598 - val_loss: 3.3125 - val_acc: 0.7870\n",
            "\n",
            "Loss on validation set:3.312474801635742 Accuracy on validation set: 0.787\n",
            "Train on 60000 samples, validate on 10000 samples\n",
            "Epoch 1/1\n",
            "60000/60000 [==============================] - 15s 244us/step - loss: 6.0079 - acc: 0.6177 - val_loss: 5.8303 - val_acc: 0.6344\n",
            "\n",
            "Loss on validation set:5.830264462280273 Accuracy on validation set: 0.6344\n",
            "Train on 60000 samples, validate on 10000 samples\n",
            "Epoch 1/1\n",
            "60000/60000 [==============================] - 15s 244us/step - loss: 4.6595 - acc: 0.6998 - val_loss: 4.2099 - val_acc: 0.7346\n",
            "\n",
            "Loss on validation set:4.209945277023316 Accuracy on validation set: 0.7346\n",
            "Train on 60000 samples, validate on 10000 samples\n",
            "Epoch 1/1\n",
            "60000/60000 [==============================] - 15s 242us/step - loss: 4.2092 - acc: 0.7283 - val_loss: 4.0051 - val_acc: 0.7462\n",
            "\n",
            "Loss on validation set:4.005124110031128 Accuracy on validation set: 0.7462\n",
            "Train on 60000 samples, validate on 10000 samples\n",
            "Epoch 1/1\n",
            "60000/60000 [==============================] - 15s 243us/step - loss: 4.7293 - acc: 0.6958 - val_loss: 4.6994 - val_acc: 0.7014\n",
            "\n",
            "Loss on validation set:4.699429852294922 Accuracy on validation set: 0.7014\n",
            "Train on 60000 samples, validate on 10000 samples\n",
            "Epoch 1/1\n",
            "60000/60000 [==============================] - 15s 244us/step - loss: 5.7748 - acc: 0.6306 - val_loss: 5.5131 - val_acc: 0.6528\n",
            "\n",
            "Loss on validation set:5.513072610473633 Accuracy on validation set: 0.6528\n",
            "Train on 60000 samples, validate on 10000 samples\n",
            "Epoch 1/1\n",
            "60000/60000 [==============================] - 15s 243us/step - loss: 5.8902 - acc: 0.6249 - val_loss: 5.7349 - val_acc: 0.6405\n",
            "\n",
            "Loss on validation set:5.734931440734863 Accuracy on validation set: 0.6405\n",
            "Train on 60000 samples, validate on 10000 samples\n",
            "Epoch 1/1\n",
            "60000/60000 [==============================] - 15s 246us/step - loss: 5.8625 - acc: 0.6255 - val_loss: 5.5704 - val_acc: 0.6498\n",
            "\n",
            "Loss on validation set:5.570393853759765 Accuracy on validation set: 0.6498\n",
            "Train on 60000 samples, validate on 10000 samples\n",
            "Epoch 1/1\n",
            "60000/60000 [==============================] - 15s 247us/step - loss: 6.1446 - acc: 0.6081 - val_loss: 5.8963 - val_acc: 0.6300\n",
            "\n",
            "Loss on validation set:5.896321369552612 Accuracy on validation set: 0.63\n",
            "\n",
            "Avg. validation accuracy:0.6818500000000001\n"
          ],
          "name": "stdout"
        }
      ]
    },
    {
      "metadata": {
        "id": "xsQ31e1lDE6u",
        "colab_type": "text"
      },
      "cell_type": "markdown",
      "source": [
        "<b> 5D)</b> Now, linearly scale the data so that the pixel values are between 0 and 1 and repeat your test with the original layer (no VarianceScaling). What is the accuracy now?"
      ]
    },
    {
      "metadata": {
        "id": "5b-RcZu1EPaj",
        "colab_type": "code",
        "colab": {
          "base_uri": "https://localhost:8080/",
          "height": 901
        },
        "outputId": "0e31ea1d-d21f-4559-a4c5-39027d8c1c34"
      },
      "cell_type": "code",
      "source": [
        "layers = [Dense(input_dim=784, units=10, activation=\"softmax\")]  # Your code\n",
        "train, validation = get_MNIST_data()\n",
        "\n",
        "# Scale the images\n",
        "train2 =(train[0]/255.,train[1])  # Your code\n",
        "validation2 = (validation[0]/255,validation[1])  # Your code\n",
        "\n",
        "run_keras_fc_mnist(train2, validation2, layers, 1, split=0.1, verbose=True, trials=10)"
      ],
      "execution_count": 110,
      "outputs": [
        {
          "output_type": "stream",
          "text": [
            "Train on 60000 samples, validate on 10000 samples\n",
            "Epoch 1/1\n",
            "60000/60000 [==============================] - 16s 265us/step - loss: 0.4667 - acc: 0.8793 - val_loss: 0.3078 - val_acc: 0.9151\n",
            "\n",
            "Loss on validation set:0.3077592942535877 Accuracy on validation set: 0.9151\n",
            "Train on 60000 samples, validate on 10000 samples\n",
            "Epoch 1/1\n",
            "60000/60000 [==============================] - 15s 256us/step - loss: 0.4690 - acc: 0.8778 - val_loss: 0.3173 - val_acc: 0.9107\n",
            "\n",
            "Loss on validation set:0.31729373716712 Accuracy on validation set: 0.9107\n",
            "Train on 60000 samples, validate on 10000 samples\n",
            "Epoch 1/1\n",
            "60000/60000 [==============================] - 16s 261us/step - loss: 0.4679 - acc: 0.8768 - val_loss: 0.3081 - val_acc: 0.9136\n",
            "\n",
            "Loss on validation set:0.3080778224647045 Accuracy on validation set: 0.9136\n",
            "Train on 60000 samples, validate on 10000 samples\n",
            "Epoch 1/1\n",
            "60000/60000 [==============================] - 16s 260us/step - loss: 0.4746 - acc: 0.8745 - val_loss: 0.3104 - val_acc: 0.9138\n",
            "\n",
            "Loss on validation set:0.3103947720170021 Accuracy on validation set: 0.9138\n",
            "Train on 60000 samples, validate on 10000 samples\n",
            "Epoch 1/1\n",
            "60000/60000 [==============================] - 16s 263us/step - loss: 0.4652 - acc: 0.8782 - val_loss: 0.3088 - val_acc: 0.9155\n",
            "\n",
            "Loss on validation set:0.30883601899147034 Accuracy on validation set: 0.9155\n",
            "Train on 60000 samples, validate on 10000 samples\n",
            "Epoch 1/1\n",
            "60000/60000 [==============================] - 16s 263us/step - loss: 0.4702 - acc: 0.8778 - val_loss: 0.3073 - val_acc: 0.9150\n",
            "\n",
            "Loss on validation set:0.30729789862036705 Accuracy on validation set: 0.915\n",
            "Train on 60000 samples, validate on 10000 samples\n",
            "Epoch 1/1\n",
            "60000/60000 [==============================] - 16s 271us/step - loss: 0.4699 - acc: 0.8768 - val_loss: 0.3086 - val_acc: 0.9165\n",
            "\n",
            "Loss on validation set:0.3086392650783062 Accuracy on validation set: 0.9165\n",
            "Train on 60000 samples, validate on 10000 samples\n",
            "Epoch 1/1\n",
            "60000/60000 [==============================] - 16s 264us/step - loss: 0.4714 - acc: 0.8757 - val_loss: 0.3100 - val_acc: 0.9160\n",
            "\n",
            "Loss on validation set:0.3099584287703037 Accuracy on validation set: 0.916\n",
            "Train on 60000 samples, validate on 10000 samples\n",
            "Epoch 1/1\n",
            "60000/60000 [==============================] - 16s 265us/step - loss: 0.4701 - acc: 0.8776 - val_loss: 0.3070 - val_acc: 0.9158\n",
            "\n",
            "Loss on validation set:0.30702034830451014 Accuracy on validation set: 0.9158\n",
            "Train on 60000 samples, validate on 10000 samples\n",
            "Epoch 1/1\n",
            "60000/60000 [==============================] - 16s 266us/step - loss: 0.4687 - acc: 0.8770 - val_loss: 0.3088 - val_acc: 0.9151\n",
            "\n",
            "Loss on validation set:0.3088168408870697 Accuracy on validation set: 0.9151\n",
            "\n",
            "Avg. validation accuracy:0.91471\n"
          ],
          "name": "stdout"
        }
      ]
    },
    {
      "metadata": {
        "id": "6Hs0_pgSFHfn",
        "colab_type": "code",
        "colab": {
          "base_uri": "https://localhost:8080/",
          "height": 1445
        },
        "outputId": "fb41fc07-4262-4d93-fecd-cb266835af59"
      },
      "cell_type": "code",
      "source": [
        "train2[0][1]"
      ],
      "execution_count": 109,
      "outputs": [
        {
          "output_type": "execute_result",
          "data": {
            "text/plain": [
              "array([[0.  , 0.  , 0.  , 0.  , 0.  , 0.  , 0.  , 0.  , 0.  , 0.  , 0.  ,\n",
              "        0.  , 0.  , 0.  , 0.  , 0.  , 0.  , 0.  , 0.  , 0.  , 0.  , 0.  ,\n",
              "        0.  , 0.  , 0.  , 0.  , 0.  , 0.  ],\n",
              "       [0.  , 0.  , 0.  , 0.  , 0.  , 0.  , 0.  , 0.  , 0.  , 0.  , 0.  ,\n",
              "        0.  , 0.  , 0.  , 0.  , 0.  , 0.  , 0.  , 0.  , 0.  , 0.  , 0.  ,\n",
              "        0.  , 0.  , 0.  , 0.  , 0.  , 0.  ],\n",
              "       [0.  , 0.  , 0.  , 0.  , 0.  , 0.  , 0.  , 0.  , 0.  , 0.  , 0.  ,\n",
              "        0.  , 0.  , 0.  , 0.  , 0.  , 0.  , 0.  , 0.  , 0.  , 0.  , 0.  ,\n",
              "        0.  , 0.  , 0.  , 0.  , 0.  , 0.  ],\n",
              "       [0.  , 0.  , 0.  , 0.  , 0.  , 0.  , 0.  , 0.  , 0.  , 0.  , 0.  ,\n",
              "        0.  , 0.  , 0.  , 0.  , 0.  , 0.  , 0.  , 0.  , 0.  , 0.  , 0.  ,\n",
              "        0.  , 0.  , 0.  , 0.  , 0.  , 0.  ],\n",
              "       [0.  , 0.  , 0.  , 0.  , 0.  , 0.  , 0.  , 0.  , 0.  , 0.  , 0.  ,\n",
              "        0.  , 0.  , 0.  , 0.  , 0.51, 1.59, 2.53, 1.59, 0.5 , 0.  , 0.  ,\n",
              "        0.  , 0.  , 0.  , 0.  , 0.  , 0.  ],\n",
              "       [0.  , 0.  , 0.  , 0.  , 0.  , 0.  , 0.  , 0.  , 0.  , 0.  , 0.  ,\n",
              "        0.  , 0.  , 0.  , 0.48, 2.38, 2.52, 2.52, 2.52, 2.37, 0.  , 0.  ,\n",
              "        0.  , 0.  , 0.  , 0.  , 0.  , 0.  ],\n",
              "       [0.  , 0.  , 0.  , 0.  , 0.  , 0.  , 0.  , 0.  , 0.  , 0.  , 0.  ,\n",
              "        0.  , 0.  , 0.54, 2.27, 2.53, 2.52, 2.39, 2.33, 2.52, 0.57, 0.06,\n",
              "        0.  , 0.  , 0.  , 0.  , 0.  , 0.  ],\n",
              "       [0.  , 0.  , 0.  , 0.  , 0.  , 0.  , 0.  , 0.  , 0.  , 0.  , 0.  ,\n",
              "        0.1 , 0.6 , 2.24, 2.52, 2.53, 2.52, 2.02, 0.84, 2.52, 2.53, 1.22,\n",
              "        0.  , 0.  , 0.  , 0.  , 0.  , 0.  ],\n",
              "       [0.  , 0.  , 0.  , 0.  , 0.  , 0.  , 0.  , 0.  , 0.  , 0.  , 0.  ,\n",
              "        1.63, 2.52, 2.52, 2.52, 2.53, 2.52, 2.52, 0.96, 1.89, 2.53, 1.67,\n",
              "        0.  , 0.  , 0.  , 0.  , 0.  , 0.  ],\n",
              "       [0.  , 0.  , 0.  , 0.  , 0.  , 0.  , 0.  , 0.  , 0.  , 0.  , 0.51,\n",
              "        2.38, 2.53, 2.53, 1.9 , 1.14, 2.53, 2.28, 0.47, 0.79, 2.55, 1.68,\n",
              "        0.  , 0.  , 0.  , 0.  , 0.  , 0.  ],\n",
              "       [0.  , 0.  , 0.  , 0.  , 0.  , 0.  , 0.  , 0.  , 0.  , 0.48, 2.38,\n",
              "        2.52, 2.52, 1.79, 0.12, 0.75, 1.21, 0.21, 0.  , 0.  , 2.53, 2.43,\n",
              "        0.5 , 0.  , 0.  , 0.  , 0.  , 0.  ],\n",
              "       [0.  , 0.  , 0.  , 0.  , 0.  , 0.  , 0.  , 0.  , 0.38, 1.65, 2.53,\n",
              "        2.33, 2.08, 0.84, 0.  , 0.  , 0.  , 0.  , 0.  , 0.  , 2.53, 2.52,\n",
              "        1.65, 0.  , 0.  , 0.  , 0.  , 0.  ],\n",
              "       [0.  , 0.  , 0.  , 0.  , 0.  , 0.  , 0.  , 0.07, 1.78, 2.52, 2.4 ,\n",
              "        0.71, 0.19, 0.28, 0.  , 0.  , 0.  , 0.  , 0.  , 0.  , 2.53, 2.52,\n",
              "        1.95, 0.  , 0.  , 0.  , 0.  , 0.  ],\n",
              "       [0.  , 0.  , 0.  , 0.  , 0.  , 0.  , 0.  , 0.57, 2.52, 2.52, 0.63,\n",
              "        0.  , 0.  , 0.  , 0.  , 0.  , 0.  , 0.  , 0.  , 0.  , 2.53, 2.52,\n",
              "        1.95, 0.  , 0.  , 0.  , 0.  , 0.  ],\n",
              "       [0.  , 0.  , 0.  , 0.  , 0.  , 0.  , 0.  , 1.98, 2.53, 1.9 , 0.  ,\n",
              "        0.  , 0.  , 0.  , 0.  , 0.  , 0.  , 0.  , 0.  , 0.  , 2.55, 2.53,\n",
              "        1.96, 0.  , 0.  , 0.  , 0.  , 0.  ],\n",
              "       [0.  , 0.  , 0.  , 0.  , 0.  , 0.  , 0.76, 2.46, 2.52, 1.12, 0.  ,\n",
              "        0.  , 0.  , 0.  , 0.  , 0.  , 0.  , 0.  , 0.  , 0.  , 2.53, 2.52,\n",
              "        1.48, 0.  , 0.  , 0.  , 0.  , 0.  ],\n",
              "       [0.  , 0.  , 0.  , 0.  , 0.  , 0.  , 0.85, 2.52, 2.3 , 0.25, 0.  ,\n",
              "        0.  , 0.  , 0.  , 0.  , 0.  , 0.  , 0.  , 0.07, 1.35, 2.53, 1.86,\n",
              "        0.12, 0.  , 0.  , 0.  , 0.  , 0.  ],\n",
              "       [0.  , 0.  , 0.  , 0.  , 0.  , 0.  , 0.85, 2.52, 2.23, 0.  , 0.  ,\n",
              "        0.  , 0.  , 0.  , 0.  , 0.  , 0.  , 0.07, 1.31, 2.52, 2.25, 0.71,\n",
              "        0.  , 0.  , 0.  , 0.  , 0.  , 0.  ],\n",
              "       [0.  , 0.  , 0.  , 0.  , 0.  , 0.  , 0.85, 2.52, 1.45, 0.  , 0.  ,\n",
              "        0.  , 0.  , 0.  , 0.  , 0.  , 0.48, 1.65, 2.52, 1.73, 0.  , 0.  ,\n",
              "        0.  , 0.  , 0.  , 0.  , 0.  , 0.  ],\n",
              "       [0.  , 0.  , 0.  , 0.  , 0.  , 0.  , 0.86, 2.53, 2.25, 0.  , 0.  ,\n",
              "        0.  , 0.  , 0.  , 0.  , 1.14, 2.38, 2.53, 1.62, 0.  , 0.  , 0.  ,\n",
              "        0.  , 0.  , 0.  , 0.  , 0.  , 0.  ],\n",
              "       [0.  , 0.  , 0.  , 0.  , 0.  , 0.  , 0.85, 2.52, 2.49, 1.46, 0.48,\n",
              "        0.29, 0.85, 1.78, 2.25, 2.53, 2.23, 1.67, 0.56, 0.  , 0.  , 0.  ,\n",
              "        0.  , 0.  , 0.  , 0.  , 0.  , 0.  ],\n",
              "       [0.  , 0.  , 0.  , 0.  , 0.  , 0.  , 0.85, 2.52, 2.52, 2.52, 2.29,\n",
              "        2.15, 2.52, 2.52, 2.52, 1.96, 1.3 , 0.  , 0.  , 0.  , 0.  , 0.  ,\n",
              "        0.  , 0.  , 0.  , 0.  , 0.  , 0.  ],\n",
              "       [0.  , 0.  , 0.  , 0.  , 0.  , 0.  , 0.28, 1.99, 2.52, 2.52, 2.53,\n",
              "        2.52, 2.52, 2.33, 1.45, 0.  , 0.  , 0.  , 0.  , 0.  , 0.  , 0.  ,\n",
              "        0.  , 0.  , 0.  , 0.  , 0.  , 0.  ],\n",
              "       [0.  , 0.  , 0.  , 0.  , 0.  , 0.  , 0.  , 0.25, 1.28, 2.52, 2.53,\n",
              "        2.52, 1.41, 0.37, 0.  , 0.  , 0.  , 0.  , 0.  , 0.  , 0.  , 0.  ,\n",
              "        0.  , 0.  , 0.  , 0.  , 0.  , 0.  ],\n",
              "       [0.  , 0.  , 0.  , 0.  , 0.  , 0.  , 0.  , 0.  , 0.  , 0.  , 0.  ,\n",
              "        0.  , 0.  , 0.  , 0.  , 0.  , 0.  , 0.  , 0.  , 0.  , 0.  , 0.  ,\n",
              "        0.  , 0.  , 0.  , 0.  , 0.  , 0.  ],\n",
              "       [0.  , 0.  , 0.  , 0.  , 0.  , 0.  , 0.  , 0.  , 0.  , 0.  , 0.  ,\n",
              "        0.  , 0.  , 0.  , 0.  , 0.  , 0.  , 0.  , 0.  , 0.  , 0.  , 0.  ,\n",
              "        0.  , 0.  , 0.  , 0.  , 0.  , 0.  ],\n",
              "       [0.  , 0.  , 0.  , 0.  , 0.  , 0.  , 0.  , 0.  , 0.  , 0.  , 0.  ,\n",
              "        0.  , 0.  , 0.  , 0.  , 0.  , 0.  , 0.  , 0.  , 0.  , 0.  , 0.  ,\n",
              "        0.  , 0.  , 0.  , 0.  , 0.  , 0.  ],\n",
              "       [0.  , 0.  , 0.  , 0.  , 0.  , 0.  , 0.  , 0.  , 0.  , 0.  , 0.  ,\n",
              "        0.  , 0.  , 0.  , 0.  , 0.  , 0.  , 0.  , 0.  , 0.  , 0.  , 0.  ,\n",
              "        0.  , 0.  , 0.  , 0.  , 0.  , 0.  ]])"
            ]
          },
          "metadata": {
            "tags": []
          },
          "execution_count": 109
        }
      ]
    },
    {
      "metadata": {
        "id": "S4aBsxAzDFBY",
        "colab_type": "text"
      },
      "cell_type": "markdown",
      "source": [
        "<b> 5E)</b> What is happening? <a href=\"https://lms.mitx.mit.edu/courses/course-v1:MITx+6.036+2019_Spring/courseware/Week8/week8_homework/\">Refer to Catsoop.</a>\n"
      ]
    },
    {
      "metadata": {
        "id": "KrYGfcOLEr0f",
        "colab_type": "text"
      },
      "cell_type": "markdown",
      "source": [
        "### Important: <b>Always scale the data like in 5D) for subsequent problems.</b>\n"
      ]
    },
    {
      "metadata": {
        "id": "mHoyqJdqDFH5",
        "colab_type": "text"
      },
      "cell_type": "markdown",
      "source": [
        "<b> 5F)</b> Using this same architecture, evaluate validation accuracy for number of training epochs in [5, 10, 15]."
      ]
    },
    {
      "metadata": {
        "id": "q8PlbWS_EwTv",
        "colab_type": "code",
        "colab": {
          "base_uri": "https://localhost:8080/",
          "height": 629
        },
        "outputId": "c9065cc2-85c3-4fd9-9c53-c560f22defda"
      },
      "cell_type": "code",
      "source": [
        "train, validation = get_MNIST_data()\n",
        "\n",
        "# Scale the images\n",
        "train2 =(train[0]/255.,train[1])  # Your code\n",
        "validation2 = (validation[0]/255,validation[1])  # Your code\n",
        "\n",
        "for epochs in [5,10,15]:\n",
        "    layers = [Dense(input_dim=784, units=10, activation=\"softmax\")]  # Your code\n",
        "    run_keras_fc_mnist(train2, validation2, layers, epochs, split=0.1, verbose=False, trials=5)"
      ],
      "execution_count": 114,
      "outputs": [
        {
          "output_type": "stream",
          "text": [
            "\n",
            "Loss on validation set:0.2697895421296358 Accuracy on validation set: 0.9252\n",
            "\n",
            "Loss on validation set:0.27193705541193486 Accuracy on validation set: 0.9257\n",
            "\n",
            "Loss on validation set:0.26653761529624465 Accuracy on validation set: 0.9264\n",
            "\n",
            "Loss on validation set:0.2669355450749397 Accuracy on validation set: 0.926\n",
            "\n",
            "Loss on validation set:0.2646467423021793 Accuracy on validation set: 0.9265\n",
            "\n",
            "Avg. validation accuracy:0.9259600000000001\n",
            "\n",
            "Loss on validation set:0.2661864712908864 Accuracy on validation set: 0.9272\n",
            "\n",
            "Loss on validation set:0.26212519440054893 Accuracy on validation set: 0.9276\n",
            "\n",
            "Loss on validation set:0.2663315407693386 Accuracy on validation set: 0.9258\n",
            "\n",
            "Loss on validation set:0.2689012592703104 Accuracy on validation set: 0.9267\n",
            "\n",
            "Loss on validation set:0.26332459056675434 Accuracy on validation set: 0.9291\n",
            "\n",
            "Avg. validation accuracy:0.92728\n",
            "\n",
            "Loss on validation set:0.2670408170968294 Accuracy on validation set: 0.9272\n",
            "\n",
            "Loss on validation set:0.2674353663176298 Accuracy on validation set: 0.9266\n",
            "\n",
            "Loss on validation set:0.26600145495980976 Accuracy on validation set: 0.9294\n",
            "\n",
            "Loss on validation set:0.2661422142326832 Accuracy on validation set: 0.9268\n",
            "\n",
            "Loss on validation set:0.26547270493209363 Accuracy on validation set: 0.9286\n",
            "\n",
            "Avg. validation accuracy:0.9277200000000001\n"
          ],
          "name": "stdout"
        }
      ]
    },
    {
      "metadata": {
        "id": "6zJk4u2-DFNi",
        "colab_type": "text"
      },
      "cell_type": "markdown",
      "source": [
        "<b> 5G)</b> \n",
        "\n",
        "<b> 5G a)</b>With the validation accuracy that you just saw on per digit basis using $15$ epochs, and assuming each digit is read independently from the others, what is the probability of reading a 5 digit zip code correctly?<br>\n",
        "\n",
        "<b> 5G b)</b>Now, assume that the accuracy is 0.9985, what is the probability of reading a zip code correctly?<br>\n",
        "b.\n",
        "\n",
        "This is why people care about dropping the error rates to what at first sound like ridiculous values.\n",
        "\n",
        "<a href=\"https://lms.mitx.mit.edu/courses/course-v1:MITx+6.036+2019_Spring/courseware/Week8/week8_homework/\">Refer to Catsoop.</a>"
      ]
    },
    {
      "metadata": {
        "id": "vCPTuz-tDFTg",
        "colab_type": "text"
      },
      "cell_type": "markdown",
      "source": [
        "<b> 5H)</b> Using one epoch of training, try a single hidden layer with ReLU and gradually increase the units (128, 256, 512, 1024) units.  What are the accuracies?"
      ]
    },
    {
      "metadata": {
        "id": "bmpbP_VHFoh1",
        "colab_type": "code",
        "colab": {
          "base_uri": "https://localhost:8080/",
          "height": 1680
        },
        "outputId": "6f3fdeb6-9c19-4445-ae6d-48dd531b50bd"
      },
      "cell_type": "code",
      "source": [
        "train, validation = get_MNIST_data()\n",
        "\n",
        "# Scale the images\n",
        "train2 =(train[0]/255.,train[1])  # Your code\n",
        "validation2 = (validation[0]/255,validation[1])  # Your code\n",
        "\n",
        "\n",
        "for num in [128,256,512,1024]:\n",
        "    layers = [Dense(input_dim=784, units=num, activation='relu'),\\\n",
        "             Dense(units=10, activation=\"softmax\")]  # Your code\n",
        "    run_keras_fc_mnist(train2, validation2, layers, 1, split=0.1, verbose=True, trials=5)"
      ],
      "execution_count": 115,
      "outputs": [
        {
          "output_type": "stream",
          "text": [
            "Train on 60000 samples, validate on 10000 samples\n",
            "Epoch 1/1\n"
          ],
          "name": "stdout"
        },
        {
          "output_type": "error",
          "ename": "KeyboardInterrupt",
          "evalue": "ignored",
          "traceback": [
            "\u001b[0;31m---------------------------------------------------------------------------\u001b[0m",
            "\u001b[0;31mKeyboardInterrupt\u001b[0m                         Traceback (most recent call last)",
            "\u001b[0;32m<ipython-input-115-b423c1d2bbaa>\u001b[0m in \u001b[0;36m<module>\u001b[0;34m()\u001b[0m\n\u001b[1;32m      8\u001b[0m \u001b[0;32mfor\u001b[0m \u001b[0mnum\u001b[0m \u001b[0;32min\u001b[0m \u001b[0;34m[\u001b[0m\u001b[0;36m128\u001b[0m\u001b[0;34m,\u001b[0m\u001b[0;36m256\u001b[0m\u001b[0;34m,\u001b[0m\u001b[0;36m512\u001b[0m\u001b[0;34m,\u001b[0m\u001b[0;36m1024\u001b[0m\u001b[0;34m]\u001b[0m\u001b[0;34m:\u001b[0m\u001b[0;34m\u001b[0m\u001b[0;34m\u001b[0m\u001b[0m\n\u001b[1;32m      9\u001b[0m     \u001b[0mlayers\u001b[0m \u001b[0;34m=\u001b[0m \u001b[0;34m[\u001b[0m\u001b[0mDense\u001b[0m\u001b[0;34m(\u001b[0m\u001b[0minput_dim\u001b[0m\u001b[0;34m=\u001b[0m\u001b[0;36m784\u001b[0m\u001b[0;34m,\u001b[0m \u001b[0munits\u001b[0m\u001b[0;34m=\u001b[0m\u001b[0mnum\u001b[0m\u001b[0;34m,\u001b[0m \u001b[0mactivation\u001b[0m\u001b[0;34m=\u001b[0m\u001b[0;34m'relu'\u001b[0m\u001b[0;34m)\u001b[0m\u001b[0;34m,\u001b[0m             \u001b[0mDense\u001b[0m\u001b[0;34m(\u001b[0m\u001b[0munits\u001b[0m\u001b[0;34m=\u001b[0m\u001b[0;36m10\u001b[0m\u001b[0;34m,\u001b[0m \u001b[0mactivation\u001b[0m\u001b[0;34m=\u001b[0m\u001b[0;34m\"softmax\"\u001b[0m\u001b[0;34m)\u001b[0m\u001b[0;34m]\u001b[0m  \u001b[0;31m# Your code\u001b[0m\u001b[0;34m\u001b[0m\u001b[0;34m\u001b[0m\u001b[0m\n\u001b[0;32m---> 10\u001b[0;31m     \u001b[0mrun_keras_fc_mnist\u001b[0m\u001b[0;34m(\u001b[0m\u001b[0mtrain2\u001b[0m\u001b[0;34m,\u001b[0m \u001b[0mvalidation2\u001b[0m\u001b[0;34m,\u001b[0m \u001b[0mlayers\u001b[0m\u001b[0;34m,\u001b[0m \u001b[0;36m1\u001b[0m\u001b[0;34m,\u001b[0m \u001b[0msplit\u001b[0m\u001b[0;34m=\u001b[0m\u001b[0;36m0.1\u001b[0m\u001b[0;34m,\u001b[0m \u001b[0mverbose\u001b[0m\u001b[0;34m=\u001b[0m\u001b[0;32mTrue\u001b[0m\u001b[0;34m,\u001b[0m \u001b[0mtrials\u001b[0m\u001b[0;34m=\u001b[0m\u001b[0;36m5\u001b[0m\u001b[0;34m)\u001b[0m\u001b[0;34m\u001b[0m\u001b[0;34m\u001b[0m\u001b[0m\n\u001b[0m",
            "\u001b[0;32m<ipython-input-54-3bee48562ca5>\u001b[0m in \u001b[0;36mrun_keras_fc_mnist\u001b[0;34m(train, test, layers, epochs, split, verbose, trials)\u001b[0m\n\u001b[1;32m     22\u001b[0m                     \u001b[0minitializer_func\u001b[0m\u001b[0;34m.\u001b[0m\u001b[0mrun\u001b[0m\u001b[0;34m(\u001b[0m\u001b[0msession\u001b[0m\u001b[0;34m=\u001b[0m\u001b[0msession\u001b[0m\u001b[0;34m)\u001b[0m\u001b[0;34m\u001b[0m\u001b[0;34m\u001b[0m\u001b[0m\n\u001b[1;32m     23\u001b[0m         \u001b[0;31m# Run the model\u001b[0m\u001b[0;34m\u001b[0m\u001b[0;34m\u001b[0m\u001b[0;34m\u001b[0m\u001b[0m\n\u001b[0;32m---> 24\u001b[0;31m         \u001b[0mmodel\u001b[0m\u001b[0;34m,\u001b[0m \u001b[0mhistory\u001b[0m\u001b[0;34m,\u001b[0m \u001b[0mvacc\u001b[0m\u001b[0;34m,\u001b[0m \u001b[0mtacc\u001b[0m \u001b[0;34m=\u001b[0m                 \u001b[0mrun_keras\u001b[0m\u001b[0;34m(\u001b[0m\u001b[0mX_train\u001b[0m\u001b[0;34m,\u001b[0m \u001b[0my_train\u001b[0m\u001b[0;34m,\u001b[0m \u001b[0mX_val\u001b[0m\u001b[0;34m,\u001b[0m \u001b[0my_val\u001b[0m\u001b[0;34m,\u001b[0m \u001b[0;32mNone\u001b[0m\u001b[0;34m,\u001b[0m \u001b[0;32mNone\u001b[0m\u001b[0;34m,\u001b[0m \u001b[0mlayers\u001b[0m\u001b[0;34m,\u001b[0m \u001b[0mepochs\u001b[0m\u001b[0;34m,\u001b[0m \u001b[0msplit\u001b[0m\u001b[0;34m=\u001b[0m\u001b[0msplit\u001b[0m\u001b[0;34m,\u001b[0m \u001b[0mverbose\u001b[0m\u001b[0;34m=\u001b[0m\u001b[0mverbose\u001b[0m\u001b[0;34m)\u001b[0m\u001b[0;34m\u001b[0m\u001b[0;34m\u001b[0m\u001b[0m\n\u001b[0m\u001b[1;32m     25\u001b[0m         \u001b[0mval_acc\u001b[0m \u001b[0;34m+=\u001b[0m \u001b[0mvacc\u001b[0m \u001b[0;32mif\u001b[0m \u001b[0mvacc\u001b[0m \u001b[0;32melse\u001b[0m \u001b[0;36m0\u001b[0m\u001b[0;34m\u001b[0m\u001b[0;34m\u001b[0m\u001b[0m\n\u001b[1;32m     26\u001b[0m         \u001b[0mtest_acc\u001b[0m \u001b[0;34m+=\u001b[0m \u001b[0mtacc\u001b[0m \u001b[0;32mif\u001b[0m \u001b[0mtacc\u001b[0m \u001b[0;32melse\u001b[0m \u001b[0;36m0\u001b[0m\u001b[0;34m\u001b[0m\u001b[0;34m\u001b[0m\u001b[0m\n",
            "\u001b[0;32m/content/code_for_hw8_keras.py\u001b[0m in \u001b[0;36mrun_keras\u001b[0;34m(X_train, y_train, X_val, y_val, X_test, y_test, layers, epochs, split, verbose)\u001b[0m\n\u001b[1;32m    101\u001b[0m     \u001b[0;32melse\u001b[0m\u001b[0;34m:\u001b[0m\u001b[0;34m\u001b[0m\u001b[0;34m\u001b[0m\u001b[0m\n\u001b[1;32m    102\u001b[0m         model.fit(X_train, y_train, epochs=epochs, batch_size=batch, validation_data=(X_val, y_val),\n\u001b[0;32m--> 103\u001b[0;31m                   callbacks=[history], verbose=verbose)\n\u001b[0m\u001b[1;32m    104\u001b[0m     \u001b[0;31m# Evaluate the model on validation data, if any\u001b[0m\u001b[0;34m\u001b[0m\u001b[0;34m\u001b[0m\u001b[0;34m\u001b[0m\u001b[0m\n\u001b[1;32m    105\u001b[0m     \u001b[0;32mif\u001b[0m \u001b[0mX_val\u001b[0m \u001b[0;32mis\u001b[0m \u001b[0;32mnot\u001b[0m \u001b[0;32mNone\u001b[0m \u001b[0;32mor\u001b[0m \u001b[0msplit\u001b[0m \u001b[0;34m>\u001b[0m \u001b[0;36m0\u001b[0m\u001b[0;34m:\u001b[0m\u001b[0;34m\u001b[0m\u001b[0;34m\u001b[0m\u001b[0m\n",
            "\u001b[0;32m/usr/local/lib/python3.6/dist-packages/keras/engine/training.py\u001b[0m in \u001b[0;36mfit\u001b[0;34m(self, x, y, batch_size, epochs, verbose, callbacks, validation_split, validation_data, shuffle, class_weight, sample_weight, initial_epoch, steps_per_epoch, validation_steps, **kwargs)\u001b[0m\n\u001b[1;32m   1037\u001b[0m                                         \u001b[0minitial_epoch\u001b[0m\u001b[0;34m=\u001b[0m\u001b[0minitial_epoch\u001b[0m\u001b[0;34m,\u001b[0m\u001b[0;34m\u001b[0m\u001b[0;34m\u001b[0m\u001b[0m\n\u001b[1;32m   1038\u001b[0m                                         \u001b[0msteps_per_epoch\u001b[0m\u001b[0;34m=\u001b[0m\u001b[0msteps_per_epoch\u001b[0m\u001b[0;34m,\u001b[0m\u001b[0;34m\u001b[0m\u001b[0;34m\u001b[0m\u001b[0m\n\u001b[0;32m-> 1039\u001b[0;31m                                         validation_steps=validation_steps)\n\u001b[0m\u001b[1;32m   1040\u001b[0m \u001b[0;34m\u001b[0m\u001b[0m\n\u001b[1;32m   1041\u001b[0m     def evaluate(self, x=None, y=None,\n",
            "\u001b[0;32m/usr/local/lib/python3.6/dist-packages/keras/engine/training_arrays.py\u001b[0m in \u001b[0;36mfit_loop\u001b[0;34m(model, f, ins, out_labels, batch_size, epochs, verbose, callbacks, val_f, val_ins, shuffle, callback_metrics, initial_epoch, steps_per_epoch, validation_steps)\u001b[0m\n\u001b[1;32m    197\u001b[0m                     \u001b[0mins_batch\u001b[0m\u001b[0;34m[\u001b[0m\u001b[0mi\u001b[0m\u001b[0;34m]\u001b[0m \u001b[0;34m=\u001b[0m \u001b[0mins_batch\u001b[0m\u001b[0;34m[\u001b[0m\u001b[0mi\u001b[0m\u001b[0;34m]\u001b[0m\u001b[0;34m.\u001b[0m\u001b[0mtoarray\u001b[0m\u001b[0;34m(\u001b[0m\u001b[0;34m)\u001b[0m\u001b[0;34m\u001b[0m\u001b[0;34m\u001b[0m\u001b[0m\n\u001b[1;32m    198\u001b[0m \u001b[0;34m\u001b[0m\u001b[0m\n\u001b[0;32m--> 199\u001b[0;31m                 \u001b[0mouts\u001b[0m \u001b[0;34m=\u001b[0m \u001b[0mf\u001b[0m\u001b[0;34m(\u001b[0m\u001b[0mins_batch\u001b[0m\u001b[0;34m)\u001b[0m\u001b[0;34m\u001b[0m\u001b[0;34m\u001b[0m\u001b[0m\n\u001b[0m\u001b[1;32m    200\u001b[0m                 \u001b[0mouts\u001b[0m \u001b[0;34m=\u001b[0m \u001b[0mto_list\u001b[0m\u001b[0;34m(\u001b[0m\u001b[0mouts\u001b[0m\u001b[0;34m)\u001b[0m\u001b[0;34m\u001b[0m\u001b[0;34m\u001b[0m\u001b[0m\n\u001b[1;32m    201\u001b[0m                 \u001b[0;32mfor\u001b[0m \u001b[0ml\u001b[0m\u001b[0;34m,\u001b[0m \u001b[0mo\u001b[0m \u001b[0;32min\u001b[0m \u001b[0mzip\u001b[0m\u001b[0;34m(\u001b[0m\u001b[0mout_labels\u001b[0m\u001b[0;34m,\u001b[0m \u001b[0mouts\u001b[0m\u001b[0;34m)\u001b[0m\u001b[0;34m:\u001b[0m\u001b[0;34m\u001b[0m\u001b[0;34m\u001b[0m\u001b[0m\n",
            "\u001b[0;32m/usr/local/lib/python3.6/dist-packages/keras/backend/tensorflow_backend.py\u001b[0m in \u001b[0;36m__call__\u001b[0;34m(self, inputs)\u001b[0m\n\u001b[1;32m   2695\u001b[0m \u001b[0;34m\u001b[0m\u001b[0m\n\u001b[1;32m   2696\u001b[0m     \u001b[0;32mdef\u001b[0m \u001b[0m__call__\u001b[0m\u001b[0;34m(\u001b[0m\u001b[0mself\u001b[0m\u001b[0;34m,\u001b[0m \u001b[0minputs\u001b[0m\u001b[0;34m)\u001b[0m\u001b[0;34m:\u001b[0m\u001b[0;34m\u001b[0m\u001b[0;34m\u001b[0m\u001b[0m\n\u001b[0;32m-> 2697\u001b[0;31m         \u001b[0;32mif\u001b[0m \u001b[0mhasattr\u001b[0m\u001b[0;34m(\u001b[0m\u001b[0mget_session\u001b[0m\u001b[0;34m(\u001b[0m\u001b[0;34m)\u001b[0m\u001b[0;34m,\u001b[0m \u001b[0;34m'_make_callable_from_options'\u001b[0m\u001b[0;34m)\u001b[0m\u001b[0;34m:\u001b[0m\u001b[0;34m\u001b[0m\u001b[0;34m\u001b[0m\u001b[0m\n\u001b[0m\u001b[1;32m   2698\u001b[0m             \u001b[0;32mif\u001b[0m \u001b[0mpy_any\u001b[0m\u001b[0;34m(\u001b[0m\u001b[0mis_sparse\u001b[0m\u001b[0;34m(\u001b[0m\u001b[0mx\u001b[0m\u001b[0;34m)\u001b[0m \u001b[0;32mfor\u001b[0m \u001b[0mx\u001b[0m \u001b[0;32min\u001b[0m \u001b[0mself\u001b[0m\u001b[0;34m.\u001b[0m\u001b[0minputs\u001b[0m\u001b[0;34m)\u001b[0m\u001b[0;34m:\u001b[0m\u001b[0;34m\u001b[0m\u001b[0;34m\u001b[0m\u001b[0m\n\u001b[1;32m   2699\u001b[0m                 \u001b[0;32mif\u001b[0m \u001b[0mpy_any\u001b[0m\u001b[0;34m(\u001b[0m\u001b[0mis_tensor\u001b[0m\u001b[0;34m(\u001b[0m\u001b[0mx\u001b[0m\u001b[0;34m)\u001b[0m \u001b[0;32mfor\u001b[0m \u001b[0mx\u001b[0m \u001b[0;32min\u001b[0m \u001b[0minputs\u001b[0m\u001b[0;34m)\u001b[0m\u001b[0;34m:\u001b[0m\u001b[0;34m\u001b[0m\u001b[0;34m\u001b[0m\u001b[0m\n",
            "\u001b[0;32m/usr/local/lib/python3.6/dist-packages/keras/backend/tensorflow_backend.py\u001b[0m in \u001b[0;36mget_session\u001b[0;34m()\u001b[0m\n\u001b[1;32m    197\u001b[0m                 \u001b[0;31m# not already marked as initialized.\u001b[0m\u001b[0;34m\u001b[0m\u001b[0;34m\u001b[0m\u001b[0;34m\u001b[0m\u001b[0m\n\u001b[1;32m    198\u001b[0m                 is_initialized = session.run(\n\u001b[0;32m--> 199\u001b[0;31m                     [tf.is_variable_initialized(v) for v in candidate_vars])\n\u001b[0m\u001b[1;32m    200\u001b[0m                 \u001b[0muninitialized_vars\u001b[0m \u001b[0;34m=\u001b[0m \u001b[0;34m[\u001b[0m\u001b[0;34m]\u001b[0m\u001b[0;34m\u001b[0m\u001b[0;34m\u001b[0m\u001b[0m\n\u001b[1;32m    201\u001b[0m                 \u001b[0;32mfor\u001b[0m \u001b[0mflag\u001b[0m\u001b[0;34m,\u001b[0m \u001b[0mv\u001b[0m \u001b[0;32min\u001b[0m \u001b[0mzip\u001b[0m\u001b[0;34m(\u001b[0m\u001b[0mis_initialized\u001b[0m\u001b[0;34m,\u001b[0m \u001b[0mcandidate_vars\u001b[0m\u001b[0;34m)\u001b[0m\u001b[0;34m:\u001b[0m\u001b[0;34m\u001b[0m\u001b[0;34m\u001b[0m\u001b[0m\n",
            "\u001b[0;32m/usr/local/lib/python3.6/dist-packages/tensorflow/python/client/session.py\u001b[0m in \u001b[0;36mrun\u001b[0;34m(self, fetches, feed_dict, options, run_metadata)\u001b[0m\n\u001b[1;32m    927\u001b[0m     \u001b[0;32mtry\u001b[0m\u001b[0;34m:\u001b[0m\u001b[0;34m\u001b[0m\u001b[0;34m\u001b[0m\u001b[0m\n\u001b[1;32m    928\u001b[0m       result = self._run(None, fetches, feed_dict, options_ptr,\n\u001b[0;32m--> 929\u001b[0;31m                          run_metadata_ptr)\n\u001b[0m\u001b[1;32m    930\u001b[0m       \u001b[0;32mif\u001b[0m \u001b[0mrun_metadata\u001b[0m\u001b[0;34m:\u001b[0m\u001b[0;34m\u001b[0m\u001b[0;34m\u001b[0m\u001b[0m\n\u001b[1;32m    931\u001b[0m         \u001b[0mproto_data\u001b[0m \u001b[0;34m=\u001b[0m \u001b[0mtf_session\u001b[0m\u001b[0;34m.\u001b[0m\u001b[0mTF_GetBuffer\u001b[0m\u001b[0;34m(\u001b[0m\u001b[0mrun_metadata_ptr\u001b[0m\u001b[0;34m)\u001b[0m\u001b[0;34m\u001b[0m\u001b[0;34m\u001b[0m\u001b[0m\n",
            "\u001b[0;32m/usr/local/lib/python3.6/dist-packages/tensorflow/python/client/session.py\u001b[0m in \u001b[0;36m_run\u001b[0;34m(self, handle, fetches, feed_dict, options, run_metadata)\u001b[0m\n\u001b[1;32m   1150\u001b[0m     \u001b[0;32mif\u001b[0m \u001b[0mfinal_fetches\u001b[0m \u001b[0;32mor\u001b[0m \u001b[0mfinal_targets\u001b[0m \u001b[0;32mor\u001b[0m \u001b[0;34m(\u001b[0m\u001b[0mhandle\u001b[0m \u001b[0;32mand\u001b[0m \u001b[0mfeed_dict_tensor\u001b[0m\u001b[0;34m)\u001b[0m\u001b[0;34m:\u001b[0m\u001b[0;34m\u001b[0m\u001b[0;34m\u001b[0m\u001b[0m\n\u001b[1;32m   1151\u001b[0m       results = self._do_run(handle, final_targets, final_fetches,\n\u001b[0;32m-> 1152\u001b[0;31m                              feed_dict_tensor, options, run_metadata)\n\u001b[0m\u001b[1;32m   1153\u001b[0m     \u001b[0;32melse\u001b[0m\u001b[0;34m:\u001b[0m\u001b[0;34m\u001b[0m\u001b[0;34m\u001b[0m\u001b[0m\n\u001b[1;32m   1154\u001b[0m       \u001b[0mresults\u001b[0m \u001b[0;34m=\u001b[0m \u001b[0;34m[\u001b[0m\u001b[0;34m]\u001b[0m\u001b[0;34m\u001b[0m\u001b[0;34m\u001b[0m\u001b[0m\n",
            "\u001b[0;32m/usr/local/lib/python3.6/dist-packages/tensorflow/python/client/session.py\u001b[0m in \u001b[0;36m_do_run\u001b[0;34m(self, handle, target_list, fetch_list, feed_dict, options, run_metadata)\u001b[0m\n\u001b[1;32m   1326\u001b[0m     \u001b[0;32mif\u001b[0m \u001b[0mhandle\u001b[0m \u001b[0;32mis\u001b[0m \u001b[0;32mNone\u001b[0m\u001b[0;34m:\u001b[0m\u001b[0;34m\u001b[0m\u001b[0;34m\u001b[0m\u001b[0m\n\u001b[1;32m   1327\u001b[0m       return self._do_call(_run_fn, feeds, fetches, targets, options,\n\u001b[0;32m-> 1328\u001b[0;31m                            run_metadata)\n\u001b[0m\u001b[1;32m   1329\u001b[0m     \u001b[0;32melse\u001b[0m\u001b[0;34m:\u001b[0m\u001b[0;34m\u001b[0m\u001b[0;34m\u001b[0m\u001b[0m\n\u001b[1;32m   1330\u001b[0m       \u001b[0;32mreturn\u001b[0m \u001b[0mself\u001b[0m\u001b[0;34m.\u001b[0m\u001b[0m_do_call\u001b[0m\u001b[0;34m(\u001b[0m\u001b[0m_prun_fn\u001b[0m\u001b[0;34m,\u001b[0m \u001b[0mhandle\u001b[0m\u001b[0;34m,\u001b[0m \u001b[0mfeeds\u001b[0m\u001b[0;34m,\u001b[0m \u001b[0mfetches\u001b[0m\u001b[0;34m)\u001b[0m\u001b[0;34m\u001b[0m\u001b[0;34m\u001b[0m\u001b[0m\n",
            "\u001b[0;32m/usr/local/lib/python3.6/dist-packages/tensorflow/python/client/session.py\u001b[0m in \u001b[0;36m_do_call\u001b[0;34m(self, fn, *args)\u001b[0m\n\u001b[1;32m   1332\u001b[0m   \u001b[0;32mdef\u001b[0m \u001b[0m_do_call\u001b[0m\u001b[0;34m(\u001b[0m\u001b[0mself\u001b[0m\u001b[0;34m,\u001b[0m \u001b[0mfn\u001b[0m\u001b[0;34m,\u001b[0m \u001b[0;34m*\u001b[0m\u001b[0margs\u001b[0m\u001b[0;34m)\u001b[0m\u001b[0;34m:\u001b[0m\u001b[0;34m\u001b[0m\u001b[0;34m\u001b[0m\u001b[0m\n\u001b[1;32m   1333\u001b[0m     \u001b[0;32mtry\u001b[0m\u001b[0;34m:\u001b[0m\u001b[0;34m\u001b[0m\u001b[0;34m\u001b[0m\u001b[0m\n\u001b[0;32m-> 1334\u001b[0;31m       \u001b[0;32mreturn\u001b[0m \u001b[0mfn\u001b[0m\u001b[0;34m(\u001b[0m\u001b[0;34m*\u001b[0m\u001b[0margs\u001b[0m\u001b[0;34m)\u001b[0m\u001b[0;34m\u001b[0m\u001b[0;34m\u001b[0m\u001b[0m\n\u001b[0m\u001b[1;32m   1335\u001b[0m     \u001b[0;32mexcept\u001b[0m \u001b[0merrors\u001b[0m\u001b[0;34m.\u001b[0m\u001b[0mOpError\u001b[0m \u001b[0;32mas\u001b[0m \u001b[0me\u001b[0m\u001b[0;34m:\u001b[0m\u001b[0;34m\u001b[0m\u001b[0;34m\u001b[0m\u001b[0m\n\u001b[1;32m   1336\u001b[0m       \u001b[0mmessage\u001b[0m \u001b[0;34m=\u001b[0m \u001b[0mcompat\u001b[0m\u001b[0;34m.\u001b[0m\u001b[0mas_text\u001b[0m\u001b[0;34m(\u001b[0m\u001b[0me\u001b[0m\u001b[0;34m.\u001b[0m\u001b[0mmessage\u001b[0m\u001b[0;34m)\u001b[0m\u001b[0;34m\u001b[0m\u001b[0;34m\u001b[0m\u001b[0m\n",
            "\u001b[0;32m/usr/local/lib/python3.6/dist-packages/tensorflow/python/client/session.py\u001b[0m in \u001b[0;36m_run_fn\u001b[0;34m(feed_dict, fetch_list, target_list, options, run_metadata)\u001b[0m\n\u001b[1;32m   1315\u001b[0m     \u001b[0;32mdef\u001b[0m \u001b[0m_run_fn\u001b[0m\u001b[0;34m(\u001b[0m\u001b[0mfeed_dict\u001b[0m\u001b[0;34m,\u001b[0m \u001b[0mfetch_list\u001b[0m\u001b[0;34m,\u001b[0m \u001b[0mtarget_list\u001b[0m\u001b[0;34m,\u001b[0m \u001b[0moptions\u001b[0m\u001b[0;34m,\u001b[0m \u001b[0mrun_metadata\u001b[0m\u001b[0;34m)\u001b[0m\u001b[0;34m:\u001b[0m\u001b[0;34m\u001b[0m\u001b[0;34m\u001b[0m\u001b[0m\n\u001b[1;32m   1316\u001b[0m       \u001b[0;31m# Ensure any changes to the graph are reflected in the runtime.\u001b[0m\u001b[0;34m\u001b[0m\u001b[0;34m\u001b[0m\u001b[0;34m\u001b[0m\u001b[0m\n\u001b[0;32m-> 1317\u001b[0;31m       \u001b[0mself\u001b[0m\u001b[0;34m.\u001b[0m\u001b[0m_extend_graph\u001b[0m\u001b[0;34m(\u001b[0m\u001b[0;34m)\u001b[0m\u001b[0;34m\u001b[0m\u001b[0;34m\u001b[0m\u001b[0m\n\u001b[0m\u001b[1;32m   1318\u001b[0m       return self._call_tf_sessionrun(\n\u001b[1;32m   1319\u001b[0m           options, feed_dict, fetch_list, target_list, run_metadata)\n",
            "\u001b[0;32m/usr/local/lib/python3.6/dist-packages/tensorflow/python/client/session.py\u001b[0m in \u001b[0;36m_extend_graph\u001b[0;34m(self)\u001b[0m\n\u001b[1;32m   1350\u001b[0m   \u001b[0;32mdef\u001b[0m \u001b[0m_extend_graph\u001b[0m\u001b[0;34m(\u001b[0m\u001b[0mself\u001b[0m\u001b[0;34m)\u001b[0m\u001b[0;34m:\u001b[0m\u001b[0;34m\u001b[0m\u001b[0;34m\u001b[0m\u001b[0m\n\u001b[1;32m   1351\u001b[0m     \u001b[0;32mwith\u001b[0m \u001b[0mself\u001b[0m\u001b[0;34m.\u001b[0m\u001b[0m_graph\u001b[0m\u001b[0;34m.\u001b[0m\u001b[0m_session_run_lock\u001b[0m\u001b[0;34m(\u001b[0m\u001b[0;34m)\u001b[0m\u001b[0;34m:\u001b[0m  \u001b[0;31m# pylint: disable=protected-access\u001b[0m\u001b[0;34m\u001b[0m\u001b[0;34m\u001b[0m\u001b[0m\n\u001b[0;32m-> 1352\u001b[0;31m       \u001b[0mtf_session\u001b[0m\u001b[0;34m.\u001b[0m\u001b[0mExtendSession\u001b[0m\u001b[0;34m(\u001b[0m\u001b[0mself\u001b[0m\u001b[0;34m.\u001b[0m\u001b[0m_session\u001b[0m\u001b[0;34m)\u001b[0m\u001b[0;34m\u001b[0m\u001b[0;34m\u001b[0m\u001b[0m\n\u001b[0m\u001b[1;32m   1353\u001b[0m \u001b[0;34m\u001b[0m\u001b[0m\n\u001b[1;32m   1354\u001b[0m   \u001b[0;31m# The threshold to run garbage collection to delete dead tensors.\u001b[0m\u001b[0;34m\u001b[0m\u001b[0;34m\u001b[0m\u001b[0;34m\u001b[0m\u001b[0m\n",
            "\u001b[0;31mKeyboardInterrupt\u001b[0m: "
          ]
        }
      ]
    },
    {
      "metadata": {
        "id": "gEM5mZi5DFYS",
        "colab_type": "text"
      },
      "cell_type": "markdown",
      "source": [
        "<b> 5I)</b> Now, try a network with two layers, again using one epoch, with 512 units in the first hidden layer and and 256 units in the second hidden layer.  What is the accuracy?"
      ]
    },
    {
      "metadata": {
        "id": "6cwp1VR7F06q",
        "colab_type": "code",
        "colab": {
          "base_uri": "https://localhost:8080/",
          "height": 221
        },
        "outputId": "d910b7c6-32e1-486a-eea7-be4d139fc186"
      },
      "cell_type": "code",
      "source": [
        "train, validation = get_MNIST_data()\n",
        "\n",
        "# Scale the images\n",
        "train2 =(train[0]/255.,train[1])  # Your code\n",
        "validation2 = (validation[0]/255,validation[1])  # Your code\n",
        "\n",
        "layers = [Dense(input_dim=784, units=512, activation='relu'),\\\n",
        "             Dense(units=256, activation='relu'),\\\n",
        "             Dense(units=10, activation=\"softmax\")]  # Your code\n",
        "run_keras_fc_mnist(train2, validation2, layers, 1, split=0.1, verbose=False, trials=5)"
      ],
      "execution_count": 116,
      "outputs": [
        {
          "output_type": "stream",
          "text": [
            "\n",
            "Loss on validation set:0.10872747318260371 Accuracy on validation set: 0.9663\n",
            "\n",
            "Loss on validation set:0.09849569575996138 Accuracy on validation set: 0.9697\n",
            "\n",
            "Loss on validation set:0.08107373610874638 Accuracy on validation set: 0.9738\n",
            "\n",
            "Loss on validation set:0.09131545753749087 Accuracy on validation set: 0.9719\n",
            "\n",
            "Loss on validation set:0.1170585597563535 Accuracy on validation set: 0.9626\n",
            "\n",
            "Avg. validation accuracy:0.9688599999999999\n"
          ],
          "name": "stdout"
        }
      ]
    },
    {
      "metadata": {
        "id": "TmnNUT2nDFdi",
        "colab_type": "text"
      },
      "cell_type": "markdown",
      "source": [
        "<b> 5J)</b> Build a convolutional network with the following structure:\n",
        "\n",
        "<ul>\n",
        "<li> A convolutional layer with 32 filters of size 3 × 3, with a ReLU activation\n",
        "<li> A max pooling layer with size 2 × 2\n",
        "<li> A convolutional layer with 64 filters of size 3 × 3, with ReLU activation\n",
        "<li> A max pooling layer with size 2 × 2\n",
        "<li> A flatten layer\n",
        "<li> A fully connected layer with 128 neurons, with ReLU activation\n",
        "<li> A dropout layer with drop probability 0.5\n",
        "<li> A fully-connected layer with 10 neurons with softmax\n",
        "</ul>\n",
        "Train it on MNIST for one epoch, using <code>run_keras_cnn_mnist</code>.  What is the accuracy on the validation set?\n",
        "\n",
        "If you have time to run the training for more epochs, try it, you should see improvement.\n"
      ]
    },
    {
      "metadata": {
        "id": "3-sPW8xKF7EZ",
        "colab_type": "code",
        "colab": {
          "base_uri": "https://localhost:8080/",
          "height": 221
        },
        "outputId": "7ab10f58-b323-429b-d251-aa67ec1c5e40"
      },
      "cell_type": "code",
      "source": [
        "train, validation = get_MNIST_data()\n",
        "\n",
        "# Scale the images\n",
        "train2 =(train[0]/255.,train[1])  # Your code\n",
        "validation2 = (validation[0]/255,validation[1])  # Your code\n",
        "\n",
        "layers = [Conv2D(filters=32, kernel_size=(3,3),strides=1, padding='valid', activation='relu'),\\\n",
        "          MaxPooling2D(pool_size=(2, 2), padding='valid'),\\\n",
        "          Conv2D(filters=64, kernel_size=(3,3),strides=1, padding='valid', activation='relu'),\\\n",
        "          MaxPooling2D(pool_size=(2, 2),padding='valid'),\\\n",
        "          Flatten(),\\\n",
        "          Dense(input_dim=784, units=128, activation='relu'),\\\n",
        "          Dropout(rate=0.5),\\\n",
        "          Dense(units=10, activation=\"softmax\")]  # Your code  # Your code\n",
        "\n",
        "run_keras_cnn_mnist(train2, validation2, layers, 1, split=0.1, verbose=False, trials=5)"
      ],
      "execution_count": 121,
      "outputs": [
        {
          "output_type": "stream",
          "text": [
            "\n",
            "Loss on validation set:0.04111385222440003 Accuracy on validation set: 0.9867\n",
            "\n",
            "Loss on validation set:0.05111614862738643 Accuracy on validation set: 0.9831\n",
            "\n",
            "Loss on validation set:0.05460453747764695 Accuracy on validation set: 0.9823\n",
            "\n",
            "Loss on validation set:0.04390376804274274 Accuracy on validation set: 0.986\n",
            "\n",
            "Loss on validation set:0.048305233104340733 Accuracy on validation set: 0.9838\n",
            "\n",
            "Avg. validation accuracy:0.9843799999999998\n"
          ],
          "name": "stdout"
        }
      ]
    },
    {
      "metadata": {
        "id": "KjmqgGvIDFiS",
        "colab_type": "text"
      },
      "cell_type": "markdown",
      "source": [
        "<b> 5K)</b> Now, let's compare the performance of a fully connected model and a CNN on data where the characters have been shifted randomly so that they are no longer centered.  \n",
        "\n",
        "You can build such a data set by calling: <code>train_20, validation_20 = get_MNIST_data(shift=20)</code>. Remember to scale it appropriately.\n",
        "\n",
        "<b>Note that each image is now 48x48, so you will need to change your layer definitions</b>.\n",
        "Run your two-hidden-layer FC architecture from above (problem 5I) on this data and then run the CNN architecture from above (problem 5J), both for one epoch. Report your results.\n"
      ]
    },
    {
      "metadata": {
        "id": "uvfiyrN9Gf7X",
        "colab_type": "code",
        "colab": {
          "base_uri": "https://localhost:8080/",
          "height": 1646
        },
        "outputId": "9decbd1f-8930-4a80-dd3e-7d60cf0e0112"
      },
      "cell_type": "code",
      "source": [
        "train_20, validation_20 = get_MNIST_data(shift=20) # Your code (fill in the shift)\n",
        "\n",
        "# Scale the images\n",
        "train_20 = (train_20[0]/255., train_20[1])  # Your code\n",
        "validation_20 = (validation_20[0]/255., validation_20[1])  # Your code\n",
        "\n",
        "layers_fc = [Dense(input_dim=2304, units=512, activation='relu'),\\\n",
        "             Dense(units=256, activation='relu'),\\\n",
        "             Dense(units=10, activation=\"softmax\")]  # Your code\n",
        "\n",
        "run_keras_fc_mnist(train_20, validation_20, layers_fc, 1, split=0.1, verbose=True, trials=5)\n",
        "\n",
        "layers_cnn = [Conv2D(filters=32, kernel_size=(3,3),activation='relu'),\\\n",
        "          MaxPooling2D(pool_size=(2, 2)),\\\n",
        "          Conv2D(filters=64, kernel_size=(3,3),activation='relu'),\\\n",
        "          MaxPooling2D(pool_size=(2, 2)),\\\n",
        "          Flatten(),\\\n",
        "          Dense(units=2304, activation='relu'),\\\n",
        "          Dropout(rate=0.5),\\\n",
        "          Dense(units=10, activation=\"softmax\")]# Your code\n",
        "\n",
        "run_keras_cnn_mnist(train_20, validation_20, layers_cnn, 1, split=0.1, verbose=True, trials=5)"
      ],
      "execution_count": 118,
      "outputs": [
        {
          "output_type": "stream",
          "text": [
            "Train on 60000 samples, validate on 10000 samples\n",
            "Epoch 1/1\n",
            "60000/60000 [==============================] - 29s 484us/step - loss: 0.7522 - acc: 0.7526 - val_loss: 0.4040 - val_acc: 0.8725\n",
            "\n",
            "Loss on validation set:0.40399787731170655 Accuracy on validation set: 0.8725\n",
            "Train on 60000 samples, validate on 10000 samples\n",
            "Epoch 1/1\n",
            "60000/60000 [==============================] - 29s 491us/step - loss: 0.7478 - acc: 0.7544 - val_loss: 0.4139 - val_acc: 0.8685\n",
            "\n",
            "Loss on validation set:0.4138757236480713 Accuracy on validation set: 0.8685\n",
            "Train on 60000 samples, validate on 10000 samples\n",
            "Epoch 1/1\n",
            "60000/60000 [==============================] - 30s 499us/step - loss: 0.7486 - acc: 0.7541 - val_loss: 0.3900 - val_acc: 0.8759\n",
            "\n",
            "Loss on validation set:0.39002202274799347 Accuracy on validation set: 0.8759\n",
            "Train on 60000 samples, validate on 10000 samples\n",
            "Epoch 1/1\n",
            "60000/60000 [==============================] - 30s 502us/step - loss: 0.7524 - acc: 0.7517 - val_loss: 0.3958 - val_acc: 0.8763\n",
            "\n",
            "Loss on validation set:0.39575207282304764 Accuracy on validation set: 0.8763\n",
            "Train on 60000 samples, validate on 10000 samples\n",
            "Epoch 1/1\n",
            "60000/60000 [==============================] - 30s 499us/step - loss: 0.7439 - acc: 0.7539 - val_loss: 0.4188 - val_acc: 0.8677\n",
            "\n",
            "Loss on validation set:0.4188155241727829 Accuracy on validation set: 0.8677\n",
            "\n",
            "Avg. validation accuracy:0.87218\n",
            "Train on 60000 samples, validate on 10000 samples\n",
            "Epoch 1/1\n",
            "60000/60000 [==============================] - 73s 1ms/step - loss: 0.3577 - acc: 0.8825 - val_loss: 0.1127 - val_acc: 0.9647\n",
            "\n",
            "Loss on validation set:0.11271913922652602 Accuracy on validation set: 0.9647\n",
            "Train on 60000 samples, validate on 10000 samples\n",
            "Epoch 1/1\n",
            "47264/60000 [======================>.......] - ETA: 15s - loss: 0.4271 - acc: 0.8585"
          ],
          "name": "stdout"
        },
        {
          "output_type": "error",
          "ename": "KeyboardInterrupt",
          "evalue": "ignored",
          "traceback": [
            "\u001b[0;31m---------------------------------------------------------------------------\u001b[0m",
            "\u001b[0;31mKeyboardInterrupt\u001b[0m                         Traceback (most recent call last)",
            "\u001b[0;32m<ipython-input-118-f5c261a3cb9f>\u001b[0m in \u001b[0;36m<module>\u001b[0;34m()\u001b[0m\n\u001b[1;32m     11\u001b[0m \u001b[0mlayers_cnn\u001b[0m \u001b[0;34m=\u001b[0m \u001b[0;34m[\u001b[0m\u001b[0mConv2D\u001b[0m\u001b[0;34m(\u001b[0m\u001b[0mfilters\u001b[0m\u001b[0;34m=\u001b[0m\u001b[0;36m32\u001b[0m\u001b[0;34m,\u001b[0m \u001b[0mkernel_size\u001b[0m\u001b[0;34m=\u001b[0m\u001b[0;34m(\u001b[0m\u001b[0;36m3\u001b[0m\u001b[0;34m,\u001b[0m\u001b[0;36m3\u001b[0m\u001b[0;34m)\u001b[0m\u001b[0;34m,\u001b[0m\u001b[0mactivation\u001b[0m\u001b[0;34m=\u001b[0m\u001b[0;34m'relu'\u001b[0m\u001b[0;34m)\u001b[0m\u001b[0;34m,\u001b[0m          \u001b[0mMaxPooling2D\u001b[0m\u001b[0;34m(\u001b[0m\u001b[0mpool_size\u001b[0m\u001b[0;34m=\u001b[0m\u001b[0;34m(\u001b[0m\u001b[0;36m2\u001b[0m\u001b[0;34m,\u001b[0m \u001b[0;36m2\u001b[0m\u001b[0;34m)\u001b[0m\u001b[0;34m)\u001b[0m\u001b[0;34m,\u001b[0m          \u001b[0mConv2D\u001b[0m\u001b[0;34m(\u001b[0m\u001b[0mfilters\u001b[0m\u001b[0;34m=\u001b[0m\u001b[0;36m64\u001b[0m\u001b[0;34m,\u001b[0m \u001b[0mkernel_size\u001b[0m\u001b[0;34m=\u001b[0m\u001b[0;34m(\u001b[0m\u001b[0;36m3\u001b[0m\u001b[0;34m,\u001b[0m\u001b[0;36m3\u001b[0m\u001b[0;34m)\u001b[0m\u001b[0;34m,\u001b[0m\u001b[0mactivation\u001b[0m\u001b[0;34m=\u001b[0m\u001b[0;34m'relu'\u001b[0m\u001b[0;34m)\u001b[0m\u001b[0;34m,\u001b[0m          \u001b[0mMaxPooling2D\u001b[0m\u001b[0;34m(\u001b[0m\u001b[0mpool_size\u001b[0m\u001b[0;34m=\u001b[0m\u001b[0;34m(\u001b[0m\u001b[0;36m2\u001b[0m\u001b[0;34m,\u001b[0m \u001b[0;36m2\u001b[0m\u001b[0;34m)\u001b[0m\u001b[0;34m)\u001b[0m\u001b[0;34m,\u001b[0m          \u001b[0mFlatten\u001b[0m\u001b[0;34m(\u001b[0m\u001b[0;34m)\u001b[0m\u001b[0;34m,\u001b[0m          \u001b[0mDense\u001b[0m\u001b[0;34m(\u001b[0m\u001b[0munits\u001b[0m\u001b[0;34m=\u001b[0m\u001b[0;36m2304\u001b[0m\u001b[0;34m,\u001b[0m \u001b[0mactivation\u001b[0m\u001b[0;34m=\u001b[0m\u001b[0;34m'relu'\u001b[0m\u001b[0;34m)\u001b[0m\u001b[0;34m,\u001b[0m          \u001b[0mDropout\u001b[0m\u001b[0;34m(\u001b[0m\u001b[0mrate\u001b[0m\u001b[0;34m=\u001b[0m\u001b[0;36m0.5\u001b[0m\u001b[0;34m)\u001b[0m\u001b[0;34m,\u001b[0m          \u001b[0mDense\u001b[0m\u001b[0;34m(\u001b[0m\u001b[0munits\u001b[0m\u001b[0;34m=\u001b[0m\u001b[0;36m10\u001b[0m\u001b[0;34m,\u001b[0m \u001b[0mactivation\u001b[0m\u001b[0;34m=\u001b[0m\u001b[0;34m\"softmax\"\u001b[0m\u001b[0;34m)\u001b[0m\u001b[0;34m]\u001b[0m\u001b[0;31m# Your code\u001b[0m\u001b[0;34m\u001b[0m\u001b[0;34m\u001b[0m\u001b[0m\n\u001b[1;32m     12\u001b[0m \u001b[0;34m\u001b[0m\u001b[0m\n\u001b[0;32m---> 13\u001b[0;31m \u001b[0mrun_keras_cnn_mnist\u001b[0m\u001b[0;34m(\u001b[0m\u001b[0mtrain_20\u001b[0m\u001b[0;34m,\u001b[0m \u001b[0mvalidation_20\u001b[0m\u001b[0;34m,\u001b[0m \u001b[0mlayers_cnn\u001b[0m\u001b[0;34m,\u001b[0m \u001b[0;36m1\u001b[0m\u001b[0;34m,\u001b[0m \u001b[0msplit\u001b[0m\u001b[0;34m=\u001b[0m\u001b[0;36m0.1\u001b[0m\u001b[0;34m,\u001b[0m \u001b[0mverbose\u001b[0m\u001b[0;34m=\u001b[0m\u001b[0;32mTrue\u001b[0m\u001b[0;34m,\u001b[0m \u001b[0mtrials\u001b[0m\u001b[0;34m=\u001b[0m\u001b[0;36m5\u001b[0m\u001b[0;34m)\u001b[0m\u001b[0;34m\u001b[0m\u001b[0;34m\u001b[0m\u001b[0m\n\u001b[0m",
            "\u001b[0;32m<ipython-input-54-3bee48562ca5>\u001b[0m in \u001b[0;36mrun_keras_cnn_mnist\u001b[0;34m(train, test, layers, epochs, split, verbose, trials)\u001b[0m\n\u001b[1;32m     54\u001b[0m                     \u001b[0minitializer_func\u001b[0m\u001b[0;34m.\u001b[0m\u001b[0mrun\u001b[0m\u001b[0;34m(\u001b[0m\u001b[0msession\u001b[0m\u001b[0;34m=\u001b[0m\u001b[0msession\u001b[0m\u001b[0;34m)\u001b[0m\u001b[0;34m\u001b[0m\u001b[0;34m\u001b[0m\u001b[0m\n\u001b[1;32m     55\u001b[0m         \u001b[0;31m# Run the model\u001b[0m\u001b[0;34m\u001b[0m\u001b[0;34m\u001b[0m\u001b[0;34m\u001b[0m\u001b[0m\n\u001b[0;32m---> 56\u001b[0;31m         \u001b[0mmodel\u001b[0m\u001b[0;34m,\u001b[0m \u001b[0mhistory\u001b[0m\u001b[0;34m,\u001b[0m \u001b[0mvacc\u001b[0m\u001b[0;34m,\u001b[0m \u001b[0mtacc\u001b[0m \u001b[0;34m=\u001b[0m                 \u001b[0mrun_keras\u001b[0m\u001b[0;34m(\u001b[0m\u001b[0mX_train\u001b[0m\u001b[0;34m,\u001b[0m \u001b[0my_train\u001b[0m\u001b[0;34m,\u001b[0m \u001b[0mX_val\u001b[0m\u001b[0;34m,\u001b[0m \u001b[0my_val\u001b[0m\u001b[0;34m,\u001b[0m \u001b[0;32mNone\u001b[0m\u001b[0;34m,\u001b[0m \u001b[0;32mNone\u001b[0m\u001b[0;34m,\u001b[0m \u001b[0mlayers\u001b[0m\u001b[0;34m,\u001b[0m \u001b[0mepochs\u001b[0m\u001b[0;34m,\u001b[0m \u001b[0msplit\u001b[0m\u001b[0;34m=\u001b[0m\u001b[0msplit\u001b[0m\u001b[0;34m,\u001b[0m \u001b[0mverbose\u001b[0m\u001b[0;34m=\u001b[0m\u001b[0mverbose\u001b[0m\u001b[0;34m)\u001b[0m\u001b[0;34m\u001b[0m\u001b[0;34m\u001b[0m\u001b[0m\n\u001b[0m\u001b[1;32m     57\u001b[0m         \u001b[0mval_acc\u001b[0m \u001b[0;34m+=\u001b[0m \u001b[0mvacc\u001b[0m \u001b[0;32mif\u001b[0m \u001b[0mvacc\u001b[0m \u001b[0;32melse\u001b[0m \u001b[0;36m0\u001b[0m\u001b[0;34m\u001b[0m\u001b[0;34m\u001b[0m\u001b[0m\n\u001b[1;32m     58\u001b[0m         \u001b[0mtest_acc\u001b[0m \u001b[0;34m+=\u001b[0m \u001b[0mtacc\u001b[0m \u001b[0;32mif\u001b[0m \u001b[0mtacc\u001b[0m \u001b[0;32melse\u001b[0m \u001b[0;36m0\u001b[0m\u001b[0;34m\u001b[0m\u001b[0;34m\u001b[0m\u001b[0m\n",
            "\u001b[0;32m/content/code_for_hw8_keras.py\u001b[0m in \u001b[0;36mrun_keras\u001b[0;34m(X_train, y_train, X_val, y_val, X_test, y_test, layers, epochs, split, verbose)\u001b[0m\n\u001b[1;32m    101\u001b[0m     \u001b[0;32melse\u001b[0m\u001b[0;34m:\u001b[0m\u001b[0;34m\u001b[0m\u001b[0;34m\u001b[0m\u001b[0m\n\u001b[1;32m    102\u001b[0m         model.fit(X_train, y_train, epochs=epochs, batch_size=batch, validation_data=(X_val, y_val),\n\u001b[0;32m--> 103\u001b[0;31m                   callbacks=[history], verbose=verbose)\n\u001b[0m\u001b[1;32m    104\u001b[0m     \u001b[0;31m# Evaluate the model on validation data, if any\u001b[0m\u001b[0;34m\u001b[0m\u001b[0;34m\u001b[0m\u001b[0;34m\u001b[0m\u001b[0m\n\u001b[1;32m    105\u001b[0m     \u001b[0;32mif\u001b[0m \u001b[0mX_val\u001b[0m \u001b[0;32mis\u001b[0m \u001b[0;32mnot\u001b[0m \u001b[0;32mNone\u001b[0m \u001b[0;32mor\u001b[0m \u001b[0msplit\u001b[0m \u001b[0;34m>\u001b[0m \u001b[0;36m0\u001b[0m\u001b[0;34m:\u001b[0m\u001b[0;34m\u001b[0m\u001b[0;34m\u001b[0m\u001b[0m\n",
            "\u001b[0;32m/usr/local/lib/python3.6/dist-packages/keras/engine/training.py\u001b[0m in \u001b[0;36mfit\u001b[0;34m(self, x, y, batch_size, epochs, verbose, callbacks, validation_split, validation_data, shuffle, class_weight, sample_weight, initial_epoch, steps_per_epoch, validation_steps, **kwargs)\u001b[0m\n\u001b[1;32m   1037\u001b[0m                                         \u001b[0minitial_epoch\u001b[0m\u001b[0;34m=\u001b[0m\u001b[0minitial_epoch\u001b[0m\u001b[0;34m,\u001b[0m\u001b[0;34m\u001b[0m\u001b[0;34m\u001b[0m\u001b[0m\n\u001b[1;32m   1038\u001b[0m                                         \u001b[0msteps_per_epoch\u001b[0m\u001b[0;34m=\u001b[0m\u001b[0msteps_per_epoch\u001b[0m\u001b[0;34m,\u001b[0m\u001b[0;34m\u001b[0m\u001b[0;34m\u001b[0m\u001b[0m\n\u001b[0;32m-> 1039\u001b[0;31m                                         validation_steps=validation_steps)\n\u001b[0m\u001b[1;32m   1040\u001b[0m \u001b[0;34m\u001b[0m\u001b[0m\n\u001b[1;32m   1041\u001b[0m     def evaluate(self, x=None, y=None,\n",
            "\u001b[0;32m/usr/local/lib/python3.6/dist-packages/keras/engine/training_arrays.py\u001b[0m in \u001b[0;36mfit_loop\u001b[0;34m(model, f, ins, out_labels, batch_size, epochs, verbose, callbacks, val_f, val_ins, shuffle, callback_metrics, initial_epoch, steps_per_epoch, validation_steps)\u001b[0m\n\u001b[1;32m    197\u001b[0m                     \u001b[0mins_batch\u001b[0m\u001b[0;34m[\u001b[0m\u001b[0mi\u001b[0m\u001b[0;34m]\u001b[0m \u001b[0;34m=\u001b[0m \u001b[0mins_batch\u001b[0m\u001b[0;34m[\u001b[0m\u001b[0mi\u001b[0m\u001b[0;34m]\u001b[0m\u001b[0;34m.\u001b[0m\u001b[0mtoarray\u001b[0m\u001b[0;34m(\u001b[0m\u001b[0;34m)\u001b[0m\u001b[0;34m\u001b[0m\u001b[0;34m\u001b[0m\u001b[0m\n\u001b[1;32m    198\u001b[0m \u001b[0;34m\u001b[0m\u001b[0m\n\u001b[0;32m--> 199\u001b[0;31m                 \u001b[0mouts\u001b[0m \u001b[0;34m=\u001b[0m \u001b[0mf\u001b[0m\u001b[0;34m(\u001b[0m\u001b[0mins_batch\u001b[0m\u001b[0;34m)\u001b[0m\u001b[0;34m\u001b[0m\u001b[0;34m\u001b[0m\u001b[0m\n\u001b[0m\u001b[1;32m    200\u001b[0m                 \u001b[0mouts\u001b[0m \u001b[0;34m=\u001b[0m \u001b[0mto_list\u001b[0m\u001b[0;34m(\u001b[0m\u001b[0mouts\u001b[0m\u001b[0;34m)\u001b[0m\u001b[0;34m\u001b[0m\u001b[0;34m\u001b[0m\u001b[0m\n\u001b[1;32m    201\u001b[0m                 \u001b[0;32mfor\u001b[0m \u001b[0ml\u001b[0m\u001b[0;34m,\u001b[0m \u001b[0mo\u001b[0m \u001b[0;32min\u001b[0m \u001b[0mzip\u001b[0m\u001b[0;34m(\u001b[0m\u001b[0mout_labels\u001b[0m\u001b[0;34m,\u001b[0m \u001b[0mouts\u001b[0m\u001b[0;34m)\u001b[0m\u001b[0;34m:\u001b[0m\u001b[0;34m\u001b[0m\u001b[0;34m\u001b[0m\u001b[0m\n",
            "\u001b[0;32m/usr/local/lib/python3.6/dist-packages/keras/backend/tensorflow_backend.py\u001b[0m in \u001b[0;36m__call__\u001b[0;34m(self, inputs)\u001b[0m\n\u001b[1;32m   2713\u001b[0m                 \u001b[0;32mreturn\u001b[0m \u001b[0mself\u001b[0m\u001b[0;34m.\u001b[0m\u001b[0m_legacy_call\u001b[0m\u001b[0;34m(\u001b[0m\u001b[0minputs\u001b[0m\u001b[0;34m)\u001b[0m\u001b[0;34m\u001b[0m\u001b[0;34m\u001b[0m\u001b[0m\n\u001b[1;32m   2714\u001b[0m \u001b[0;34m\u001b[0m\u001b[0m\n\u001b[0;32m-> 2715\u001b[0;31m             \u001b[0;32mreturn\u001b[0m \u001b[0mself\u001b[0m\u001b[0;34m.\u001b[0m\u001b[0m_call\u001b[0m\u001b[0;34m(\u001b[0m\u001b[0minputs\u001b[0m\u001b[0;34m)\u001b[0m\u001b[0;34m\u001b[0m\u001b[0;34m\u001b[0m\u001b[0m\n\u001b[0m\u001b[1;32m   2716\u001b[0m         \u001b[0;32melse\u001b[0m\u001b[0;34m:\u001b[0m\u001b[0;34m\u001b[0m\u001b[0;34m\u001b[0m\u001b[0m\n\u001b[1;32m   2717\u001b[0m             \u001b[0;32mif\u001b[0m \u001b[0mpy_any\u001b[0m\u001b[0;34m(\u001b[0m\u001b[0mis_tensor\u001b[0m\u001b[0;34m(\u001b[0m\u001b[0mx\u001b[0m\u001b[0;34m)\u001b[0m \u001b[0;32mfor\u001b[0m \u001b[0mx\u001b[0m \u001b[0;32min\u001b[0m \u001b[0minputs\u001b[0m\u001b[0;34m)\u001b[0m\u001b[0;34m:\u001b[0m\u001b[0;34m\u001b[0m\u001b[0;34m\u001b[0m\u001b[0m\n",
            "\u001b[0;32m/usr/local/lib/python3.6/dist-packages/keras/backend/tensorflow_backend.py\u001b[0m in \u001b[0;36m_call\u001b[0;34m(self, inputs)\u001b[0m\n\u001b[1;32m   2673\u001b[0m             \u001b[0mfetched\u001b[0m \u001b[0;34m=\u001b[0m \u001b[0mself\u001b[0m\u001b[0;34m.\u001b[0m\u001b[0m_callable_fn\u001b[0m\u001b[0;34m(\u001b[0m\u001b[0;34m*\u001b[0m\u001b[0marray_vals\u001b[0m\u001b[0;34m,\u001b[0m \u001b[0mrun_metadata\u001b[0m\u001b[0;34m=\u001b[0m\u001b[0mself\u001b[0m\u001b[0;34m.\u001b[0m\u001b[0mrun_metadata\u001b[0m\u001b[0;34m)\u001b[0m\u001b[0;34m\u001b[0m\u001b[0;34m\u001b[0m\u001b[0m\n\u001b[1;32m   2674\u001b[0m         \u001b[0;32melse\u001b[0m\u001b[0;34m:\u001b[0m\u001b[0;34m\u001b[0m\u001b[0;34m\u001b[0m\u001b[0m\n\u001b[0;32m-> 2675\u001b[0;31m             \u001b[0mfetched\u001b[0m \u001b[0;34m=\u001b[0m \u001b[0mself\u001b[0m\u001b[0;34m.\u001b[0m\u001b[0m_callable_fn\u001b[0m\u001b[0;34m(\u001b[0m\u001b[0;34m*\u001b[0m\u001b[0marray_vals\u001b[0m\u001b[0;34m)\u001b[0m\u001b[0;34m\u001b[0m\u001b[0;34m\u001b[0m\u001b[0m\n\u001b[0m\u001b[1;32m   2676\u001b[0m         \u001b[0;32mreturn\u001b[0m \u001b[0mfetched\u001b[0m\u001b[0;34m[\u001b[0m\u001b[0;34m:\u001b[0m\u001b[0mlen\u001b[0m\u001b[0;34m(\u001b[0m\u001b[0mself\u001b[0m\u001b[0;34m.\u001b[0m\u001b[0moutputs\u001b[0m\u001b[0;34m)\u001b[0m\u001b[0;34m]\u001b[0m\u001b[0;34m\u001b[0m\u001b[0;34m\u001b[0m\u001b[0m\n\u001b[1;32m   2677\u001b[0m \u001b[0;34m\u001b[0m\u001b[0m\n",
            "\u001b[0;32m/usr/local/lib/python3.6/dist-packages/tensorflow/python/client/session.py\u001b[0m in \u001b[0;36m__call__\u001b[0;34m(self, *args, **kwargs)\u001b[0m\n\u001b[1;32m   1437\u001b[0m           ret = tf_session.TF_SessionRunCallable(\n\u001b[1;32m   1438\u001b[0m               \u001b[0mself\u001b[0m\u001b[0;34m.\u001b[0m\u001b[0m_session\u001b[0m\u001b[0;34m.\u001b[0m\u001b[0m_session\u001b[0m\u001b[0;34m,\u001b[0m \u001b[0mself\u001b[0m\u001b[0;34m.\u001b[0m\u001b[0m_handle\u001b[0m\u001b[0;34m,\u001b[0m \u001b[0margs\u001b[0m\u001b[0;34m,\u001b[0m \u001b[0mstatus\u001b[0m\u001b[0;34m,\u001b[0m\u001b[0;34m\u001b[0m\u001b[0;34m\u001b[0m\u001b[0m\n\u001b[0;32m-> 1439\u001b[0;31m               run_metadata_ptr)\n\u001b[0m\u001b[1;32m   1440\u001b[0m         \u001b[0;32mif\u001b[0m \u001b[0mrun_metadata\u001b[0m\u001b[0;34m:\u001b[0m\u001b[0;34m\u001b[0m\u001b[0;34m\u001b[0m\u001b[0m\n\u001b[1;32m   1441\u001b[0m           \u001b[0mproto_data\u001b[0m \u001b[0;34m=\u001b[0m \u001b[0mtf_session\u001b[0m\u001b[0;34m.\u001b[0m\u001b[0mTF_GetBuffer\u001b[0m\u001b[0;34m(\u001b[0m\u001b[0mrun_metadata_ptr\u001b[0m\u001b[0;34m)\u001b[0m\u001b[0;34m\u001b[0m\u001b[0;34m\u001b[0m\u001b[0m\n",
            "\u001b[0;31mKeyboardInterrupt\u001b[0m: "
          ]
        }
      ]
    },
    {
      "metadata": {
        "id": "1iLmfPHaC2d8",
        "colab_type": "text"
      },
      "cell_type": "markdown",
      "source": [
        "<b> 5L)</b> Some possible conclusions. <a href=\"https://lms.mitx.mit.edu/courses/course-v1:MITx+6.036+2019_Spring/courseware/Week8/week8_homework/\">Refer to Catsoop.</a>"
      ]
    }
  ]
}